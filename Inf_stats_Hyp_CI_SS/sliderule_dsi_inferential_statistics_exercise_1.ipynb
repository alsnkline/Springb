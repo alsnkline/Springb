{
 "cells": [
  {
   "cell_type": "markdown",
   "metadata": {},
   "source": [
    "# What is the True Normal Human Body Temperature? \n",
    "\n",
    "#### Background\n",
    "\n",
    "The mean normal body temperature was held to be 37$^{\\circ}$C or 98.6$^{\\circ}$F for more than 120 years since it was first conceptualized and reported by Carl Wunderlich in a famous 1868 book. But, is this value statistically correct?"
   ]
  },
  {
   "cell_type": "markdown",
   "metadata": {},
   "source": [
    "<h3>Exercises</h3>\n",
    "\n",
    "<p>In this exercise, you will analyze a dataset of human body temperatures and employ the concepts of hypothesis testing, confidence intervals, and statistical significance.</p>\n",
    "\n",
    "<p>Answer the following questions <b>in this notebook below and submit to your Github account</b>.</p> \n",
    "\n",
    "<ol>\n",
    "<li>  Is the distribution of body temperatures normal? \n",
    "    <ul>\n",
    "    <li> Although this is not a requirement for the Central Limit Theorem to hold (read the introduction on Wikipedia's page about the CLT carefully: https://en.wikipedia.org/wiki/Central_limit_theorem), it gives us some peace of mind that the population may also be normally distributed if we assume that this sample is representative of the population.\n",
    "    <li> Think about the way you're going to check for the normality of the distribution. Graphical methods are usually used first, but there are also other ways: https://en.wikipedia.org/wiki/Normality_test\n",
    "    </ul>\n",
    "<li>  Is the sample size large? Are the observations independent?\n",
    "    <ul>\n",
    "    <li> Remember that this is a condition for the Central Limit Theorem, and hence the statistical tests we are using, to apply.\n",
    "    </ul>\n",
    "<li>  Is the true population mean really 98.6 degrees F?\n",
    "    <ul>\n",
    "    <li> First, try a bootstrap hypothesis test.\n",
    "    <li> Now, let's try frequentist statistical testing. Would you use a one-sample or two-sample test? Why?\n",
    "    <li> In this situation, is it appropriate to use the $t$ or $z$ statistic? \n",
    "    <li> Now try using the other test. How is the result be different? Why?\n",
    "    </ul>\n",
    "<li>  Draw a small sample of size 10 from the data and repeat both frequentist tests. \n",
    "    <ul>\n",
    "    <li> Which one is the correct one to use? \n",
    "    <li> What do you notice? What does this tell you about the difference in application of the $t$ and $z$ statistic?\n",
    "    </ul>\n",
    "<li>  At what temperature should we consider someone's temperature to be \"abnormal\"?\n",
    "    <ul>\n",
    "    <li> As in the previous example, try calculating everything using the boostrap approach, as well as the frequentist approach.\n",
    "    <li> Start by computing the margin of error and confidence interval. When calculating the confidence interval, keep in mind that you should use the appropriate formula for one draw, and not N draws.\n",
    "    </ul>\n",
    "<li>  Is there a significant difference between males and females in normal temperature?\n",
    "    <ul>\n",
    "    <li> What testing approach did you use and why?\n",
    "    <li> Write a story with your conclusion in the context of the original problem.\n",
    "    </ul>\n",
    "</ol>\n",
    "\n",
    "You can include written notes in notebook cells using Markdown: \n",
    "   - In the control panel at the top, choose Cell > Cell Type > Markdown\n",
    "   - Markdown syntax: http://nestacms.com/docs/creating-content/markdown-cheat-sheet\n",
    "\n",
    "#### Resources\n",
    "\n",
    "+ Information and data sources: http://www.amstat.org/publications/jse/datasets/normtemp.txt, http://www.amstat.org/publications/jse/jse_data_archive.htm\n",
    "+ Markdown syntax: http://nestacms.com/docs/creating-content/markdown-cheat-sheet\n",
    "\n",
    "****"
   ]
  },
  {
   "cell_type": "code",
   "execution_count": 37,
   "metadata": {
    "collapsed": true
   },
   "outputs": [],
   "source": [
    "import pandas as pd\n",
    "import numpy as np\n",
    "from scipy import stats\n",
    "import statsmodels.stats.weightstats as weightstats\n",
    "import matplotlib.pyplot as plt\n",
    "import seaborn as sns\n",
    "\n",
    "df = pd.read_csv('data/human_body_temperature.csv')"
   ]
  },
  {
   "cell_type": "code",
   "execution_count": 2,
   "metadata": {
    "collapsed": true
   },
   "outputs": [],
   "source": [
    "# Your work here."
   ]
  },
  {
   "cell_type": "markdown",
   "metadata": {},
   "source": [
    "## Q1: Is the distribution of body temperatures normal?"
   ]
  },
  {
   "cell_type": "code",
   "execution_count": 38,
   "metadata": {},
   "outputs": [
    {
     "name": "stdout",
     "output_type": "stream",
     "text": [
      "(130, 3)\n",
      "Max temp: 100.8, \n",
      "Min temp: 96.3\n"
     ]
    },
    {
     "data": {
      "text/html": [
       "<div>\n",
       "<style scoped>\n",
       "    .dataframe tbody tr th:only-of-type {\n",
       "        vertical-align: middle;\n",
       "    }\n",
       "\n",
       "    .dataframe tbody tr th {\n",
       "        vertical-align: top;\n",
       "    }\n",
       "\n",
       "    .dataframe thead th {\n",
       "        text-align: right;\n",
       "    }\n",
       "</style>\n",
       "<table border=\"1\" class=\"dataframe\">\n",
       "  <thead>\n",
       "    <tr style=\"text-align: right;\">\n",
       "      <th></th>\n",
       "      <th>temperature</th>\n",
       "      <th>gender</th>\n",
       "      <th>heart_rate</th>\n",
       "    </tr>\n",
       "  </thead>\n",
       "  <tbody>\n",
       "    <tr>\n",
       "      <th>0</th>\n",
       "      <td>99.3</td>\n",
       "      <td>F</td>\n",
       "      <td>68.0</td>\n",
       "    </tr>\n",
       "    <tr>\n",
       "      <th>1</th>\n",
       "      <td>98.4</td>\n",
       "      <td>F</td>\n",
       "      <td>81.0</td>\n",
       "    </tr>\n",
       "    <tr>\n",
       "      <th>2</th>\n",
       "      <td>97.8</td>\n",
       "      <td>M</td>\n",
       "      <td>73.0</td>\n",
       "    </tr>\n",
       "    <tr>\n",
       "      <th>3</th>\n",
       "      <td>99.2</td>\n",
       "      <td>F</td>\n",
       "      <td>66.0</td>\n",
       "    </tr>\n",
       "    <tr>\n",
       "      <th>4</th>\n",
       "      <td>98.0</td>\n",
       "      <td>F</td>\n",
       "      <td>73.0</td>\n",
       "    </tr>\n",
       "  </tbody>\n",
       "</table>\n",
       "</div>"
      ],
      "text/plain": [
       "   temperature gender  heart_rate\n",
       "0         99.3      F        68.0\n",
       "1         98.4      F        81.0\n",
       "2         97.8      M        73.0\n",
       "3         99.2      F        66.0\n",
       "4         98.0      F        73.0"
      ]
     },
     "execution_count": 38,
     "metadata": {},
     "output_type": "execute_result"
    }
   ],
   "source": [
    "print(df.shape)\n",
    "print('Max temp: {}, \\nMin temp: {}'.format(df.temperature.max(),df.temperature.min()))\n",
    "df.head()"
   ]
  },
  {
   "cell_type": "code",
   "execution_count": 4,
   "metadata": {},
   "outputs": [
    {
     "data": {
      "image/png": "[encoded data removed]",
      "text/plain": [
       "<Figure size 432x288 with 1 Axes>"
      ]
     },
     "metadata": {},
     "output_type": "display_data"
    }
   ],
   "source": [
    "# Plotting a simple histogram\n",
    "df.temperature.plot(kind='hist', bins=11)\n",
    "plt.show()"
   ]
  },
  {
   "cell_type": "code",
   "execution_count": 5,
   "metadata": {},
   "outputs": [
    {
     "data": {
      "text/html": [
       "<div>\n",
       "<style scoped>\n",
       "    .dataframe tbody tr th:only-of-type {\n",
       "        vertical-align: middle;\n",
       "    }\n",
       "\n",
       "    .dataframe tbody tr th {\n",
       "        vertical-align: top;\n",
       "    }\n",
       "\n",
       "    .dataframe thead th {\n",
       "        text-align: right;\n",
       "    }\n",
       "</style>\n",
       "<table border=\"1\" class=\"dataframe\">\n",
       "  <thead>\n",
       "    <tr style=\"text-align: right;\">\n",
       "      <th></th>\n",
       "      <th>temperature</th>\n",
       "    </tr>\n",
       "  </thead>\n",
       "  <tbody>\n",
       "    <tr>\n",
       "      <th>count</th>\n",
       "      <td>130.000000</td>\n",
       "    </tr>\n",
       "    <tr>\n",
       "      <th>mean</th>\n",
       "      <td>98.249231</td>\n",
       "    </tr>\n",
       "    <tr>\n",
       "      <th>std</th>\n",
       "      <td>0.733183</td>\n",
       "    </tr>\n",
       "    <tr>\n",
       "      <th>min</th>\n",
       "      <td>96.300000</td>\n",
       "    </tr>\n",
       "    <tr>\n",
       "      <th>25%</th>\n",
       "      <td>97.800000</td>\n",
       "    </tr>\n",
       "    <tr>\n",
       "      <th>50%</th>\n",
       "      <td>98.300000</td>\n",
       "    </tr>\n",
       "    <tr>\n",
       "      <th>75%</th>\n",
       "      <td>98.700000</td>\n",
       "    </tr>\n",
       "    <tr>\n",
       "      <th>max</th>\n",
       "      <td>100.800000</td>\n",
       "    </tr>\n",
       "  </tbody>\n",
       "</table>\n",
       "</div>"
      ],
      "text/plain": [
       "       temperature\n",
       "count   130.000000\n",
       "mean     98.249231\n",
       "std       0.733183\n",
       "min      96.300000\n",
       "25%      97.800000\n",
       "50%      98.300000\n",
       "75%      98.700000\n",
       "max     100.800000"
      ]
     },
     "execution_count": 5,
     "metadata": {},
     "output_type": "execute_result"
    }
   ],
   "source": [
    "df[['temperature']].describe()"
   ]
  },
  {
   "cell_type": "code",
   "execution_count": 6,
   "metadata": {},
   "outputs": [
    {
     "data": {
      "image/png": "[encoded data removed]",
      "text/plain": [
       "<Figure size 432x288 with 1 Axes>"
      ]
     },
     "metadata": {},
     "output_type": "display_data"
    }
   ],
   "source": [
    "# using scipy interpolate with a univariateSpline\n",
    "from scipy.interpolate import UnivariateSpline\n",
    "\n",
    "d = df.temperature\n",
    "n = 13\n",
    "p,x = np.histogram(d,bins=n)            \n",
    "x = x[:-1] + (x[1] - x[0])/2            # convert bin edges to centers\n",
    "f = UnivariateSpline(x, p, s=n)\n",
    "plt.plot(x, f(x), label='bins={}'.format(n))\n",
    "g = UnivariateSpline(x, p, s=len(d))\n",
    "plt.plot(x, g(x), label='smoothed')\n",
    "plt.legend(loc='upper right')\n",
    "plt.show()"
   ]
  },
  {
   "cell_type": "code",
   "execution_count": 7,
   "metadata": {},
   "outputs": [
    {
     "data": {
      "image/png": "[encoded data removed]",
      "text/plain": [
       "<Figure size 432x288 with 1 Axes>"
      ]
     },
     "metadata": {},
     "output_type": "display_data"
    }
   ],
   "source": [
    "# using stats' probability plot (very similar to a Q-Q plot, \n",
    "# (a probability plot compares a sample vs a theoretical distribution. A qq plot compares two samples.)\n",
    "from scipy import stats\n",
    "d = df.temperature\n",
    "fig, ax = plt.subplots()\n",
    "res = stats.probplot(d, plot=ax)\n",
    "plt.show()"
   ]
  },
  {
   "cell_type": "code",
   "execution_count": 8,
   "metadata": {},
   "outputs": [
    {
     "name": "stdout",
     "output_type": "stream",
     "text": [
      "Statistics=2.704, p=0.259\n",
      "Sample looks Gaussian (fail to reject H0)\n"
     ]
    }
   ],
   "source": [
    "# Using SciPy's normal test https://docs.scipy.org/doc/scipy/reference/generated/scipy.stats.normaltest.html\n",
    "k2,p = stats.mstats.normaltest(d)\n",
    "# How to interpret: https://stackoverflow.com/a/12839537/1215012\n",
    "print('Statistics=%.3f, p=%.3f' % (k2, p))\n",
    "# interpret\n",
    "alpha = 0.05\n",
    "if p > alpha:\n",
    "\tprint('Sample looks Gaussian (fail to reject H0)')\n",
    "else:\n",
    "\tprint('Sample does not look Gaussian (reject H0)')"
   ]
  },
  {
   "cell_type": "code",
   "execution_count": 9,
   "metadata": {
    "collapsed": true
   },
   "outputs": [],
   "source": [
    "def ecdf(data):\n",
    "    \"\"\"Compute ECDF for a one-dimensional array of measurements.\"\"\"\n",
    "    # Number of data points: n\n",
    "    n = len(data)\n",
    "\n",
    "    # x-data for the ECDF: x\n",
    "    x = np.sort(data)\n",
    "\n",
    "    # y-data for the ECDF: y\n",
    "    y = np.arange(1, n+1) / n\n",
    "\n",
    "    return x, y"
   ]
  },
  {
   "cell_type": "code",
   "execution_count": 10,
   "metadata": {},
   "outputs": [
    {
     "data": {
      "image/png": "[encoded data removed]",
      "text/plain": [
       "<Figure size 432x288 with 1 Axes>"
      ]
     },
     "metadata": {},
     "output_type": "display_data"
    }
   ],
   "source": [
    "temp = df.temperature\n",
    "x,y = ecdf(temp)\n",
    "mu, std = np.mean(temp), np.std(temp)\n",
    "samples = np.random.normal(mu, std, size=100000)\n",
    "x_theor, y_theor = ecdf(samples)\n",
    "\n",
    "_ = plt.plot(x_theor, y_theor)\n",
    "_ = plt.plot(x, y, marker='.', linestyle='none')\n",
    "_ = plt.xlabel('temperature')\n",
    "_ = plt.ylabel('CDF')\n",
    "plt.show()"
   ]
  },
  {
   "cell_type": "markdown",
   "metadata": {},
   "source": [
    "The temperature data is approximately normal in distribution.\n",
    "You can see this with a histogram plot with 11 bins.\n",
    "The second graph shows the fully smoothed data plotted against data grouped into 13 bins.\n",
    "The probability plot shows the temperature data transformed and plotted against the fitted normal line - it shows a good match.\n",
    "The normal test uses the D'Agostino's K^2 Test and is returning a p-value of 0.2587 so there is a 26% chance that we would get a chi-squared statistic that large (or larger) if our data were taken from a perfectly normal distribution. We can be confident with a statistical significance of 95% that the temperature data is from a normal distribution."
   ]
  },
  {
   "cell_type": "markdown",
   "metadata": {},
   "source": [
    "## Q2: Is the sample size large? Are the observations independent?"
   ]
  },
  {
   "cell_type": "code",
   "execution_count": 11,
   "metadata": {},
   "outputs": [
    {
     "name": "stdout",
     "output_type": "stream",
     "text": [
      "(130, 3)\n"
     ]
    }
   ],
   "source": [
    "print(df.shape)"
   ]
  },
  {
   "cell_type": "markdown",
   "metadata": {},
   "source": [
    "There are 130 sample points, this is greater than 30 so for many statistical purposes counts as large.\n",
    "\n",
    "It is also considerably less than 10% of the total human population therefore can be treated as an independent sample of individuals. The data also come from scientific papers that set out to look at a random sample of humans so we can assume both independence and randomness in the sample collection techniques used."
   ]
  },
  {
   "cell_type": "markdown",
   "metadata": {},
   "source": [
    "## Q3: Is the true population mean really 98.6 degrees F?"
   ]
  },
  {
   "cell_type": "code",
   "execution_count": 12,
   "metadata": {},
   "outputs": [
    {
     "data": {
      "text/html": [
       "<div>\n",
       "<style scoped>\n",
       "    .dataframe tbody tr th:only-of-type {\n",
       "        vertical-align: middle;\n",
       "    }\n",
       "\n",
       "    .dataframe tbody tr th {\n",
       "        vertical-align: top;\n",
       "    }\n",
       "\n",
       "    .dataframe thead th {\n",
       "        text-align: right;\n",
       "    }\n",
       "</style>\n",
       "<table border=\"1\" class=\"dataframe\">\n",
       "  <thead>\n",
       "    <tr style=\"text-align: right;\">\n",
       "      <th></th>\n",
       "      <th>temperature</th>\n",
       "      <th>heart_rate</th>\n",
       "    </tr>\n",
       "  </thead>\n",
       "  <tbody>\n",
       "    <tr>\n",
       "      <th>count</th>\n",
       "      <td>130.000000</td>\n",
       "      <td>130.000000</td>\n",
       "    </tr>\n",
       "    <tr>\n",
       "      <th>mean</th>\n",
       "      <td>98.249231</td>\n",
       "      <td>73.761538</td>\n",
       "    </tr>\n",
       "    <tr>\n",
       "      <th>std</th>\n",
       "      <td>0.733183</td>\n",
       "      <td>7.062077</td>\n",
       "    </tr>\n",
       "    <tr>\n",
       "      <th>min</th>\n",
       "      <td>96.300000</td>\n",
       "      <td>57.000000</td>\n",
       "    </tr>\n",
       "    <tr>\n",
       "      <th>25%</th>\n",
       "      <td>97.800000</td>\n",
       "      <td>69.000000</td>\n",
       "    </tr>\n",
       "    <tr>\n",
       "      <th>50%</th>\n",
       "      <td>98.300000</td>\n",
       "      <td>74.000000</td>\n",
       "    </tr>\n",
       "    <tr>\n",
       "      <th>75%</th>\n",
       "      <td>98.700000</td>\n",
       "      <td>79.000000</td>\n",
       "    </tr>\n",
       "    <tr>\n",
       "      <th>max</th>\n",
       "      <td>100.800000</td>\n",
       "      <td>89.000000</td>\n",
       "    </tr>\n",
       "  </tbody>\n",
       "</table>\n",
       "</div>"
      ],
      "text/plain": [
       "       temperature  heart_rate\n",
       "count   130.000000  130.000000\n",
       "mean     98.249231   73.761538\n",
       "std       0.733183    7.062077\n",
       "min      96.300000   57.000000\n",
       "25%      97.800000   69.000000\n",
       "50%      98.300000   74.000000\n",
       "75%      98.700000   79.000000\n",
       "max     100.800000   89.000000"
      ]
     },
     "execution_count": 12,
     "metadata": {},
     "output_type": "execute_result"
    }
   ],
   "source": [
    "df.describe()"
   ]
  },
  {
   "cell_type": "markdown",
   "metadata": {},
   "source": [
    "### Via a hacked normal statistics hypothesis test\n",
    "Here I create multiple true normal distribution via a random generator, setting the mean to the value we want to test and the standard deviation to what we see in our sample. I then randomly sample this and compare\n",
    "\n",
    "Steps:\n",
    "1. State hypothesis.\n",
    "2. Set the significance level.\n",
    "3. Choose the test statistic.\n",
    "4. Find the observed value of the test statistic.\n",
    "5. Find the p-value\n",
    "    1. re-sample the observed data with replacement many times to create bootstrapped samples\n",
    "    2. calculating mean for each bootstrapped sample, sample size match observed data\n",
    "    3. plot the generated samples mean\n",
    "6. Calculate how many of the samples have a mean of 98.2 or further into the tail to estimate p-value"
   ]
  },
  {
   "cell_type": "markdown",
   "metadata": {},
   "source": [
    "**The hypothesis**\n",
    "* H0 (null) '$98.6\\deg^F$ is the true mean temperature of the population'\n",
    "* Ha (alternate) 'The true mean of the temperature of the population is more or less than $98.6 \\deg^F$'\n",
    "\n",
    "Significance level: 5%\n",
    "\n",
    "Test statistic: We're looking at average temperature so we'll use mean.\n",
    "\n",
    "Observed value of test statistic: from describe() above mean of our data is = $98.2\\deg^F$"
   ]
  },
  {
   "cell_type": "code",
   "execution_count": 13,
   "metadata": {},
   "outputs": [
    {
     "data": {
      "image/png": "[encoded data removed]",
      "text/plain": [
       "<Figure size 432x288 with 1 Axes>"
      ]
     },
     "metadata": {},
     "output_type": "display_data"
    },
    {
     "name": "stdout",
     "output_type": "stream",
     "text": [
      "98.24923076923078 98.6\n"
     ]
    }
   ],
   "source": [
    "temp = df.temperature\n",
    "mu = np.mean(temp)\n",
    "muh0 = 98.6\n",
    "\n",
    "temp_shifted = df.temperature - mu + muh0\n",
    "size = 10000\n",
    "\n",
    "created_means = np.empty(size)\n",
    "for i in range(size):\n",
    "    created_means[i] = np.mean(np.random.choice(temp_shifted, size=len(temp_shifted)))\n",
    "    \n",
    "_ = plt.hist(created_means, bins=100, histtype='step')\n",
    "#_ = plt.hist(temp, bins=100, histtype='step')      # to view the raw data\n",
    "plt.show()\n",
    "print(mu, muh0)"
   ]
  },
  {
   "cell_type": "code",
   "execution_count": 14,
   "metadata": {},
   "outputs": [
    {
     "name": "stdout",
     "output_type": "stream",
     "text": [
      "Standard error of the mean: 0.0640566\n",
      "Standard diviation of the means of all the replicates: 0.0638959\n",
      "Bootstrapped statistics P-value is 0.0000000\n",
      "Sample does not indicate that the true population's mean could be 98.6 (reject H0)\n"
     ]
    }
   ],
   "source": [
    "# Compute and print SEM (standard Error of the Mean) of the main data sample\n",
    "sem = np.std(temp) / np.sqrt(len(temp))\n",
    "print('Standard error of the mean: {:.7f}'.format(sem))\n",
    "\n",
    "# Compute and print standard deviation of bootstrap replicates\n",
    "bs_std = np.std(created_means)\n",
    "print('Standard diviation of the means of all the replicates: {:.7f}'.format(bs_std))\n",
    "\n",
    "# calculating the probablity of getting a mean of 98.2\n",
    "p = np.sum(np.array(created_means)<=98.2)/len(created_means)\n",
    "print('Bootstrapped statistics P-value is {:.07f}'.format(p))\n",
    "# interpret\n",
    "alpha = 0.05\n",
    "if p > alpha:\n",
    "    print(\"Sample indicates that the true population's mean could be 98.6 (fail to reject H0)\")\n",
    "else:\n",
    "    print(\"Sample does not indicate that the true population's mean could be 98.6 (reject H0)\")"
   ]
  },
  {
   "cell_type": "code",
   "execution_count": 15,
   "metadata": {},
   "outputs": [
    {
     "name": "stdout",
     "output_type": "stream",
     "text": [
      "The actual number of samples where the mean came out to be 98.2 degF or less was 0\n",
      "The actual number of samples where the mean came out to be 98.3 degF or less was 0\n",
      "The actual number of samples where the mean came out to be 98.4 degF or less was 15\n"
     ]
    }
   ],
   "source": [
    "test_value = 98.2\n",
    "print('The actual number of samples where the mean came out to be {} degF or less was {}'.format(\n",
    "    test_value, np.sum(np.array(created_means)<=test_value)))\n",
    "print('The actual number of samples where the mean came out to be {} degF or less was {}'.format(\n",
    "    test_value+0.1, np.sum(np.array(created_means)<=test_value+0.1)))\n",
    "print('The actual number of samples where the mean came out to be {} degF or less was {}'.format(\n",
    "    test_value+0.2, np.sum(np.array(created_means)<=test_value+0.2)))"
   ]
  },
  {
   "cell_type": "markdown",
   "metadata": {
    "collapsed": true
   },
   "source": [
    "### Now, with a Frequentist statistical test. (First 't' test)"
   ]
  },
  {
   "cell_type": "markdown",
   "metadata": {
    "collapsed": true
   },
   "source": [
    "**Would you use a one-sample or two-sample test?**</br>\n",
    "As we have one sample of data I'll be running a one sample test, however I have defined Ha as the true mean temperature could be higher or lower than 98.6\\deg^F$' so it will be a two tail test.\n",
    "\n",
    "**In this situation, is it appropriate to use the t or z statistic?**</br>\n",
    "As I am measuring means on a population a t statistic is appropriate.\n",
    "A z test should also be valid as the sample size is much larger than 30."
   ]
  },
  {
   "cell_type": "code",
   "execution_count": 16,
   "metadata": {},
   "outputs": [
    {
     "name": "stdout",
     "output_type": "stream",
     "text": [
      "0.7331831580389454 0.7331831580389454\n"
     ]
    }
   ],
   "source": [
    "temp = df.temperature\n",
    "n = len(temp)\n",
    "mu = np.mean(temp)\n",
    "muh0 = 98.6\n",
    "alpha = 0.05\n",
    "cut = alpha/2    # as we are doing a two tailed test\n",
    "\n",
    "var_temp = temp.var(ddof=1)      # ddof = 'Delta Degrees of Freedom, the divisor used in calculating is N-ddof\n",
    "sd_temp = np.std(temp, ddof=1)\n",
    "print(sd_temp, np.sqrt(var_temp))\n",
    "# slight difference in calculated sd_temp when you compensate for sample under-estimation by using ddof=1"
   ]
  },
  {
   "cell_type": "code",
   "execution_count": 17,
   "metadata": {},
   "outputs": [
    {
     "name": "stdout",
     "output_type": "stream",
     "text": [
      "standard error = 0.064\n",
      "t = -5.45482329\n",
      "pt = 0.00000024\n"
     ]
    }
   ],
   "source": [
    "## Calculate the t-statistic\n",
    "standard_error = sd_temp/np.sqrt(n)\n",
    "t = (mu-muh0)/(standard_error)\n",
    "print('standard error = {:.3f}'.format(standard_error))\n",
    "\n",
    "## Compare with the critical t-value\n",
    "#Degrees of freedom\n",
    "deg_free = n - 1\n",
    "# p-value after comparison with the t (as t is neg its the left tail so no need to be (1-stats.t.cdf(t,df=deg_free))\n",
    "# can use t.sf(x, df) is the survival function (i.e. it is 1 - t.cdf(x, df)).\n",
    "\n",
    "pt = 2*(1 - stats.t.cdf(abs(t),df=deg_free))    # *2 for the two tail nature of this test\n",
    "\n",
    "print(\"t = {:.8f}\".format(t))\n",
    "print(\"pt = {:.8f}\".format(pt))"
   ]
  },
  {
   "cell_type": "code",
   "execution_count": 18,
   "metadata": {},
   "outputs": [
    {
     "name": "stdout",
     "output_type": "stream",
     "text": [
      "t = -5.45482329\n",
      "pt = 0.00000024\n"
     ]
    }
   ],
   "source": [
    "## Cross Checking with the internal scipy function\n",
    "#t2, p2 = stats.ttest_ind(a,b)  # 2-sample\n",
    "t1, pt1 = stats.ttest_1samp(temp, muh0)       # 1-sample two sided test\n",
    "print(\"t = {:.8f}\".format(t1))\n",
    "print(\"pt = {:.8f}\".format(pt1))"
   ]
  },
  {
   "cell_type": "code",
   "execution_count": 19,
   "metadata": {},
   "outputs": [
    {
     "name": "stdout",
     "output_type": "stream",
     "text": [
      "Sample does not indicate that the true population's mean could be 98.6 (reject H0)\n"
     ]
    }
   ],
   "source": [
    "if pt > cut:\n",
    "    print(\"Sample indicates that the true population's mean could be 98.6 (fail to reject H0)\")\n",
    "else:\n",
    "    print(\"Sample does not indicate that the true population's mean could be 98.6 (reject H0)\")"
   ]
  },
  {
   "cell_type": "markdown",
   "metadata": {},
   "source": [
    "### Repeating with a 'z' test"
   ]
  },
  {
   "cell_type": "code",
   "execution_count": 20,
   "metadata": {},
   "outputs": [
    {
     "name": "stdout",
     "output_type": "stream",
     "text": [
      "z = -5.45482329\n",
      "pz = 0.00000005\n"
     ]
    }
   ],
   "source": [
    "## Calculate the z-statistic\n",
    "z = (mu-muh0)/(sd_temp/np.sqrt(n))\n",
    "\n",
    "## Compare with the critical z-value\n",
    "# p-value after comparison with the t (as t is neg its the left tail so no need to be (1-stats.t.cdf(t,df=deg_free))\n",
    "# can use t.sf(x, df) is the survival function (i.e. it is 1 - t.cdf(x, df)).\n",
    "\n",
    "pz = 2*(1 - stats.norm.cdf(abs(z)))    # *2 for the two tail nature of this test\n",
    "\n",
    "print(\"z = {:.8f}\".format(z))\n",
    "print(\"pz = {:.8f}\".format(pz))"
   ]
  },
  {
   "cell_type": "code",
   "execution_count": 21,
   "metadata": {},
   "outputs": [
    {
     "name": "stdout",
     "output_type": "stream",
     "text": [
      "z = -5.45482329\n",
      "pz = 0.00000005\n"
     ]
    }
   ],
   "source": [
    "## Cross Checking with the statsmodels ztest function\n",
    "z1, pz1 = weightstats.ztest(temp, value=muh0)\n",
    "print(\"z = {:.8f}\".format(z1))\n",
    "print(\"pz = {:.8f}\".format(pz1))"
   ]
  },
  {
   "cell_type": "code",
   "execution_count": 22,
   "metadata": {},
   "outputs": [
    {
     "name": "stdout",
     "output_type": "stream",
     "text": [
      "p value calculated with the t test is 4.92 times bigger than that calculated with the z test\n"
     ]
    }
   ],
   "source": [
    "print('p value calculated with the t test is {:.2f} times bigger than that calculated with the z test'.format(pt/pz))"
   ]
  },
  {
   "cell_type": "markdown",
   "metadata": {},
   "source": [
    "both pz and pt values are much smaller than the two tail alpha ie 0.05 so both will cause the null hypothesis to be rejected."
   ]
  },
  {
   "cell_type": "markdown",
   "metadata": {},
   "source": [
    "## Q4: Draw a small sample of size 10 from the data and repeat both frequentist tests.\n",
    "-  Which one is the correct one to use?\n",
    "-  What do you notice? \n",
    "-  What does this tell you about the difference in application of the  t  and  z  statistic?"
   ]
  },
  {
   "cell_type": "code",
   "execution_count": 23,
   "metadata": {},
   "outputs": [
    {
     "name": "stdout",
     "output_type": "stream",
     "text": [
      "[ 98.3  97.7  98.8  97.2  97.9 100.   98.   97.2  98.   96.7]\n"
     ]
    }
   ],
   "source": [
    "temp = df.temperature\n",
    "small_sample = np.random.choice(temp, size=10)\n",
    "muh0 = 98.6\n",
    "print(small_sample)"
   ]
  },
  {
   "cell_type": "code",
   "execution_count": 24,
   "metadata": {},
   "outputs": [
    {
     "name": "stdout",
     "output_type": "stream",
     "text": [
      "t = -2.10657550\n",
      "pt = 0.06442699\n"
     ]
    }
   ],
   "source": [
    "## Running a one sample t-test 2 tailed with the internal scipy function\n",
    "t1, pt1 = stats.ttest_1samp(small_sample, muh0)       # 1-sample two sided test\n",
    "print(\"t = {:.8f}\".format(t1))\n",
    "print(\"pt = {:.8f}\".format(pt1))"
   ]
  },
  {
   "cell_type": "code",
   "execution_count": 26,
   "metadata": {},
   "outputs": [
    {
     "name": "stdout",
     "output_type": "stream",
     "text": [
      "z = -2.10657550\n",
      "pz = 0.03515439\n"
     ]
    }
   ],
   "source": [
    "## running a one sample z-test 2 tailed with the statsmodels ztest function\n",
    "z1, pz1 = weightstats.ztest(small_sample, value=muh0)\n",
    "print(\"z = {:.8f}\".format(z1))\n",
    "print(\"pz = {:.8f}\".format(pz1))"
   ]
  },
  {
   "cell_type": "code",
   "execution_count": 27,
   "metadata": {},
   "outputs": [
    {
     "name": "stdout",
     "output_type": "stream",
     "text": [
      "p value calculated with the t test is 1.83 times bigger than that calculated with the z test\n"
     ]
    }
   ],
   "source": [
    "print('p value calculated with the t test is {:.2f} times bigger than that calculated with the z test'.format(pt1/pz1))"
   ]
  },
  {
   "cell_type": "markdown",
   "metadata": {},
   "source": [
    "With n=10 both tests calculate a p value that is larger than alpha 95% and so with this small a sample size we keep the null hypothesis concluding that the true pop mean may be 98.6\n",
    "\n",
    "With a small sample sizes $p$ calculations come out much larger - so for more accurate statistics you need larger samples whenever possible.\n",
    "\n",
    "z stats are over estimating the confidence we have in our hypothesis making it more likely we reject the null hypothesis and potentially make an error. For small sample sizes and mean test statistics a t-test should be used."
   ]
  },
  {
   "cell_type": "markdown",
   "metadata": {},
   "source": [
    "## Q5: At what temperature should we consider someone's temperature to be \"abnormal\"?\n",
    "As in the previous example, try calculating everything using the boostrap approach, as well as the frequentist approach.\n",
    "\n",
    "Start by computing the margin of error and confidence interval. When calculating the confidence interval, keep in mind that you should use the appropriate formula for one draw, and not N draws."
   ]
  },
  {
   "cell_type": "markdown",
   "metadata": {},
   "source": [
    "A data point can be considered unusual (an outlier if its z-score is above or below 3)"
   ]
  },
  {
   "cell_type": "code",
   "execution_count": 4,
   "metadata": {},
   "outputs": [
    {
     "name": "stdout",
     "output_type": "stream",
     "text": [
      "A true outlier would have a p-value of 0.003 ie be outside the 99.87% range\n"
     ]
    }
   ],
   "source": [
    "z_score = 3\n",
    "z_star = stats.norm.cdf(z_score)\n",
    "print('A true outlier would have a p-value of {:.3f} ie be outside the {:.2f}% range'.format(2*(1-z_star),z_star*100))"
   ]
  },
  {
   "cell_type": "markdown",
   "metadata": {},
   "source": [
    "### Using Bootstrapping to calculate the confidence interval of the mean of the full sample at different confidence levels"
   ]
  },
  {
   "cell_type": "code",
   "execution_count": 6,
   "metadata": {},
   "outputs": [
    {
     "name": "stdout",
     "output_type": "stream",
     "text": [
      "Standard error of the mean: 0.06406\n",
      "Standard deviation of the means of all the replicates: 0.06449\n",
      "90% Confidence interval: [98.14692307692309, 98.36157692307692], margin of error: 0.107\n",
      "95% Confidence interval: [98.12307692307692, 98.3753846153846], margin of error: 0.126\n",
      "99% Confidence interval: [98.09459230769231, 98.41077307692306], margin of error: 0.158\n",
      "3 sigma conf interval 99.87%: [98.06001277467135, 98.42390360132987], margin of error: 0.182\n"
     ]
    },
    {
     "data": {
      "image/png": "[encoded data removed]",
      "text/plain": [
       "<Figure size 1440x576 with 1 Axes>"
      ]
     },
     "metadata": {},
     "output_type": "display_data"
    }
   ],
   "source": [
    "temp = df.temperature\n",
    "\n",
    "bs_repeats = 1000\n",
    "# Take bootstrap replicates of the mean: bs_replicates\n",
    "bs_rep = np.empty(bs_repeats)\n",
    "for i in range(bs_repeats):\n",
    "    bs_rep[i] = np.mean(np.random.choice(temp, size=len(temp)))\n",
    "\n",
    "# Compute and print SEM (standard Error of the Mean)\n",
    "sem = np.std(temp) / np.sqrt(len(temp))\n",
    "print('Standard error of the mean: {:.5f}'.format(sem))\n",
    "\n",
    "# Compute and print standard deviation of bootstrap replicates\n",
    "bs_std = np.std(bs_rep)\n",
    "print('Standard deviation of the means of all the replicates: {:.5f}'.format(bs_std))\n",
    "# Make a histogram of the results\n",
    "plt.rcParams[\"figure.figsize\"] = (20,8)\n",
    "_ = plt.hist(bs_rep, bins=50, density=True, alpha=0.5)\n",
    "_ = plt.hist(temp, bins=50, density=True, alpha=0.5)\n",
    "_ = plt.xlabel('Human temperatures')\n",
    "_ = plt.ylabel('PDF')\n",
    "     \n",
    "ntl, ntu = np.percentile(bs_rep, [5,95])\n",
    "nfl, nfu = np.percentile(bs_rep, [2.5,97.5])\n",
    "nol, nou = np.percentile(bs_rep, [0.5,99.5])\n",
    "tsl, tsu = np.percentile(bs_rep, [(100-(z_star*100)),z_star*100])\n",
    "\n",
    "# confidence interval from percentiles of normed curve\n",
    "print('90% Confidence interval: {}, margin of error: {:.3f}'.format([ntl, ntu], (ntu-ntl)/2))\n",
    "print('95% Confidence interval: {}, margin of error: {:.3f}'.format([nfl, nfu], (nfu-nfl)/2))\n",
    "print('99% Confidence interval: {}, margin of error: {:.3f}'.format([nol, nou], (nou-nol)/2))\n",
    "\n",
    "print('3 sigma conf interval {:.2f}%: {}, margin of error: {:.3f}'.format((z_star*100),[tsl, tsu],(tsu-tsl)/2))\n",
    "\n",
    "plt.axvline(x=nfl, color='y')\n",
    "plt.axvline(x=nfu, color='y')\n",
    "plt.annotate('95% conf int', xy=(nfu, 4), xytext=(98.52, 6), arrowprops={'color':'y', 'width':1.5, 'headwidth':8})           \n",
    "# adds the word 'setosa at point 5.0, 3.5'\n",
    "plt.axvline(x=tsl, color='r')\n",
    "plt.axvline(x=tsu, color='r')\n",
    "plt.annotate('3 sigma 99.87% conf int', xy=(tsu, 1.5), xytext=(98.52, 3), arrowprops={\n",
    "    'color':'r', 'width':1.5, 'headwidth':8})\n",
    "\n",
    "plt.show()\n"
   ]
  },
  {
   "cell_type": "markdown",
   "metadata": {},
   "source": [
    "Notice how the Confidence interval of the mean doesn't include the majority of the actual sample and so can't be used to indicate abnormality of temperatures - its looking at the mean not the range. We need to use the prediction interval instead [see this notebook](https://github.com/ScottWPiraino/Springboard_Data_Science/blob/master/EDA/body_temp/ci_vs_pi.ipynb)"
   ]
  },
  {
   "cell_type": "markdown",
   "metadata": {},
   "source": [
    "~~### Calculating directly from frequentist techniques~~ - this is CI of mean not prediction interval"
   ]
  },
  {
   "cell_type": "code",
   "execution_count": 67,
   "metadata": {},
   "outputs": [
    {
     "name": "stdout",
     "output_type": "stream",
     "text": [
      "z_star for 2 tail 95.0% confidence is:-1.960\n",
      "Margin of error: -0.12603\n",
      "confidence interval is : [98.37526511 98.12319643]\n"
     ]
    }
   ],
   "source": [
    "temp = df.temperature\n",
    "confidence_level = 0.95     # using the common 95% conf level\n",
    "tail_2_ci = (1-confidence_level)/2\n",
    "z_star = stats.norm.ppf(tail_2_ci)\n",
    "print('z_star for 2 tail {}% confidence is:{:.3f}'.format(confidence_level*100, z_star))\n",
    "\n",
    "sd = temp.std()\n",
    "n = len(temp)\n",
    "# margin of error\n",
    "margin_of_error = z_star * sd / np.sqrt(n)\n",
    "print('Margin of error: {:.5f}'.format(margin_of_error))\n",
    "\n",
    "mean = temp.mean()\n",
    "confidence_int = mean + np.array([-1, 1]) * margin_of_error\n",
    "print('confidence interval is : {}'.format(confidence_int))"
   ]
  },
  {
   "cell_type": "code",
   "execution_count": 53,
   "metadata": {},
   "outputs": [
    {
     "name": "stdout",
     "output_type": "stream",
     "text": [
      "t = 2.32069237\n",
      "pt = 0.02187268\n"
     ]
    }
   ],
   "source": [
    "individual_temp = 98.1\n",
    "## Running the calculations using the internal scipy t-test functions\n",
    "t1, pt1 = stats.ttest_1samp(temp, individual_temp)       # 1-sample two sided test\n",
    "print(\"t = {:.8f}\".format(t1))\n",
    "print(\"pt = {:.8f}\".format(pt1))"
   ]
  },
  {
   "cell_type": "markdown",
   "metadata": {
    "collapsed": true
   },
   "source": [
    "~~By comparing this individuals p-value to a two tail 95% critical value (0.025), you will assume this individual has an abnormal temperature as 0.022 is smaller than 0.025.~~\n",
    "\n",
    "~~If however you decide that 3 sigma or p-value = 1-0.9987 = 0.0013 is the better indicator of abnormal temperature you will conclude that this individual is not sick, as 0.022 is bigger than 0.0013 - here I didn't divide by 2 for a two tail test as perhaps you are only worried about this individual being abnormally cold.~~\n",
    "- this is CI of mean not prediction interval"
   ]
  },
  {
   "cell_type": "markdown",
   "metadata": {},
   "source": [
    "## Using a prediction interval to figure out abnormal temperature ranges\n",
    "\n",
    "Using 2 tail 95% confidence interval and t statistics "
   ]
  },
  {
   "cell_type": "code",
   "execution_count": 30,
   "metadata": {},
   "outputs": [
    {
     "name": "stdout",
     "output_type": "stream",
     "text": [
      "The 95% confidence interval for the mean of the population is     98.122 to 98.376\n",
      "This is not a good estimate for where abnormal temperatures falls as most of the sample are actually outside it.\n"
     ]
    }
   ],
   "source": [
    "# t-based confidence interval\n",
    "crit_t = stats.t.ppf(0.975, len(df.temperature) - 1)\n",
    "temp_sem = df.temperature.std()/(np.sqrt(len(df.temperature)))\n",
    "ci_width = crit_t * temp_sem\n",
    "[cil, ciu] = df.temperature.mean() + np.array([-1, 1]) * ci_width\n",
    "print('The 95% confidence interval for the mean of the population is     {:.5} to {:.5}'.format(cil,ciu))\n",
    "print('This is not a good estimate for where abnormal temperatures falls as most of the sample are actually outside it.')"
   ]
  },
  {
   "cell_type": "code",
   "execution_count": 31,
   "metadata": {},
   "outputs": [
    {
     "name": "stdout",
     "output_type": "stream",
     "text": [
      "The 95% prediction interval for the of the population is         96.793 to 99.705\n"
     ]
    }
   ],
   "source": [
    "# t-based prediction interval \n",
    "pi_width = crit_t * df.temperature.std() * np.sqrt((1 + 1/(len(df.temperature))))\n",
    "[pil, piu] = df.temperature.mean() + np.array([-1, 1]) * pi_width\n",
    "print('The 95% prediction interval for the of the population is         {:.5} to {:.5}'.format(pil,piu))"
   ]
  },
  {
   "cell_type": "code",
   "execution_count": 106,
   "metadata": {},
   "outputs": [
    {
     "name": "stdout",
     "output_type": "stream",
     "text": [
      "The 95% prediction interval for the of the population is         96.812 to 99.686\n"
     ]
    }
   ],
   "source": [
    "# using https://stackoverflow.com/a/28243282/1215012 SO answer as guidance - and the single draw equation\n",
    "[snl, snu] = stats.norm.interval(0.95, loc=df.temperature.mean(), scale=df.temperature.std(ddof=1))\n",
    "print('The 95% prediction interval for the of the population is         {:.5} to {:.5}'.format(snl, snu))"
   ]
  },
  {
   "cell_type": "code",
   "execution_count": 108,
   "metadata": {},
   "outputs": [
    {
     "name": "stderr",
     "output_type": "stream",
     "text": [
      "/Users/alisonkline/anaconda3/lib/python3.6/site-packages/matplotlib/axes/_axes.py:6462: UserWarning: The 'normed' kwarg is deprecated, and has been replaced by the 'density' kwarg.\n",
      "  warnings.warn(\"The 'normed' kwarg is deprecated, and has been \"\n",
      "/Users/alisonkline/anaconda3/lib/python3.6/site-packages/matplotlib/axes/_axes.py:6462: UserWarning: The 'normed' kwarg is deprecated, and has been replaced by the 'density' kwarg.\n",
      "  warnings.warn(\"The 'normed' kwarg is deprecated, and has been \"\n"
     ]
    },
    {
     "data": {
      "image/png": "[encoded data removed]",
      "text/plain": [
       "<Figure size 1440x288 with 2 Axes>"
      ]
     },
     "metadata": {},
     "output_type": "display_data"
    }
   ],
   "source": [
    "sns.set()\n",
    "plt.rcParams[\"figure.figsize\"] = (20,4)\n",
    "fig, (ax1,ax2) = plt.subplots(1,2)\n",
    "sns.distplot(df.temperature, bins = 15, rug = True, ax=ax1)\n",
    "ax1.plot([cil,cil] , [0.6, 0], linewidth = 2, color = \"k\")\n",
    "ax1.plot([ciu,ciu], [0.6, 0], linewidth = 2, color = \"k\")\n",
    "ax1.set_title('Confidence interval of the population mean 95% confident 2 tail t statitics')\n",
    "\n",
    "sns.distplot(df.temperature, bins = 15, rug = True, ax=ax2)\n",
    "ax2.plot([pil,pil], [0.6, 0], linewidth = 2, color = \"k\")\n",
    "ax2.plot([piu,piu], [0.6, 0], linewidth = 2, color = \"k\")\n",
    "ax2.plot([snl,snl], [0.6, 0], linewidth = 1, color = \"r\")\n",
    "ax2.plot([snu,snu], [0.6, 0], linewidth = 1, color = \"r\")\n",
    "ax2.set_title('Prediction interval for expected next observation 95% confident 2 tail t statitics')\n",
    "plt.show()"
   ]
  },
  {
   "cell_type": "markdown",
   "metadata": {},
   "source": [
    "### Error discussion\n",
    "Type 1 errors mean that we reject the null hypothesis when we should have kept it. In the case of testing a particular individual's temperature against 'normal temperatures' the H0 = Their temperature is x% confident to be in the normal range. If we reject H0 we may start to treat a healthy person.\n",
    "\n",
    "If we make a Type II error we fail to reject the H0 when the person is really sick, and don't treat them - so they may get sicker!\n",
    "\n",
    "Depending upon the treatment both errors could be bad!"
   ]
  },
  {
   "cell_type": "markdown",
   "metadata": {
    "collapsed": true
   },
   "source": [
    "## Q6. Is there a significant difference between males and females in normal temperature?\n",
    "- What testing approach did you use and why?\n",
    "- Write a story with your conclusion in the context of the original problem.\n",
    "\n",
    "I'm going to complete a 2 sample hypothesis test using a t statistic as there are two independent samples males and females, we are interested in the difference of the mean of the populations."
   ]
  },
  {
   "cell_type": "markdown",
   "metadata": {},
   "source": [
    "- Null Hypothesis: The mean temperatures of Males and Female humans are the same  $\\mu_M - \\mu_F = 0$\n",
    "- Alt hypothesis: There is a difference in the population means $\\mu_M - \\mu_F \\neq 0$\n",
    "- Setting alpha= 0.05 as I want to be 95% confidence in my conclusion"
   ]
  },
  {
   "cell_type": "code",
   "execution_count": 48,
   "metadata": {},
   "outputs": [
    {
     "name": "stdout",
     "output_type": "stream",
     "text": [
      "we have 65 observations of men, and 65 observations of women\n"
     ]
    },
    {
     "data": {
      "image/png": "[encoded data removed]",
      "text/plain": [
       "<Figure size 1440x288 with 1 Axes>"
      ]
     },
     "metadata": {},
     "output_type": "display_data"
    }
   ],
   "source": [
    "temp_males = df.loc[df.gender == 'M', 'temperature']\n",
    "temp_females = df.loc[df.gender == 'F', 'temperature']\n",
    "n = len(temp_males)\n",
    "m = len(temp_females)\n",
    "print('we have {} observations of men, and {} observations of women'.format(n,m))\n",
    "\n",
    "temp_males.plot(kind='hist', bins=11, alpha=0.5, label='males')\n",
    "temp_females.plot(kind='hist', bins=11, alpha=0.5, label='females')\n",
    "plt.legend()\n",
    "plt.show()"
   ]
  },
  {
   "cell_type": "markdown",
   "metadata": {},
   "source": [
    "Assumption checking:\n",
    " - our sample has been randomly chosen\n",
    " - n is larger than 30 for both populations so assuming normal\n",
    " - independence our samples are less than 10% of the population of humans"
   ]
  },
  {
   "cell_type": "code",
   "execution_count": 102,
   "metadata": {},
   "outputs": [
    {
     "name": "stdout",
     "output_type": "stream",
     "text": [
      "variance of males = 0.4807479, \n",
      "variance of females = 0.5442698\n",
      "degrees of freedom : 127.51\n",
      "Test_statistic  = -2.285435, \n",
      "the test critical value is 1.978743\n",
      "p value of this Test statistic: 0.02393826\n",
      "\n",
      "Sample does not indicate that the two population's mean are equal (reject H0) with 95% confidence\n"
     ]
    }
   ],
   "source": [
    "# Assuming the null hypothesis means we can combine both groups\n",
    "var_m = np.var(temp_males, ddof=1)\n",
    "var_f =np.var(temp_females, ddof=1)\n",
    "sd_combined = np.sqrt(var_m/n+var_f/m)\n",
    "\n",
    "test_stat = (np.mean(temp_males) - np.mean(temp_females))/sd_combined\n",
    "print('variance of males = {:.7}, \\nvariance of females = {:.7}'.format(np.var(temp_males), np.var(temp_females)))\n",
    "\n",
    "# at 95% two tail alpha=0.05 giving 0.025 in each tail and an area to left of crit_t of 0.975\n",
    "ddof = (var_m/n+var_f/m)**2 / ((var_m/n)**2/(n-1) + (var_f/m)**2/(m-1))\n",
    "#dof = (avar/na + bvar/nb)**2 / (avar**2/(na**2*adof) + bvar**2/(nb**2*bdof))\n",
    "crit_t = stats.t.ppf(0.975, ddof)\n",
    "print('degrees of freedom : {:.5}'.format(ddof))\n",
    "\n",
    "print('Test_statistic  = {:.7}, \\nthe test critical value is {:.7}'.format(test_stat, crit_t))\n",
    "\n",
    "p_val = 2*stats.t.sf(abs(test_stat), df=ddof)\n",
    "print('p value of this Test statistic: {:.7}'.format(p_val))\n",
    "\n",
    "if p_val > 0.05:\n",
    "    print(\"\\nSample indicates that the two population's mean are the same (fail to reject H0)\")\n",
    "else:\n",
    "    print(\"\\nSample does not indicate that the two population's mean are equal (reject H0) with 95% confidence\")"
   ]
  },
  {
   "cell_type": "code",
   "execution_count": 91,
   "metadata": {},
   "outputs": [
    {
     "name": "stdout",
     "output_type": "stream",
     "text": [
      "calculated t-statistic: -2.285435\n",
      "with p value: 0.02393826\n"
     ]
    }
   ],
   "source": [
    "t, pt = stats.ttest_ind(temp_males, temp_females, equal_var = False)       # 2-sample two sided test from samples\n",
    "print('calculated t-statistic: {:.7}'.format(t))\n",
    "print('with p value: {:.7}'.format(pt))"
   ]
  },
  {
   "cell_type": "code",
   "execution_count": 100,
   "metadata": {},
   "outputs": [
    {
     "name": "stdout",
     "output_type": "stream",
     "text": [
      "calculated t-statistic: -2.285435\n",
      "with p value: 0.02393826\n"
     ]
    }
   ],
   "source": [
    "mean_m = np.mean(temp_males)\n",
    "mean_f = np.mean(temp_females)\n",
    "\n",
    "# 2-sample two sided test from sample statistics only\n",
    "t2,pt2 = stats.ttest_ind_from_stats(mean_m, np.sqrt(var_m), n, mean_f, np.sqrt(var_f), m, equal_var=False)\n",
    "print('calculated t-statistic: {:.7}'.format(t2))\n",
    "print('with p value: {:.7}'.format(pt2))"
   ]
  },
  {
   "cell_type": "code",
   "execution_count": null,
   "metadata": {
    "collapsed": true
   },
   "outputs": [],
   "source": []
  }
 ],
 "metadata": {
  "kernelspec": {
   "display_name": "Python 3",
   "language": "python",
   "name": "python3"
  },
  "language_info": {
   "codemirror_mode": {
    "name": "ipython",
    "version": 3
   },
   "file_extension": ".py",
   "mimetype": "text/x-python",
   "name": "python",
   "nbconvert_exporter": "python",
   "pygments_lexer": "ipython3",
   "version": "3.6.2"
  }
 },
 "nbformat": 4,
 "nbformat_minor": 1
}
