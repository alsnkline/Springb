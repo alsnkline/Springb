{
 "cells": [
  {
   "cell_type": "markdown",
   "metadata": {},
   "source": [
    "# Examining Racial Discrimination in the US Job Market\n",
    "\n",
    "### Background\n",
    "Racial discrimination continues to be pervasive in cultures throughout the world. Researchers examined the level of racial discrimination in the United States labor market by randomly assigning identical résumés to black-sounding or white-sounding names and observing the impact on requests for interviews from employers.\n",
    "\n",
    "### Data\n",
    "In the dataset provided, each row represents a resume. The 'race' column has two values, 'b' and 'w', indicating black-sounding and white-sounding. The column 'call' has two values, 1 and 0, indicating whether the resume received a call from employers or not.\n",
    "\n",
    "Note that the 'b' and 'w' values in race are assigned randomly to the resumes when presented to the employer."
   ]
  },
  {
   "cell_type": "markdown",
   "metadata": {},
   "source": [
    "<div class=\"span5 alert alert-info\">\n",
    "### Exercises\n",
    "You will perform a statistical analysis to establish whether race has a significant impact on the rate of callbacks for resumes.\n",
    "\n",
    "Answer the following questions **in this notebook below and submit to your Github account**. \n",
    "\n",
    "   1. What test is appropriate for this problem? Does CLT apply?\n",
    "   2. What are the null and alternate hypotheses?\n",
    "   3. Compute margin of error, confidence interval, and p-value. Try using both the bootstrapping and the frequentist statistical approaches.\n",
    "   4. Write a story describing the statistical significance in the context or the original problem.\n",
    "   5. Does your analysis mean that race/name is the most important factor in callback success? Why or why not? If not, how would you amend your analysis?\n",
    "\n",
    "You can include written notes in notebook cells using Markdown: \n",
    "   - In the control panel at the top, choose Cell > Cell Type > Markdown\n",
    "   - Markdown syntax: http://nestacms.com/docs/creating-content/markdown-cheat-sheet\n",
    "\n",
    "\n",
    "#### Resources\n",
    "+ Experiment information and data source: http://www.povertyactionlab.org/evaluation/discrimination-job-market-united-states\n",
    "+ Scipy statistical methods: http://docs.scipy.org/doc/scipy/reference/stats.html \n",
    "+ Markdown syntax: http://nestacms.com/docs/creating-content/markdown-cheat-sheet\n",
    "+ Formulas for the Bernoulli distribution: https://en.wikipedia.org/wiki/Bernoulli_distribution\n",
    "</div>\n",
    "****"
   ]
  },
  {
   "cell_type": "code",
   "execution_count": 1,
   "metadata": {
    "collapsed": true
   },
   "outputs": [],
   "source": [
    "import pandas as pd\n",
    "import numpy as np\n",
    "from scipy import stats\n",
    "import statsmodels.stats.proportion as props\n",
    "\n",
    "import matplotlib.pyplot as plt\n",
    "import seaborn as sns"
   ]
  },
  {
   "cell_type": "code",
   "execution_count": 2,
   "metadata": {
    "collapsed": true
   },
   "outputs": [],
   "source": [
    "data = pd.io.stata.read_stata('data/us_job_market_discrimination.dta')"
   ]
  },
  {
   "cell_type": "code",
   "execution_count": 3,
   "metadata": {},
   "outputs": [
    {
     "name": "stdout",
     "output_type": "stream",
     "text": [
      "(4870, 65)\n",
      "235.0\n",
      "157.0\n"
     ]
    }
   ],
   "source": [
    "print(data.shape)\n",
    "# number of callbacks for black-sounding names\n",
    "print(sum(data[data.race=='w'].call))\n",
    "print(sum(data[data.race=='b'].call))"
   ]
  },
  {
   "cell_type": "code",
   "execution_count": 4,
   "metadata": {},
   "outputs": [
    {
     "name": "stdout",
     "output_type": "stream",
     "text": [
      "For white sounding names\n",
      "     Number of names: 2435\n",
      "     Number of call backs: 235.0\n",
      "     Number of fails: 2200\n",
      "For black sounding names\n",
      "     Number of names: 2435\n",
      "     Number of call backs: 157.0\n",
      "     Number of fails: 2278\n"
     ]
    },
    {
     "data": {
      "text/html": [
       "<div>\n",
       "<style scoped>\n",
       "    .dataframe tbody tr th:only-of-type {\n",
       "        vertical-align: middle;\n",
       "    }\n",
       "\n",
       "    .dataframe tbody tr th {\n",
       "        vertical-align: top;\n",
       "    }\n",
       "\n",
       "    .dataframe thead th {\n",
       "        text-align: right;\n",
       "    }\n",
       "</style>\n",
       "<table border=\"1\" class=\"dataframe\">\n",
       "  <thead>\n",
       "    <tr style=\"text-align: right;\">\n",
       "      <th></th>\n",
       "      <th>id</th>\n",
       "      <th>call</th>\n",
       "      <th>race</th>\n",
       "      <th>firstname</th>\n",
       "    </tr>\n",
       "  </thead>\n",
       "  <tbody>\n",
       "    <tr>\n",
       "      <th>0</th>\n",
       "      <td>b</td>\n",
       "      <td>0.0</td>\n",
       "      <td>w</td>\n",
       "      <td>Allison</td>\n",
       "    </tr>\n",
       "    <tr>\n",
       "      <th>1</th>\n",
       "      <td>b</td>\n",
       "      <td>0.0</td>\n",
       "      <td>w</td>\n",
       "      <td>Kristen</td>\n",
       "    </tr>\n",
       "    <tr>\n",
       "      <th>4</th>\n",
       "      <td>b</td>\n",
       "      <td>0.0</td>\n",
       "      <td>w</td>\n",
       "      <td>Carrie</td>\n",
       "    </tr>\n",
       "    <tr>\n",
       "      <th>5</th>\n",
       "      <td>b</td>\n",
       "      <td>0.0</td>\n",
       "      <td>w</td>\n",
       "      <td>Jay</td>\n",
       "    </tr>\n",
       "    <tr>\n",
       "      <th>6</th>\n",
       "      <td>b</td>\n",
       "      <td>0.0</td>\n",
       "      <td>w</td>\n",
       "      <td>Jill</td>\n",
       "    </tr>\n",
       "  </tbody>\n",
       "</table>\n",
       "</div>"
      ],
      "text/plain": [
       "  id  call race firstname\n",
       "0  b   0.0    w   Allison\n",
       "1  b   0.0    w   Kristen\n",
       "4  b   0.0    w    Carrie\n",
       "5  b   0.0    w       Jay\n",
       "6  b   0.0    w      Jill"
      ]
     },
     "execution_count": 4,
     "metadata": {},
     "output_type": "execute_result"
    }
   ],
   "source": [
    "print('For white sounding names')\n",
    "print('     Number of names: {}'.format(len(data.loc[data.race == 'w'])))\n",
    "print('     Number of call backs: {}'.format(sum(data[data.race=='w'].call)))\n",
    "print('     Number of fails: {}'.format(len(data.loc[(data.call == 0) & (data.race=='w')])))\n",
    "print('For black sounding names')\n",
    "print('     Number of names: {}'.format(len(data.loc[data.race == 'b'])))\n",
    "print('     Number of call backs: {}'.format(sum(data[data.race=='b'].call)))\n",
    "print('     Number of fails: {}'.format(len(data.loc[(data.call == 0) & (data.race=='b')])))\n",
    "data.loc[(data.call == 0) & (data.race=='w'),['id','call','race','firstname']].head()\n",
    "#data.columns"
   ]
  },
  {
   "cell_type": "markdown",
   "metadata": {
    "collapsed": true
   },
   "source": [
    "<div class=\"span5 alert alert-success\">\n",
    "<p>Your answers to Q1 and Q2 here</p>\n",
    "</div>"
   ]
  },
  {
   "cell_type": "markdown",
   "metadata": {},
   "source": [
    "## Q1 What test is appropriate for this problem? Does CLT apply?"
   ]
  },
  {
   "cell_type": "markdown",
   "metadata": {},
   "source": [
    "This needs a two sample, population proportion using z statistics.\n",
    "\n",
    "The sample size is 2435 for both white and black sounding names.\n",
    " - The proportion of white sounding names that got call backs (ie were successful) = 235/2435\n",
    " - The proportion of black sounding names that got call backs (ie were successful) = 157/2435\n",
    "\n",
    "We want to know if this difference in proportion is statistically significant - might it have been seen in our sample by chance.\n",
    "\n",
    "Conditions for statistical significance test:\n",
    " - The Random condition - race was assigned randomly\n",
    " - The Independence condition - sample less than 10% of population - n is less than 10% of the population \n",
    " - The Normal condition - np and n(1-p) both need to be >= 10 ie at least 10 failures and 10 successes (calculate assuming H0 is correct) - our data has more than 10 success' and failures in each group.\n",
    "\n",
    "The CLT is not relevant here as we are dealing with a population proportion not a mean."
   ]
  },
  {
   "cell_type": "markdown",
   "metadata": {},
   "source": [
    "## Q2 What are the null and alternate hypotheses?"
   ]
  },
  {
   "cell_type": "markdown",
   "metadata": {},
   "source": [
    "- Null Hypothesis: The proportion of call backs received by black and white sounding names is the same ie $p_w-p_b = 0$\n",
    "- Alt Hypothesis: The proportion of call backs received by black is lower than by whites (1 tail) ie $p_w-p_b > 0$\n",
    "\n",
    "I'll use a 95% confidence interval or alpha of 0.95"
   ]
  },
  {
   "cell_type": "markdown",
   "metadata": {},
   "source": [
    "## Q3 Compute margin of error, confidence interval, and p-value. \n",
    "Try using both the bootstrapping and the frequentist statistical approaches."
   ]
  },
  {
   "cell_type": "code",
   "execution_count": 5,
   "metadata": {},
   "outputs": [],
   "source": [
    "w = data[data.race=='w']\n",
    "b = data[data.race=='b']"
   ]
  },
  {
   "cell_type": "code",
   "execution_count": 6,
   "metadata": {
    "collapsed": true
   },
   "outputs": [],
   "source": [
    "# Your solution to Q3 here"
   ]
  },
  {
   "cell_type": "markdown",
   "metadata": {},
   "source": [
    "<div class=\"span5 alert alert-success\">\n",
    "<p> Your answers to Q4 and Q5 here </p>\n",
    "</div>"
   ]
  },
  {
   "cell_type": "markdown",
   "metadata": {},
   "source": [
    "## Using Frequentist approach, (from first principles)"
   ]
  },
  {
   "cell_type": "code",
   "execution_count": 7,
   "metadata": {},
   "outputs": [
    {
     "name": "stdout",
     "output_type": "stream",
     "text": [
      "For w mean/proportion: 0.09651, success :235.0, n : 2435, standard deviation: 0.087195\n",
      "For b mean/proportion: 0.06448, success :157.0, n : 2435, standard deviation: 0.060319\n",
      "\n",
      "For combined mean/proportion: 0.08049, success :392.0, n : 4870, standard deviation: 0.074014\n"
     ]
    }
   ],
   "source": [
    "# calculating standard stats for the populations\n",
    "calls_w = sum(data[data.race=='w'].call)\n",
    "calls_b = sum(data[data.race=='b'].call)\n",
    "\n",
    "p_w = calls_w/len(w)\n",
    "sd_w = p_w * (1-p_w)\n",
    "\n",
    "p_b = calls_b/len(b)\n",
    "sd_b = p_b * (1-p_b)\n",
    "\n",
    "print('For w mean/proportion: {:.4}, success :{}, n : {}, standard deviation: {:.5}'.format(\n",
    "    p_w, calls_w, len(w), sd_w))\n",
    "print('For b mean/proportion: {:.4}, success :{}, n : {}, standard deviation: {:.5}'.format(\n",
    "    p_b, calls_b, len(b), sd_b))\n",
    "\n",
    "p_comb = (calls_b+calls_w)/(len(b)+len(w))\n",
    "print('\\nFor combined mean/proportion: {:.4}, success :{}, n : {}, standard deviation: {:.5}'.format(\n",
    "    p_comb, calls_b+calls_w, len(b)+len(w),p_comb* (1-p_comb)))"
   ]
  },
  {
   "cell_type": "code",
   "execution_count": 8,
   "metadata": {},
   "outputs": [
    {
     "name": "stdout",
     "output_type": "stream",
     "text": [
      "Observed difference in proportion of call backs: 0.032033\n",
      "The standard error: 0.0077834\n",
      "\n",
      "crit_z at 1 tail 95% confidence: 1.6449\n",
      "\n",
      "The difference in proportion of people reciving call backs: 0.03203 +/- 0.0128\n",
      "With 95% confidence interval for the proportion of w - proportion of b is 0.01923 to 0.04484\n",
      "\n",
      "the margin of error on our observation at 95% confidence (1 tail) is 0.0128\n",
      "test statistic (z-score): 4.1084\n",
      "p value: 0.000020\n"
     ]
    }
   ],
   "source": [
    "# calculating standard stats distributions of any x samples from the original pop\n",
    "pbar_w = p_w\n",
    "var_pbar_w = (p_w*(1-p_w))/len(w)\n",
    "sd_pbar_w = np.sqrt(var_pbar_w)\n",
    "\n",
    "pbar_b = p_b\n",
    "var_pbar_b = (p_b*(1-p_b))/len(b)\n",
    "sd_pbar_b = np.sqrt(var_pbar_b)\n",
    "\n",
    "# We are interested in p_w-p_b\n",
    "p_pwpb = p_w - p_b\n",
    "print('Observed difference in proportion of call backs: {:.5}'.format(p_pwpb))\n",
    "sd_pwpb = np.sqrt(var_pbar_w + var_pbar_b)\n",
    "print('The standard error: {:.5}'.format(sd_pwpb))\n",
    "\n",
    "crit_z = stats.norm.ppf(0.95)\n",
    "print('\\ncrit_z at 1 tail 95% confidence: {:.5}'.format(crit_z))\n",
    "[ciu,cil] = crit_z*sd_pwpb*np.array([-1,1])\n",
    "print('\\nThe difference in proportion of people reciving call backs: {:.4} +/- {:.4}'.format(\n",
    "    p_pwpb, crit_z*sd_pwpb))\n",
    "print('With 95% confidence interval for the proportion of w - proportion of b is {:.4} to {:.4}'.format(\n",
    "    p_pwpb+ciu,p_pwpb+cil))\n",
    "print('\\nthe margin of error on our observation at 95% confidence (1 tail) is {:.4}'.format(crit_z*sd_pwpb))\n",
    "\n",
    "p_comb = (calls_w+calls_b)/(len(w)+len(b))\n",
    "z_test = (p_pwpb-0)/np.sqrt((p_comb*(1-p_comb))/len(w) + (p_comb*(1-p_comb))/len(b))\n",
    "print('test statistic (z-score): {:.5}'.format(z_test))\n",
    "print('p value: {:.6f}'.format(stats.norm.sf(abs(z_test))))"
   ]
  },
  {
   "cell_type": "markdown",
   "metadata": {},
   "source": [
    "The fact that 0 is outside the 95% confidence interval, and the p-value is way below the 95% confidence critical z value of 1.96 indicates that these results are statistically significant and it is highly unlikely that we would see the difference in proportions by chance"
   ]
  },
  {
   "cell_type": "markdown",
   "metadata": {},
   "source": [
    "## Using Frequentist approach, (using pre-built tests)\n",
    "(using statsmodels.stats.proportion.proportions_ztest)"
   ]
  },
  {
   "cell_type": "code",
   "execution_count": 9,
   "metadata": {},
   "outputs": [
    {
     "name": "stdout",
     "output_type": "stream",
     "text": [
      "test statistic (z-score, calculated using proportions_ztest()): 4.1084\n",
      "p value: 0.000020\n"
     ]
    }
   ],
   "source": [
    "(z_test2, p2) = props.proportions_ztest([calls_w, calls_b],[len(w),len(b)],\n",
    "                                        alternative='larger')\n",
    "print('test statistic (z-score, calculated using proportions_ztest()): {:.5}'.format(z_test2))\n",
    "print('p value: {:.6f}'.format(p2))\n"
   ]
  },
  {
   "cell_type": "markdown",
   "metadata": {},
   "source": [
    "## Using Frequentist approach, (using Bootstrapping)\n",
    "Using a permutation test - ie sampling a random assignment of 'race' to the results and then comparing how many times our bootstrapped sample gets 157 or less call backs"
   ]
  },
  {
   "cell_type": "code",
   "execution_count": 10,
   "metadata": {},
   "outputs": [],
   "source": [
    "def draw_perm_reps(data_1, data_2, func, size=1):\n",
    "    \"\"\"Generate multiple permutation replicates.\"\"\"\n",
    "    data = np.concatenate((data_1, data_2))\n",
    "    perm_reps = np.empty(size)\n",
    "    for i in range(size):\n",
    "        permuted_data = np.random.permutation(data)\n",
    "        p_sam_1, p_sam_2 = permuted_data[:len(data_1)], permuted_data[len(data_1):]\n",
    "        perm_reps[i] = func(p_sam_1, p_sam_2)\n",
    "    return perm_reps"
   ]
  },
  {
   "cell_type": "code",
   "execution_count": 11,
   "metadata": {},
   "outputs": [
    {
     "name": "stdout",
     "output_type": "stream",
     "text": [
      "Our observed data showed 78.0 difference in call backs\n"
     ]
    },
    {
     "data": {
      "image/png": "[encoded data removed]",
      "text/plain": [
       "<Figure size 720x432 with 1 Axes>"
      ]
     },
     "metadata": {},
     "output_type": "display_data"
    }
   ],
   "source": [
    "def diff_in_calls(data_1, data_2):\n",
    "    return np.sum(data_1)-np.sum(data_2)\n",
    "\n",
    "empirical_obs = diff_in_calls(w.call, b.call)\n",
    "print('Our observed data showed {} difference in call backs'.format(empirical_obs))\n",
    "\n",
    "perm_reps_cd = draw_perm_reps(w.call, b.call, diff_in_calls, 100000)\n",
    "\n",
    "plt.rcParams[\"figure.figsize\"] = (10,6)\n",
    "fig, ax = plt.subplots()\n",
    "ax.hist(perm_reps_cd, density=True, bins=24)\n",
    "ax.axvline(empirical_obs, color='red')\n",
    "ax.set_xlabel('Test-statistic (diff in # of call backs)')\n",
    "ax.set_ylabel('PDF')\n",
    "plt.show()"
   ]
  },
  {
   "cell_type": "code",
   "execution_count": 12,
   "metadata": {},
   "outputs": [
    {
     "name": "stdout",
     "output_type": "stream",
     "text": [
      "p-value = 0.00003\n",
      "3 bootstraped replications had as or more extreme a result than our observed result\n"
     ]
    }
   ],
   "source": [
    "# Compute p-value: p\n",
    "p_cd = np.sum(perm_reps_cd >= empirical_obs) / len(perm_reps_cd)\n",
    "print('p-value = {:.5f}'.format(p_cd))\n",
    "print('{} bootstraped replications had as or more extreme a result than our observed result'.format(\n",
    "    np.sum(perm_reps_cd >= empirical_obs)))"
   ]
  },
  {
   "cell_type": "code",
   "execution_count": 13,
   "metadata": {},
   "outputs": [
    {
     "name": "stdout",
     "output_type": "stream",
     "text": [
      "The standard error of our bootstrapped data is 18.95\n",
      "\n",
      "crit_z at 2 tail 95% confidence: 1.96\n",
      "The margin of error at 95% confidence: 37.14\n",
      "\n",
      "If H0 is true and there is no difference between the populations with 95% confidence we expect: 0 +/- 37.145\n",
      "With 95% confidence interval for the proportion of w - proportion of b is -37.14 to 37.14\n"
     ]
    }
   ],
   "source": [
    "std_err_cd = np.std(perm_reps_cd)\n",
    "print('The standard error of our bootstrapped data is {:.4}'.format(std_err_cd))\n",
    "\n",
    "crit_z = stats.norm.ppf(0.975)\n",
    "print('\\ncrit_z at 2 tail 95% confidence: {:.5}'.format(crit_z))\n",
    "\n",
    "nf_moe_cd = crit_z*std_err_cd\n",
    "print('The margin of error at 95% confidence: {:.4}'.format(nf_moe_cd))\n",
    "\n",
    "[ciu_c,cil_c] = nf_moe_cd*np.array([-1,1])\n",
    "print('\\nIf H0 is true and there is no difference between the populations with 95% confidence we expect: {} +/- {:.5}'.format(\n",
    "    0, nf_moe_cd))\n",
    "print('With 95% confidence interval for the proportion of w - proportion of b is {:.4} to {:.4}'.format(\n",
    "    0+ciu_c,0+cil_c))"
   ]
  },
  {
   "cell_type": "markdown",
   "metadata": {},
   "source": [
    "## Repeating the bootstrap analysis using the proportion statistic rather than absolute calls"
   ]
  },
  {
   "cell_type": "code",
   "execution_count": 14,
   "metadata": {},
   "outputs": [
    {
     "name": "stdout",
     "output_type": "stream",
     "text": [
      "Our observed data showed 0.032033 difference in call backs\n"
     ]
    },
    {
     "data": {
      "image/png": "[encoded data removed]",
      "text/plain": [
       "<Figure size 720x432 with 1 Axes>"
      ]
     },
     "metadata": {},
     "output_type": "display_data"
    }
   ],
   "source": [
    "def diff_in_proportion_of_calls(data_1, data_2):\n",
    "    return np.sum(data_1)/len(data_1)-np.sum(data_2)/len(data_2)\n",
    "\n",
    "empirical_obs = diff_in_proportion_of_calls(w.call, b.call)\n",
    "print('Our observed data showed {:.5} difference in call backs'.format(empirical_obs))\n",
    "\n",
    "perm_reps = draw_perm_reps(w.call, b.call, diff_in_proportion_of_calls, 100000)\n",
    "\n",
    "fig, ax = plt.subplots()\n",
    "ax.hist(perm_reps, density=True, bins=24)\n",
    "ax.axvline(empirical_obs, color='red')\n",
    "ax.set_xlabel('Test-statistic (diff in proportion of call backs)')\n",
    "ax.set_ylabel('PDF')\n",
    "plt.show()"
   ]
  },
  {
   "cell_type": "code",
   "execution_count": 15,
   "metadata": {},
   "outputs": [
    {
     "name": "stdout",
     "output_type": "stream",
     "text": [
      "p-value = 0.00000\n",
      "0 bootstraped replications had as or more extreme a result than our observed result\n"
     ]
    }
   ],
   "source": [
    "# Compute p-value: p\n",
    "p = np.sum(perm_reps >= empirical_obs) / len(perm_reps)\n",
    "print('p-value = {:.5f}'.format(p))\n",
    "print('{} bootstraped replications had as or more extreme a result than our observed result'.format(\n",
    "    np.sum(perm_reps >= empirical_obs)))"
   ]
  },
  {
   "cell_type": "code",
   "execution_count": 16,
   "metadata": {},
   "outputs": [
    {
     "name": "stdout",
     "output_type": "stream",
     "text": [
      "The standard error of our bootstrapped data is 0.0078151\n",
      "Z-score for our observation: inf\n",
      "\n",
      "crit_z at 1 tail 95% confidence: 1.645\n",
      "The margin of error at 95% confidence: 0.01285\n",
      "\n",
      "If H0 is true and there is no difference between the populations with 95% confidence we expect: 0 +/- 0.01285\n",
      "With 95% confidence interval for the proportion of w - proportion of b is -0.01285 to 0.01285\n"
     ]
    }
   ],
   "source": [
    "std_err = np.std(perm_reps)\n",
    "print('The standard error of our bootstrapped data is {:.5}'.format(std_err))\n",
    "\n",
    "z_score = stats.norm.ppf(p)\n",
    "print('Z-score for our observation: {:.4}'.format(abs(z_score)))\n",
    "\n",
    "crit_z = stats.norm.ppf(0.95)\n",
    "print('\\ncrit_z at 1 tail 95% confidence: {:.4}'.format(crit_z))\n",
    "\n",
    "nf_moe = crit_z*std_err\n",
    "print('The margin of error at 95% confidence: {:.4}'.format(nf_moe))\n",
    "\n",
    "\n",
    "[ciu,cil] = nf_moe*np.array([-1,1])\n",
    "print('\\nIf H0 is true and there is no difference between the populations with 95% confidence we expect: {} +/- {:.4}'.format(\n",
    "    0, nf_moe))\n",
    "print('With 95% confidence interval for the proportion of w - proportion of b is {:.4} to {:.4}'.format(\n",
    "    0+ciu,0+cil))"
   ]
  },
  {
   "cell_type": "markdown",
   "metadata": {},
   "source": [
    "## Q4 Write a story describing the statistical significance in the context or the original problem."
   ]
  },
  {
   "cell_type": "markdown",
   "metadata": {},
   "source": [
    "Finding a job is hard. Just getting noticed and being given a chance to impress is hard - your resume has to shine. But thankfully we live in a meritocracy, so long as I work hard, write a great summary of what I've done in my resume, the best person for a job will be chosen.\n",
    "\n",
    "This data set out to test that assumption. Resumes were put together and sent to employers, just before sending the first name of the potential employee was selected, randomly assigning a 'black' sounding name or a 'white' sounding name. If we truly live in a meritocracy the name of the applicant will have no effect on the proportion of resumes being selected for the next round - or getting a 'call'. \n",
    "\n",
    "The proportion with 'white' names - the proportion with 'black' names will be 0.\n",
    "\n",
    "So what did we find?"
   ]
  },
  {
   "cell_type": "code",
   "execution_count": 17,
   "metadata": {},
   "outputs": [
    {
     "name": "stdout",
     "output_type": "stream",
     "text": [
      "Observed difference in call back rate: 0.03203\n"
     ]
    },
    {
     "data": {
      "text/html": [
       "<div>\n",
       "<style scoped>\n",
       "    .dataframe tbody tr th:only-of-type {\n",
       "        vertical-align: middle;\n",
       "    }\n",
       "\n",
       "    .dataframe tbody tr th {\n",
       "        vertical-align: top;\n",
       "    }\n",
       "\n",
       "    .dataframe thead th {\n",
       "        text-align: right;\n",
       "    }\n",
       "</style>\n",
       "<table border=\"1\" class=\"dataframe\">\n",
       "  <thead>\n",
       "    <tr style=\"text-align: right;\">\n",
       "      <th></th>\n",
       "      <th># resumes sent</th>\n",
       "      <th># call backs</th>\n",
       "      <th>as a proportion</th>\n",
       "      <th>Std deviation</th>\n",
       "    </tr>\n",
       "  </thead>\n",
       "  <tbody>\n",
       "    <tr>\n",
       "      <th>White sounding names</th>\n",
       "      <td>2435</td>\n",
       "      <td>235.0</td>\n",
       "      <td>0.096509</td>\n",
       "      <td>0.087195</td>\n",
       "    </tr>\n",
       "    <tr>\n",
       "      <th>Black sounding names</th>\n",
       "      <td>2435</td>\n",
       "      <td>157.0</td>\n",
       "      <td>0.064476</td>\n",
       "      <td>0.060319</td>\n",
       "    </tr>\n",
       "  </tbody>\n",
       "</table>\n",
       "</div>"
      ],
      "text/plain": [
       "                      # resumes sent  # call backs  as a proportion  \\\n",
       "White sounding names            2435         235.0         0.096509   \n",
       "Black sounding names            2435         157.0         0.064476   \n",
       "\n",
       "                      Std deviation  \n",
       "White sounding names       0.087195  \n",
       "Black sounding names       0.060319  "
      ]
     },
     "execution_count": 17,
     "metadata": {},
     "output_type": "execute_result"
    }
   ],
   "source": [
    "print('Observed difference in call back rate: {:.5f}'.format(p_w - p_b))\n",
    "pd.DataFrame({'# resumes sent':[len(w), len(b)],\n",
    "              '# call backs':[calls_w, calls_b],\n",
    "              'as a proportion':[p_w, p_b],\n",
    "              'Std deviation':[sd_w,sd_b]}, index=['White sounding names','Black sounding names'])"
   ]
  },
  {
   "cell_type": "markdown",
   "metadata": {},
   "source": [
    "our resumes with white sounding names received 235-157 = **78** more calls\n",
    "\n",
    "But is this difference statistically significant or is it easily possible for this difference to have occurred by pure chance?\n",
    "\n",
    "To find out we ran a 2 sample statistical z test this is a test where we assumed that the difference in the call back proportion is 0, then take two random sample populations (b & w) and calculated the proportion of people getting calls in these new samples and hence the difference. We calculate the test statistic. We do this many many times or in fact use the mathematically derived formulas for calculating the distribution of our test statistic we will see. We then plot the actual observed value - ie the 78 call difference we measured and see how likely it is to happen."
   ]
  },
  {
   "cell_type": "code",
   "execution_count": 18,
   "metadata": {},
   "outputs": [
    {
     "data": {
      "image/png": "[encoded data removed]",
      "text/plain": [
       "<Figure size 720x432 with 1 Axes>"
      ]
     },
     "metadata": {},
     "output_type": "display_data"
    },
    {
     "name": "stdout",
     "output_type": "stream",
     "text": [
      "test statistic (z-score, calculated using proportions_ztest()): 4.1084\n",
      "p value: 0.000020\n"
     ]
    }
   ],
   "source": [
    "fig, ax = plt.subplots()\n",
    "ax.hist(perm_reps, density=True, bins=24)\n",
    "ax.axvline(empirical_obs, color='red')\n",
    "ax.axvline(nf_moe, color='y')\n",
    "ax.set_xlabel('Test-statistic (diff in proportion of call backs)')\n",
    "ax.set_ylabel('PDF')\n",
    "ax.set_title('Distribution of diff between two random popuation call back proportions, with our observation')\n",
    "plt.annotate('Observed call back proportion difference', xy=((p_w - p_b), 20), xytext=(0.04, 25), arrowprops={\n",
    "    'color':'r', 'width':1.5, 'headwidth':8})\n",
    "plt.annotate('95% confident (1-tail) call back proportion difference assuming the difference is actually 0', xy=(\n",
    "    (nf_moe), 30), xytext=(0.04, 45), arrowprops={\n",
    "    'color':'y', 'width':1.5, 'headwidth':8})\n",
    "plt.show()\n",
    "\n",
    "\n",
    "(z_test2, p2) = props.proportions_ztest([calls_w, calls_b],[len(w),len(b)],\n",
    "                                        alternative='larger')\n",
    "print('test statistic (z-score, calculated using proportions_ztest()): {:.5}'.format(z_test2))\n",
    "print('p value: {:.6f}'.format(p2))"
   ]
  },
  {
   "cell_type": "markdown",
   "metadata": {},
   "source": [
    "In statistical terms this is more than 4 standard deviations from the mean and so is highly un-likely to have happened by chance. We can be 95% confident that this result could not have happen by pure chance. Applicants with black sounding names are less likely to be called into interview than applicants with white sounding names."
   ]
  },
  {
   "cell_type": "markdown",
   "metadata": {},
   "source": [
    "## Q5: Does your analysis mean that race/name is the most important factor in callback success? \n",
    "Why or why not? \n",
    "If not, how would you amend your analysis?"
   ]
  },
  {
   "cell_type": "markdown",
   "metadata": {},
   "source": [
    "The analysis I completed didn't look at any factor other than race and call back rate, so no conclusion can be drawn about relative importance of this factor to any other factor. We assumed that the same resumes were sent with just the name changed - ie properly (identically) matched pairs of resumes, however that was not actually confirmed as part of the experimental design. If other factors such as experience or prior work history were not correctly controlled for we could easily draw incorrect assumptions."
   ]
  },
  {
   "cell_type": "markdown",
   "metadata": {},
   "source": [
    "To explore these other factors further more reading/exploration of the data collection methodology could be completed as well as exploration of some of the other factors in the data set and how they correlate with the call back rate also."
   ]
  },
  {
   "cell_type": "code",
   "execution_count": 19,
   "metadata": {},
   "outputs": [
    {
     "data": {
      "image/png": "[encoded data removed]",
      "text/plain": [
       "<Figure size 1080x1080 with 2 Axes>"
      ]
     },
     "metadata": {},
     "output_type": "display_data"
    }
   ],
   "source": [
    "plt.rcParams[\"figure.figsize\"] = (15,15)\n",
    "# calculate the correlation matrix\n",
    "df_corr = data\n",
    "df_corr['b_name'] = 0\n",
    "df_corr.loc[data.race == 'b','b_name'] = 1\n",
    "\n",
    "corr = df_corr.corr()\n",
    "\n",
    "# plot the heatmap\n",
    "sns.heatmap(corr, \n",
    "        xticklabels=corr.columns,\n",
    "        yticklabels=corr.columns, cmap='coolwarm')\n",
    "plt.show()"
   ]
  },
  {
   "cell_type": "code",
   "execution_count": 23,
   "metadata": {},
   "outputs": [
    {
     "data": {
      "text/html": [
       "<div>\n",
       "<style scoped>\n",
       "    .dataframe tbody tr th:only-of-type {\n",
       "        vertical-align: middle;\n",
       "    }\n",
       "\n",
       "    .dataframe tbody tr th {\n",
       "        vertical-align: top;\n",
       "    }\n",
       "\n",
       "    .dataframe thead th {\n",
       "        text-align: right;\n",
       "    }\n",
       "</style>\n",
       "<table border=\"1\" class=\"dataframe\">\n",
       "  <thead>\n",
       "    <tr style=\"text-align: right;\">\n",
       "      <th></th>\n",
       "      <th>b_name</th>\n",
       "      <th>call</th>\n",
       "    </tr>\n",
       "  </thead>\n",
       "  <tbody>\n",
       "    <tr>\n",
       "      <th>b_name</th>\n",
       "      <td>1.00000</td>\n",
       "      <td>-0.05887</td>\n",
       "    </tr>\n",
       "    <tr>\n",
       "      <th>fracdropout</th>\n",
       "      <td>-0.00432</td>\n",
       "      <td>-0.05667</td>\n",
       "    </tr>\n",
       "    <tr>\n",
       "      <th>lmedhhinc_empzip</th>\n",
       "      <td>0.00000</td>\n",
       "      <td>-0.04988</td>\n",
       "    </tr>\n",
       "    <tr>\n",
       "      <th>req</th>\n",
       "      <td>-0.00000</td>\n",
       "      <td>-0.04170</td>\n",
       "    </tr>\n",
       "    <tr>\n",
       "      <th>educreq</th>\n",
       "      <td>0.00000</td>\n",
       "      <td>-0.03386</td>\n",
       "    </tr>\n",
       "    <tr>\n",
       "      <th>orgreq</th>\n",
       "      <td>-0.00000</td>\n",
       "      <td>-0.03342</td>\n",
       "    </tr>\n",
       "    <tr>\n",
       "      <th>fracwhite_empzip</th>\n",
       "      <td>0.00000</td>\n",
       "      <td>-0.03299</td>\n",
       "    </tr>\n",
       "    <tr>\n",
       "      <th>branch_sales</th>\n",
       "      <td>0.00000</td>\n",
       "      <td>-0.02913</td>\n",
       "    </tr>\n",
       "    <tr>\n",
       "      <th>computerskills</th>\n",
       "      <td>0.03104</td>\n",
       "      <td>-0.02881</td>\n",
       "    </tr>\n",
       "    <tr>\n",
       "      <th>manuf</th>\n",
       "      <td>-0.00000</td>\n",
       "      <td>-0.02879</td>\n",
       "    </tr>\n",
       "    <tr>\n",
       "      <th>workinschool</th>\n",
       "      <td>0.00290</td>\n",
       "      <td>-0.02789</td>\n",
       "    </tr>\n",
       "    <tr>\n",
       "      <th>branch_emp</th>\n",
       "      <td>0.00000</td>\n",
       "      <td>-0.02691</td>\n",
       "    </tr>\n",
       "    <tr>\n",
       "      <th>l</th>\n",
       "      <td>-0.00000</td>\n",
       "      <td>-0.02584</td>\n",
       "    </tr>\n",
       "    <tr>\n",
       "      <th>compreq</th>\n",
       "      <td>0.00041</td>\n",
       "      <td>-0.02491</td>\n",
       "    </tr>\n",
       "    <tr>\n",
       "      <th>fracblack</th>\n",
       "      <td>0.00718</td>\n",
       "      <td>-0.02213</td>\n",
       "    </tr>\n",
       "    <tr>\n",
       "      <th>trade</th>\n",
       "      <td>0.00000</td>\n",
       "      <td>-0.02185</td>\n",
       "    </tr>\n",
       "    <tr>\n",
       "      <th>salesrep</th>\n",
       "      <td>0.00000</td>\n",
       "      <td>-0.02158</td>\n",
       "    </tr>\n",
       "    <tr>\n",
       "      <th>military</th>\n",
       "      <td>0.01595</td>\n",
       "      <td>-0.02058</td>\n",
       "    </tr>\n",
       "    <tr>\n",
       "      <th>manager</th>\n",
       "      <td>-0.00057</td>\n",
       "      <td>-0.02027</td>\n",
       "    </tr>\n",
       "    <tr>\n",
       "      <th>expreq</th>\n",
       "      <td>0.00000</td>\n",
       "      <td>-0.01925</td>\n",
       "    </tr>\n",
       "    <tr>\n",
       "      <th>supervisor</th>\n",
       "      <td>0.00000</td>\n",
       "      <td>-0.01206</td>\n",
       "    </tr>\n",
       "    <tr>\n",
       "      <th>bankreal</th>\n",
       "      <td>0.00000</td>\n",
       "      <td>-0.00900</td>\n",
       "    </tr>\n",
       "    <tr>\n",
       "      <th>col</th>\n",
       "      <td>0.00731</td>\n",
       "      <td>-0.00848</td>\n",
       "    </tr>\n",
       "    <tr>\n",
       "      <th>missind</th>\n",
       "      <td>0.00000</td>\n",
       "      <td>-0.00755</td>\n",
       "    </tr>\n",
       "    <tr>\n",
       "      <th>education</th>\n",
       "      <td>-0.00345</td>\n",
       "      <td>-0.00575</td>\n",
       "    </tr>\n",
       "    <tr>\n",
       "      <th>ofjobs</th>\n",
       "      <td>-0.00253</td>\n",
       "      <td>0.00231</td>\n",
       "    </tr>\n",
       "    <tr>\n",
       "      <th>retailsales</th>\n",
       "      <td>0.00000</td>\n",
       "      <td>0.00234</td>\n",
       "    </tr>\n",
       "    <tr>\n",
       "      <th>comreq</th>\n",
       "      <td>-0.00000</td>\n",
       "      <td>0.00242</td>\n",
       "    </tr>\n",
       "    <tr>\n",
       "      <th>eoe</th>\n",
       "      <td>-0.00000</td>\n",
       "      <td>0.00309</td>\n",
       "    </tr>\n",
       "    <tr>\n",
       "      <th>secretary</th>\n",
       "      <td>0.00044</td>\n",
       "      <td>0.00404</td>\n",
       "    </tr>\n",
       "    <tr>\n",
       "      <th>busservice</th>\n",
       "      <td>0.00000</td>\n",
       "      <td>0.00688</td>\n",
       "    </tr>\n",
       "    <tr>\n",
       "      <th>linc_empzip</th>\n",
       "      <td>0.00000</td>\n",
       "      <td>0.00688</td>\n",
       "    </tr>\n",
       "    <tr>\n",
       "      <th>volunteer</th>\n",
       "      <td>0.00584</td>\n",
       "      <td>0.00720</td>\n",
       "    </tr>\n",
       "    <tr>\n",
       "      <th>parent_sales</th>\n",
       "      <td>0.00000</td>\n",
       "      <td>0.00843</td>\n",
       "    </tr>\n",
       "    <tr>\n",
       "      <th>fracblack_empzip</th>\n",
       "      <td>0.00000</td>\n",
       "      <td>0.00988</td>\n",
       "    </tr>\n",
       "    <tr>\n",
       "      <th>fracdropout_empzip</th>\n",
       "      <td>0.00000</td>\n",
       "      <td>0.01395</td>\n",
       "    </tr>\n",
       "    <tr>\n",
       "      <th>fed</th>\n",
       "      <td>0.00000</td>\n",
       "      <td>0.01447</td>\n",
       "    </tr>\n",
       "    <tr>\n",
       "      <th>h</th>\n",
       "      <td>0.00000</td>\n",
       "      <td>0.02584</td>\n",
       "    </tr>\n",
       "    <tr>\n",
       "      <th>email</th>\n",
       "      <td>0.00082</td>\n",
       "      <td>0.02588</td>\n",
       "    </tr>\n",
       "    <tr>\n",
       "      <th>fraccolp_empzip</th>\n",
       "      <td>0.00000</td>\n",
       "      <td>0.02612</td>\n",
       "    </tr>\n",
       "    <tr>\n",
       "      <th>occupbroad</th>\n",
       "      <td>0.00312</td>\n",
       "      <td>0.03454</td>\n",
       "    </tr>\n",
       "    <tr>\n",
       "      <th>fracwhite</th>\n",
       "      <td>-0.00741</td>\n",
       "      <td>0.03515</td>\n",
       "    </tr>\n",
       "    <tr>\n",
       "      <th>transcom</th>\n",
       "      <td>0.00000</td>\n",
       "      <td>0.03556</td>\n",
       "    </tr>\n",
       "    <tr>\n",
       "      <th>othservice</th>\n",
       "      <td>0.00000</td>\n",
       "      <td>0.03611</td>\n",
       "    </tr>\n",
       "    <tr>\n",
       "      <th>parent_emp</th>\n",
       "      <td>0.00000</td>\n",
       "      <td>0.03906</td>\n",
       "    </tr>\n",
       "    <tr>\n",
       "      <th>occupspecific</th>\n",
       "      <td>0.00748</td>\n",
       "      <td>0.04055</td>\n",
       "    </tr>\n",
       "    <tr>\n",
       "      <th>fraccolp</th>\n",
       "      <td>-0.00697</td>\n",
       "      <td>0.04702</td>\n",
       "    </tr>\n",
       "    <tr>\n",
       "      <th>lmedhhinc</th>\n",
       "      <td>-0.01205</td>\n",
       "      <td>0.04770</td>\n",
       "    </tr>\n",
       "    <tr>\n",
       "      <th>offsupport</th>\n",
       "      <td>-0.00000</td>\n",
       "      <td>0.04778</td>\n",
       "    </tr>\n",
       "    <tr>\n",
       "      <th>linc</th>\n",
       "      <td>-0.00680</td>\n",
       "      <td>0.04965</td>\n",
       "    </tr>\n",
       "    <tr>\n",
       "      <th>yearsexp</th>\n",
       "      <td>-0.00265</td>\n",
       "      <td>0.06144</td>\n",
       "    </tr>\n",
       "    <tr>\n",
       "      <th>adid</th>\n",
       "      <td>-0.00000</td>\n",
       "      <td>0.06318</td>\n",
       "    </tr>\n",
       "    <tr>\n",
       "      <th>empholes</th>\n",
       "      <td>-0.00413</td>\n",
       "      <td>0.07189</td>\n",
       "    </tr>\n",
       "    <tr>\n",
       "      <th>honors</th>\n",
       "      <td>-0.00643</td>\n",
       "      <td>0.07195</td>\n",
       "    </tr>\n",
       "    <tr>\n",
       "      <th>specialskills</th>\n",
       "      <td>-0.00306</td>\n",
       "      <td>0.11107</td>\n",
       "    </tr>\n",
       "    <tr>\n",
       "      <th>call</th>\n",
       "      <td>-0.05887</td>\n",
       "      <td>1.00000</td>\n",
       "    </tr>\n",
       "  </tbody>\n",
       "</table>\n",
       "</div>"
      ],
      "text/plain": [
       "                     b_name     call\n",
       "b_name              1.00000 -0.05887\n",
       "fracdropout        -0.00432 -0.05667\n",
       "lmedhhinc_empzip    0.00000 -0.04988\n",
       "req                -0.00000 -0.04170\n",
       "educreq             0.00000 -0.03386\n",
       "orgreq             -0.00000 -0.03342\n",
       "fracwhite_empzip    0.00000 -0.03299\n",
       "branch_sales        0.00000 -0.02913\n",
       "computerskills      0.03104 -0.02881\n",
       "manuf              -0.00000 -0.02879\n",
       "workinschool        0.00290 -0.02789\n",
       "branch_emp          0.00000 -0.02691\n",
       "l                  -0.00000 -0.02584\n",
       "compreq             0.00041 -0.02491\n",
       "fracblack           0.00718 -0.02213\n",
       "trade               0.00000 -0.02185\n",
       "salesrep            0.00000 -0.02158\n",
       "military            0.01595 -0.02058\n",
       "manager            -0.00057 -0.02027\n",
       "expreq              0.00000 -0.01925\n",
       "supervisor          0.00000 -0.01206\n",
       "bankreal            0.00000 -0.00900\n",
       "col                 0.00731 -0.00848\n",
       "missind             0.00000 -0.00755\n",
       "education          -0.00345 -0.00575\n",
       "ofjobs             -0.00253  0.00231\n",
       "retailsales         0.00000  0.00234\n",
       "comreq             -0.00000  0.00242\n",
       "eoe                -0.00000  0.00309\n",
       "secretary           0.00044  0.00404\n",
       "busservice          0.00000  0.00688\n",
       "linc_empzip         0.00000  0.00688\n",
       "volunteer           0.00584  0.00720\n",
       "parent_sales        0.00000  0.00843\n",
       "fracblack_empzip    0.00000  0.00988\n",
       "fracdropout_empzip  0.00000  0.01395\n",
       "fed                 0.00000  0.01447\n",
       "h                   0.00000  0.02584\n",
       "email               0.00082  0.02588\n",
       "fraccolp_empzip     0.00000  0.02612\n",
       "occupbroad          0.00312  0.03454\n",
       "fracwhite          -0.00741  0.03515\n",
       "transcom            0.00000  0.03556\n",
       "othservice          0.00000  0.03611\n",
       "parent_emp          0.00000  0.03906\n",
       "occupspecific       0.00748  0.04055\n",
       "fraccolp           -0.00697  0.04702\n",
       "lmedhhinc          -0.01205  0.04770\n",
       "offsupport         -0.00000  0.04778\n",
       "linc               -0.00680  0.04965\n",
       "yearsexp           -0.00265  0.06144\n",
       "adid               -0.00000  0.06318\n",
       "empholes           -0.00413  0.07189\n",
       "honors             -0.00643  0.07195\n",
       "specialskills      -0.00306  0.11107\n",
       "call               -0.05887  1.00000"
      ]
     },
     "execution_count": 23,
     "metadata": {},
     "output_type": "execute_result"
    }
   ],
   "source": [
    "pd.options.display.float_format = '{:.5f}'.format\n",
    "corr[['b_name', 'call']].sort_values('call')"
   ]
  },
  {
   "cell_type": "markdown",
   "metadata": {},
   "source": [
    "Although the most negatively correlated feature with receiving a 'call' was having a 'black' sounding name there are at least two categories that were relatively strongly correlated with getting a call but that were negatively correlated with having a black sounding name - specifically 'honors' and 'empholes'. It is also worth noticing that having a 'specialskills' was the strongest feature correlated with receiving a call and this also was negatively correlated with having a black sounding name. These independent feature need to be correctly controlled for before strong conclusions can be draw that it is indeed your name that most strongly affects the likelihood you will receive a call back for a job."
   ]
  },
  {
   "cell_type": "code",
   "execution_count": null,
   "metadata": {
    "collapsed": true
   },
   "outputs": [],
   "source": []
  }
 ],
 "metadata": {
  "kernelspec": {
   "display_name": "Python 3",
   "language": "python",
   "name": "python3"
  },
  "language_info": {
   "codemirror_mode": {
    "name": "ipython",
    "version": 3
   },
   "file_extension": ".py",
   "mimetype": "text/x-python",
   "name": "python",
   "nbconvert_exporter": "python",
   "pygments_lexer": "ipython3",
   "version": "3.6.2"
  }
 },
 "nbformat": 4,
 "nbformat_minor": 1
}
