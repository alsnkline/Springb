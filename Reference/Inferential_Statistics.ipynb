{
 "cells": [
  {
   "cell_type": "markdown",
   "metadata": {},
   "source": [
    "# Inferential Statistics reference items\n",
    "\n",
    "__[Markdown help](https://medium.com/ibm-data-science-experience/markdown-for-jupyter-notebooks-cheatsheet-386c05aeebed)__\n",
    ", __[More Markdown help](https://github.com/adam-p/markdown-here/wiki/Markdown-Cheatsheet#code)__, \n",
    "__[Latex Cheatsheet](https://wch.github.io/latexsheet/latexsheet-1.png)__,\n",
    "__[Latex Primer](http://data-blog.udacity.com/posts/2016/10/latex-primer/)__\n",
    "\n",
    "Advanced Jupyter Notebook [Interactive dashboards](https://blog.dominodatalab.com/interactive-dashboards-in-jupyter/)\n",
    "\n",
    "[iPython Cookbook](https://ipython-books.github.io/)\n",
    "\n",
    "```from IPython.display import display\n",
    "display(df)```\n",
    "\n",
    "This notbook focus' on Inferential Statistics however contains some [data creation](#Create) information as well."
   ]
  },
  {
   "cell_type": "code",
   "execution_count": 2,
   "metadata": {
    "collapsed": true
   },
   "outputs": [],
   "source": [
    "import numpy as np\n",
    "import pandas as pd\n",
    "import scipy.stats as st  # for z-scores and t-scores etc\n",
    "#from scipy import stats\n",
    "import statsmodels.stats.weightstats as weightstats\n",
    "import statsmodels.stats.proportion as props\n",
    "import matplotlib.pyplot as plt\n",
    "import seaborn as sns\n",
    "\n",
    "plt.rcParams[\"figure.figsize\"] =  \\\n",
    "                    (7,4)\n",
    "\n",
    "# explore http://okfnlabs.org/blog/2016/04/19/pdf-tools-extract-text-and-data-from-pdfs.html\n",
    "# for automating weekly reporting"
   ]
  },
  {
   "cell_type": "code",
   "execution_count": 37,
   "metadata": {
    "collapsed": true
   },
   "outputs": [],
   "source": [
    "# seeing what is available in a package to troubleshoot import failures\n",
    "import types\n",
    "\n",
    "module = None\n",
    "if module:\n",
    "    print([getattr(module, a) for a in dir(module)\n",
    "      if isinstance(getattr(module, a), types.FunctionType)])\n",
    "    print('\\n'.join([str(\n",
    "        module.__dict__.get(a).__name__) for a in dir(module) if isinstance(\n",
    "        module.__dict__.get(a), types.FunctionType)]))"
   ]
  },
  {
   "cell_type": "markdown",
   "metadata": {},
   "source": [
    "### Distribution types:\n",
    "\n",
    "- **__[Bernoulli distribution](https://en.wikipedia.org/wiki/Bernoulli_distribution)__** single test of a random variable - a variable where probability of success = p and failure is 1-p (only two outcomes possible). Discrete. (special case of Binomial where n = 1, also special case of two point distribution where outcome doesn't have to be 0 or 1)\n",
    "- **__[Binomial distribution](https://en.wikipedia.org/wiki/Binomial_distribution)__** is the sum of independent and identically distributed Bernoulli random variables. Discrete. <br>To calculate population proportions $p$: $mean = \\frac{n*p}{n} = p$, $\\sigma = \\sqrt{\\frac{p*(1-p)}{n}}$\n",
    "- **__[Poisson distribution](https://en.wikipedia.org/wiki/Poisson_distribution)__**, when the timing of the next event is completely independent of the last event, but there is a well defined mean. Its continuous, (a limit of Binomial when p(success) is low ie for rare events, and n is large)\n",
    "- **__[Exponential distribution](https://en.wikipedia.org/wiki/Exponential_distribution)__**, the wait times between arrival of Poisson process is Exponentially distributed.\n",
    "- **__[Normal distribution](https://en.wikipedia.org/wiki/Normal_distribution)__**, (Gaussian) Used in the natural and social sciences to represent real-valued random variables whose distributions are not known.\n",
    "- **__[Student's t-distribution](https://en.wikipedia.org/wiki/Student%27s_t-distribution)__**, a family of distributions with slightly fatter tails that give better confidence intervals when the sample size is small and population standard deviation is unknown.\n"
   ]
  },
  {
   "cell_type": "markdown",
   "metadata": {},
   "source": [
    "### Terminology\n",
    " - **__[Variance](https://en.wikipedia.org/wiki/Variance)__** is the expectation of the squared deviation of a random variable from its mean. Informally, it measures how far a set of (random) numbers are spread out from their average value. ($\\sigma^2$), (remember variance can be affected by degrees of freedom important for t tests)\n",
    " - **__[Standard Deviation](https://en.wikipedia.org/wiki/Standard_deviation)__** the square root of the Variance of a population\n",
    " - **__[Skew in a distribution](https://en.wikipedia.org/wiki/Skewness)__** Positive skew means you have  a larger tail to the right and the skewed max is actually to the left of the real mean/max (max skewed to left)\n",
    "Neg skew means long tail to the left and the peak of the skewed distribution is to the right of the actual/normal mean (max skewed to right)\n",
    " - **__[Kurtosis](https://en.wikipedia.org/wiki/Kurtosis)__** skews off normal in other ways:\n",
    "positive kurtosis means fatter tails and a pointier peak - still around the mean though - think high flat land and pointy rocket\n",
    "negative kurtosis have lower peak and lower tails - think water droplet sitting on a table\n",
    " - **z** things are taken from the normal distributions, **t** things from the t-student distribution\n",
    " - **z score**: how many $\\sigma$'s or standard deviations away from the mean a value is. $\\frac{(x - \\bar x)}{\\sigma}$\n",
    " - **z* or critical value**: $z^*$ is the $z$ value that gives the confidence interval we are looking for. \n",
    " - **z-intervals** are confidence intervals taken from standard normal curves (ones where area under curve is normed aka =1)\n",
    " - **Simple Random Sample** aka SRS \n",
    " - **__[Confidence Intervals](https://en.wikipedia.org/wiki/Confidence_interval)__** If we repeated measurements over and over again, $p%$ of the observed values would lie within the $p%$ confidence interval. It refers to the long-term success rate of the method, that is, how often this type of interval will capture the parameter of interest. A range of plausible values for the parameter of interest if you like. $mean +/- z^**\\sigma_{sample}$\n",
    "    - DON'T SAY: ~~\"There is a 95%, percent chance that this specific interval contains the true mean\"~~\n",
    "    - **SAY**: \"we're 95%, percent confident that this interval captured the mean\"\n",
    " - **__[Prediction Intervals](https://en.wikipedia.org/wiki/Prediction_interval#Unknown_mean.2C_unknown_variance)__** gives an estimate of range for reasonable measurements. [example notebook](https://github.com/ScottWPiraino/Springboard_Data_Science/blob/master/EDA/body_temp/ci_vs_pi.ipynb)\n",
    " - **__[Central Limit Therorem](https://en.wikipedia.org/wiki/Central_limit_theorem)__** So long as your population has a well defined mean and variance (or SD) then when independent random variables are added, their properly normalized sum tends toward a normal distribution (informally a \"bell curve\") even if the original variables themselves are not normally distributed. This also applies to their means.\n",
    " - **__[Least Squared Fit](https://en.wikipedia.org/wiki/Least_squares)__** technique\n",
    "   - residual $r$ is the distance from the model $y$ value to the actual data $y$ value.\n",
    "   - Least Squared Fit minimizes the RSS (residual sum of squares):\n",
    "       \n",
    "$$S = \\sum_{i=1}^{n} r_{i}^2$$\n",
    "\n",
    " - **Nonparametric inference** - Make no assumptions about the model or probability distribution underlying the data\n",
    " - **Parametric inference** - when you do make assumptions about the underlying data and the model has parameters that you optimize\n",
    " \n",
    " - **Test statistic** - A single number that can be computed from observed data and from data you simulate under the null hypothesis. It serves as a basis of comparison between the two examples:\n",
    "   - if H0 = two distributions are the same test the difference of their means\n",
    " - **P-value** - The probability of obtaining a value of your test statistic that is at least as extreme as what was observed, under the assumption the null hypothesis is true\n",
    "   - ITS NOT ~~the probability that the null hypothesis is true~~\n",
    "   - calculate your test statistic z or t, then use normalcdf or t.cdf to find area more extreme than your test-stat\n",
    " - **Statistical significance** (aka significance level or $\\alpha$) - Determined by the smallness of a p-value, if two tail consider both sides of the distribution, if p-value is smaller than 0.05 in a two tail test then it is 90% Statistically Significant.\n",
    " \n",
    " - **Null hypothesis significance testing (NHST)** - using Statistical Significance to test a null hypothesis\n",
    " - The **Standard Error** of a statistic, SE is the standard deviation of the sample statistic."
   ]
  },
  {
   "cell_type": "markdown",
   "metadata": {},
   "source": [
    "- **[Pearson Correlation Coefficient](https://en.wikipedia.org/wiki/Pearson_correlation_coefficient)** - a measure of how much of the variability in two variables is due to them being correlated. $\\rho$ (rho) defined as the ratio of the covariance to the geometric mean of the variances (ie their sd of the two data sets [How to calculate](#PCoeff)\n",
    "\n",
    "For Populations: \n",
    "$$\\rho_{X,Y} = \\frac{cov(X,Y)}{\\sigma_X\\sigma_Y}$$\n",
    "\n",
    "  -  $cov$  is the covariance<br>\n",
    "  -  $\\sigma_{X}$ is the standard deviation of $X$<br>\n",
    "  -  $\\sigma_{Y}$ is the standard deviation of $Y$<br>\n",
    "\n",
    "For Samples: \n",
    "$$ r = \\frac{\\sum_{i=1}^n(x_i-\\bar x)(y_i-\\bar y)}{\\sqrt{\\sum_{i=1}^n(x_i-\\bar x)^2}\\sqrt{\\sum_{i=1}^n(y_i-\\bar y)^2}}$$\n",
    "\n",
    "  -  n is the sample size<br>\n",
    "  -  $x_{i},y_{i}$ are the individual sample points indexed with i<br>\n",
    "  -  $\\bar x ={\\frac {1}{n}}\\sum _{i=1}^{n}x_{i}$ (the sample mean); and analogously for $\\bar {y}$<br>\n",
    "  -  the denominator is in fact the Geometric Mean of the variances\n",
    "\n",
    "- **[Geometric Mean](https://en.wikipedia.org/wiki/Geometric_mean)** - mean by using the product of their values (as opposed to the arithmetic mean which uses their sum). The geometric mean is defined as the nth root of the product of n numbers."
   ]
  },
  {
   "cell_type": "markdown",
   "metadata": {},
   "source": [
    "### Taking a Sample from a population\n",
    "By the Central Limit Therorem when you take multiple samples from a population and calculate the average of the samples and then plot your values you end up with a normal distribution, around the mean of the distribution. Calculating the sum, mean, mode you end up with a normal distribution. (mean most commonly used).\n",
    "*  if you increase the number of samples you take you'll get closer to a normal dist with a smaller $\\sigma$,\n",
    "*  if you increase the number of times you sample the population you will also get closer to a normal distribution.\n",
    "\n",
    "<br>$p$ = proportion of the population of interest\n",
    "<br>$\\hat p$ = proportion of the sample population of interest\n",
    "<br>Standard Error = use $\\hat p$ as in an estimation for $p =\\frac{\\sqrt{\\hat p*(1-\\hat p)}}{n}$"
   ]
  },
  {
   "cell_type": "markdown",
   "metadata": {},
   "source": [
    "### Taking a mean of a population\n",
    "The standard error of the mean is the standard deviation of the sampling distribution of the mean.\n",
    "<br>$\\sigma_{pop}$ is usually not known so use $s$ as an estimate\n",
    "<br>$s$ = standard distribution of the sample $\\sigma_{sample}$\n",
    "<br>Standard Error of the mean = $\\frac{s}{\\sqrt{n}}$"
   ]
  },
  {
   "cell_type": "markdown",
   "metadata": {},
   "source": [
    "### Creating a Prediction interval for a range (normally distributed - mean and sd of pop not known)\n",
    "When wanting to predict a reasonable value for a next observation this provides a better range than the mean:\n",
    " - $t^* * s * \\sqrt{1 + \\frac{1}{n}}$\n",
    " - $s^2$ is the variance of the sample $s$ is the standard deviation of the sample\n",
    " - $t^*$ is the critical t value \n",
    " \n",
    " [see wikipeadia](https://en.wikipedia.org/wiki/Prediction_interval)\n",
    " [and this notebook](https://github.com/ScottWPiraino/Springboard_Data_Science/blob/master/EDA/body_temp/ci_vs_pi.ipynb)"
   ]
  },
  {
   "cell_type": "markdown",
   "metadata": {},
   "source": [
    "<img src=\"data/ConfIntsExplained.png\" alt=\"Alt text that describes the graphic\" title=\"Confidence Intervals, SE, etc\"  width=\"344\" height=\"256\"/>\n",
    "[From this cool presentation](https://www2.stat.duke.edu/courses/Fall12/sta101.002/Sec3-34.pdf)"
   ]
  },
  {
   "cell_type": "markdown",
   "metadata": {},
   "source": [
    "### Model types and techniques:"
   ]
  },
  {
   "cell_type": "markdown",
   "metadata": {},
   "source": [
    "- **Hypothesis Testing (General steps)**\n",
    "   - step 1: define null hypothesis\n",
    "   - step 2: Defind your test statistic\n",
    "   - step 3: Generate many sets of simulated data assuming the null hypothesis is true\n",
    "       - may need to combine two sets of data when assuming the null hypothesis - ie pooled_mean\n",
    "       - may need to shift two sets of data to have same mean - then use shifted data when gen samples\n",
    "   - step 4: Compute the test statistic for each simulated data set (and for your observed data)\n",
    "   - step 5: Compute p-value. It is the fraction of your simulated data sets for which the test statistic is at least as extreme as for the real data."
   ]
  },
  {
   "cell_type": "markdown",
   "metadata": {},
   "source": [
    "- **Bootstrapping (resampling with replacement)** Estimated result\n",
    "   - Assume a model, \n",
    "   - take your data and re-sample it, with replacement, multiple times to generate many bootstrapped samples\n",
    "   - calculate the bootstrapped replicate (the stat that you are interested in) for each bootstrapped sample. \n",
    "   - compare the sample distribution that you get from this 'bootstrapped' data to the one you actually get\n",
    "   <br>Example code [for 1D data](#BS_1D), [for 2D data](#BS_2D)"
   ]
  },
  {
   "cell_type": "markdown",
   "metadata": {},
   "source": [
    "- **Permutation tests (permuting the key aspect of your data before resampling)** Accurate result\n",
    "   - identify your hypothesis, and test statistic (eg difference of mean)\n",
    "   - take your data permute it (often this is effectively up labels), multiple times to generate many samples.\n",
    "   - calculate the replicate (the stat that you are interested in) for each permuted sample. \n",
    "   - compare the sample distribution that you get from this 'permuted' data to the one you actually get (merge the data if appropriate to increase accuracy of estimate)\n",
    "   - hard to do a One Sample Test (compare one set of data to a single number eg mean) with a permutation test, but possible [see this SE answer](https://stats.stackexchange.com/a/171748/198505) - shift mean to 0 and permute the signs\n",
    "   <br>Example code, [for 2D data](#PT-2D)"
   ]
  },
  {
   "cell_type": "markdown",
   "metadata": {},
   "source": [
    "- **Using Hacker Statistics (self generated stats)** NOT VALID\n",
    "   - Assume a model, \n",
    "   - generate data that fits that model (pick model parameters carefully, often from your sample), \n",
    "   - sample your 'hacked' data multiple times, \n",
    "   - compare the sample distribution that you get from this 'hacked' data to the one you actually get\n",
    "   <br>[Example code](#HS_Norm)"
   ]
  },
  {
   "cell_type": "markdown",
   "metadata": {},
   "source": [
    "- **Linear Regression** - calculating the best fit straight line to the data\n",
    "    - take data, select your error measurement (what you are going to minimize to pick the best fit - eg Least Squared Fit)\n",
    "    - calculate the error and find its min\n",
    "    - plot data and best fit line\n",
    "    <br>[example code](#LinReg_LSF)"
   ]
  },
  {
   "cell_type": "markdown",
   "metadata": {},
   "source": [
    "### Types of tests\n",
    "[Good reference blog](http://blog.minitab.com/blog/adventures-in-statistics-2/understanding-t-tests-1-sample-2-sample-and-paired-t-tests)\n",
    "- one sample test, take one sample and compare it to the population\n",
    "- two sample test, takes samples from two independent groups and compares them [example 1](https://www.itl.nist.gov/div898/handbook/eda/section3/eda353.htm), [example 2](https://stackoverflow.com/a/22613361/1215012)\n",
    "- pairs test, take two samples, compute the difference and then compare it to population (one sample test on difference)\n"
   ]
  },
  {
   "cell_type": "markdown",
   "metadata": {},
   "source": [
    "### z tests\n",
    "*  **The Random Condition** Must have random sampling (or we can't trust our samples and the measurements we are getting)\n",
    "*  **The Normal Condition** Must be dealing with a sample proportion that is approximately normal - so need to be getting per sample 10 or more success' and 10 or more failures - can't usually calculate this as don't know enough about true pop, so just count what you are seeing in your sample.\n",
    "*  **The Independence condition** true sampling would be with replacement and you might get the same person again, so just make sure your sample size n is less than 10% of the population.\n",
    "\n"
   ]
  },
  {
   "cell_type": "markdown",
   "metadata": {},
   "source": [
    "When calculating proportions\n",
    "$$ Error Margin =  z^* * \\sqrt{\\frac{p * (1-p)}{n}}$$\n",
    "\n",
    "- H0 = p1\n",
    "- Ha != p1\n",
    "- $p_{pop}$ => $n$ => $\\hat p$           from pop take sample n, and calculate sample proportion\n",
    "- calc $z$-stat = $\\frac{(\\hat p - p_0)}{\\sigma_{\\hat p}}$    calc z-stat by taking the assumed pop proportion from the sample proportion and div by sd of the sample proportion (z-stat is how many sd away from pop proportion)\n",
    "- $\\sigma_{\\hat p} = \\sqrt{\\frac{p_0*(1-p_0)}{n}} $     how to calc standard deviation of the proportion as we know the pop proportion (we're assuming it to be p0 in our hyp)\n",
    "(this is usually called the standard error of the statistic)\n",
    "- use z-stat to figure out p-value    p-value is probability that this result occured by chance (think about tails)\n",
    "- compare with alpha                  statistical significance is 1-alpha pick alpha before you start\n",
    "- for a 2 sample test $ z = \\frac{(\\hat p_1 - \\hat p_2) - H_0}{\\sqrt{\\frac{\\hat p_c * (1-\\hat p_c)}{n_1} + \\frac{\\hat p_c * (1-\\hat p_c)}{n_2}}}$ The difference under $H_0$ is often 0 as you are looking for difference in $\\hat p_1$ and $\\hat p_2$\n",
    "    - $p_c$ is the combined sample proportion = combined count of success / combined sample sizes"
   ]
  },
  {
   "cell_type": "markdown",
   "metadata": {},
   "source": [
    "### t tests\n",
    "[A good reference web page](https://towardsdatascience.com/inferential-statistics-series-t-test-using-numpy-2718f8f9bf2f), <nbsp> \n",
    "[Another good summary](\n",
    "https://www.bmj.com/about-bmj/resources-readers/publications/statistics-square-one/7-t-tests)\n",
    "[Tech summary of terms and equations](https://ncss-wpengine.netdna-ssl.com/wp-content/themes/ncss/pdf/Procedures/NCSS/One-Sample_T-Test.pdf)\n",
    " -  **The Random Condition** Must be random\n",
    " -  **The Normal Condition** n>=30, if smaller, but original is normal or approx symmetric around mean\n",
    " -  **The Independence Condition** if sampling without replacement - need to have sample that is less than 10% of population"
   ]
  },
  {
   "cell_type": "markdown",
   "metadata": {},
   "source": [
    "When calculating means, where $s$ is the standard deviation of the sample we use $s$ as we don't usually know $\\sigma_{pop}$\n",
    "$$ Error Margin =  t^* * \\frac{s}{\\sqrt{n}}$$\n",
    "\n",
    "- H0 = mu0\n",
    "- Ha != mu\n",
    "- $p_{pop}$ => $n$ => $\\bar x$, $\\sigma_x$   from pop take sample $n$, and calculate sample mean $\\bar x$ and sample standard deviation ($\\sigma_x$)\n",
    "- try to cal $z = \\frac{(\\bar x - \\mu_0)}{\\sigma_{\\bar x}}$      $\\mu_0$ is the null hypothesis value\n",
    "   -  $\\sigma_{\\bar x} = \\frac{\\sigma_{pop}}{\\sqrt{n}}$          but we don't know the true standard distribution of the population so this isn't easy to calculate so we use an estimate\n",
    "   - $t = \\frac{(\\bar x - \\mu_0)}{\\frac{\\sigma_x}{\\sqrt{n}}}$          using estimate for the population standard distribution (use the sample standard distribution $\\sigma_x$ sometimes you will see $s$)\n",
    "- use t-stat in t tables to figure out p-value\n",
    "- compare with alpha.\n",
    "\n",
    "- get better results when you use n-1 rather than n in the denominator as samples always under estimate. This is for a two sample test.\n",
    "    - $t = \\frac{\\bar x - \\bar y}{\\sqrt{\\frac{S_x^2}{n_x} + \\frac{S_y^2}{n_y}}}$    $S$ = the standard deviation for each sample, $n$ = number of obs per group.\n",
    "    - $S^2 = \\frac{\\sum((x-\\bar x)^2}{n-1}$    $x$ = individual obs, $\\bar x$ = mean, n = number of obs in group"
   ]
  },
  {
   "cell_type": "markdown",
   "metadata": {},
   "source": [
    "### How big a sample size do I need to take? (one sample z test, proportion statistic)\n",
    "eg What proportion of a communities members favor a tax increase, Margin of error +/- 2% and 95% confidence level.\n",
    "-  95% confidence level need 2.5% area outside both ends of the normal cure so a 97.5% cumulative probability\n",
    "-  therefore $z*$ = 1.96\n",
    "-  The proportion of the population that will make the error largest is 0.5 so we'll use that to calculate the n we need\n",
    "$$ z^* * \\sqrt{\\frac{p * (1-p)}{n}} = 1.96 * \\sqrt{\\frac{0.5 * 0.5}{n}} < 0.02$$\n",
    "$$n\\_min = (\\frac{z^*}{margin\\_error})^2 * (0.5)^2$$"
   ]
  },
  {
   "cell_type": "markdown",
   "metadata": {},
   "source": [
    "### Find the error margin from a one sample z test (proportion statistic)\n",
    "500 song population, estimate the proportion that are by female artists\n",
    "You take a simple random sample (SRS) and find that 20 are by females - two tail\n",
    " - check you assumptions\n",
    "    - question says random sampling so that is ok\n",
    "    - sample has 20 success' and 30 failures, both over 10 so can assume normal distribution\n",
    "    - 50/500 is 10% so we are just good to assume independence of sampling\n",
    "    \n",
    "99% confident interval be for the proportion of female artists in the full population of 500?\n",
    " - proportion of females = 20/50 = 0.4\n",
    " - error margin = $ z^* * \\sqrt{\\frac{p * (1-p)}{n}}$"
   ]
  },
  {
   "cell_type": "code",
   "execution_count": 14,
   "metadata": {},
   "outputs": [
    {
     "name": "stdout",
     "output_type": "stream",
     "text": [
      "Standard error is : 0.0693\n",
      "Z critical value is : 2.5758\n",
      "The proportion of female artists is 0.4 +/- 0.17846, 99.0% confidence\n"
     ]
    }
   ],
   "source": [
    "n = 50\n",
    "f_sam = 20/n\n",
    "standard_error = np.sqrt(f_sam*(1-f_sam)/n)\n",
    "print('Standard error is : {:.4f}'.format(standard_error))\n",
    "conf = 0.99\n",
    "tail = 1-(1-conf)/2\n",
    "crit_z = st.norm.ppf(tail)\n",
    "print('Z critical value is : {:.4f}'.format(crit_z))\n",
    "print('The proportion of female artists is {} +/- {:.5f}, {}% confidence'.format(f_sam,crit_z*standard_error,conf*100))"
   ]
  },
  {
   "cell_type": "markdown",
   "metadata": {},
   "source": [
    "# Useful Code snippets\n",
    "\n",
    "## creating key plots:"
   ]
  },
  {
   "cell_type": "markdown",
   "metadata": {},
   "source": [
    "### Finding a z value or critical z \n",
    "Python calculates left/lower-tail probabilities by default. If you want to determine the density points where 95% of the distribution is included, ie 2 tail you need to split the area:"
   ]
  },
  {
   "cell_type": "code",
   "execution_count": 15,
   "metadata": {},
   "outputs": [
    {
     "name": "stdout",
     "output_type": "stream",
     "text": [
      "The one tail z value at which 95% of the norm curve area is to the left: 1.64\n",
      "The one tail probability of getting z value 1.64 value: 0.95\n",
      "The sf survival function gives you 1-st.norm.cdf(z) : 0.05\n",
      "To get 95% prob in two tails you need (1-0.95)/2 in one tail = 0.025\n",
      "The two tail z values at which 95% of the norm curve area is closer to the mean: -1.96 to 1.96\n"
     ]
    }
   ],
   "source": [
    "p = 95\n",
    "alpha = 1-p/100\n",
    "z = 1.64\n",
    "\n",
    "# one tail\n",
    "crit_z = st.norm.ppf(p/100)\n",
    "p_calc = st.norm.cdf(abs(z))\n",
    "p_calc2 = st.norm.sf(abs(z))   # == 1 - st.norm.cdf(abs(z))\n",
    "\n",
    "print('The one tail z value at which {}% of the norm curve area is to the left: {:.2f}'.format(p,crit_z))\n",
    "print('The one tail probability of getting z value {} value: {:.2f}'.format(z, p_calc))\n",
    "print('The sf survival function gives you 1-st.norm.cdf(z) : {:.2f}'.format(p_calc2))\n",
    "      \n",
    "p2 = alpha/2\n",
    "print('To get {}% prob in two tails you need (1-{})/2 in one tail = {:.3f}'.format(p,1-alpha,p2))\n",
    "print('The two tail z values at which {}% of the norm curve area is closer to the mean: {:.2f} to {:.2f}'.format(\n",
    "    p,st.norm.ppf(p2),st.norm.ppf(1-p2)))"
   ]
  },
  {
   "cell_type": "code",
   "execution_count": 31,
   "metadata": {},
   "outputs": [
    {
     "name": "stdout",
     "output_type": "stream",
     "text": [
      "The one tail z value at which 95% of the norm curve area is to the left: 2.13\n",
      "The one tail probability of getting z value 1.64 value: 0.91\n",
      "The sf survival function gives you 1-st.norm.cdf(t) : 0.09\n"
     ]
    }
   ],
   "source": [
    "p = 95\n",
    "alpha = 1-p/100\n",
    "t = 1.64\n",
    "degf = 4 # calculate from N-1\n",
    "\n",
    "crit_t = st.t.ppf(0.975, len(data) - 1)\n",
    "\n",
    "print('The one tail z value at which {}% of the norm curve area is to the left: {:.2f}'.format(p,st.t.ppf(p/100, df=degf)))\n",
    "print('The one tail probability of getting z value {} value: {:.2f}'.format(t, st.t.cdf(abs(t), df=degf)))\n",
    "print('The sf survival function gives you 1-st.norm.cdf(t) : {:.2f}'.format(st.t.sf(abs(t), df=degf)))"
   ]
  },
  {
   "cell_type": "markdown",
   "metadata": {},
   "source": [
    "### Probability Density Function (__[PDF](https://en.wikipedia.org/wiki/Probability_density_function)__)\n",
    "Using the normed or density key word means the the area under the cure adds to 1 and so the histogram approximates a PDF."
   ]
  },
  {
   "cell_type": "code",
   "execution_count": 5,
   "metadata": {},
   "outputs": [
    {
     "data": {
      "image/png": "[encoded data removed]",
      "text/plain": [
       "<Figure size 504x288 with 1 Axes>"
      ]
     },
     "metadata": {},
     "output_type": "display_data"
    }
   ],
   "source": [
    "data = data = np.random.exponential(2,1000)\n",
    "_ = plt.hist(data, bins=100, density=True, histtype='step')  # normed=True is depreciated\n",
    "_ = plt.xlabel('data description')\n",
    "_ = plt.ylabel('PDF')\n",
    "plt.show()"
   ]
  },
  {
   "cell_type": "markdown",
   "metadata": {},
   "source": [
    "### Empirical cumulative distribution function (ECDF)"
   ]
  },
  {
   "cell_type": "code",
   "execution_count": 13,
   "metadata": {
    "collapsed": true
   },
   "outputs": [],
   "source": [
    "def ecdf(data):\n",
    "    \"\"\"Compute ECDF for a one-dimensional array of measurements.\"\"\"\n",
    "    n = len(data)\n",
    "    x = np.sort(data)\n",
    "    y = np.arange(1, n+1) / n\n",
    "    return x, y"
   ]
  },
  {
   "cell_type": "code",
   "execution_count": 7,
   "metadata": {},
   "outputs": [
    {
     "data": {
      "image/png": "[encoded data removed]",
      "text/plain": [
       "<Figure size 504x288 with 1 Axes>"
      ]
     },
     "metadata": {},
     "output_type": "display_data"
    }
   ],
   "source": [
    "data = 100*np.random.rand(1000)\n",
    "x, y = ecdf(data)\n",
    "# Plot the ECDF\n",
    "_ = plt.plot(x, y, '.')\n",
    "_ = plt.xlabel('data desciption')\n",
    "_ = plt.ylabel('ECDF')\n",
    "plt.show()"
   ]
  },
  {
   "cell_type": "markdown",
   "metadata": {},
   "source": [
    "### Plotting a CDF and PDF for comparison"
   ]
  },
  {
   "cell_type": "code",
   "execution_count": 8,
   "metadata": {},
   "outputs": [
    {
     "data": {
      "image/png": "[encoded data removed]",
      "text/plain": [
       "<Figure size 504x288 with 1 Axes>"
      ]
     },
     "metadata": {},
     "output_type": "display_data"
    }
   ],
   "source": [
    "real_data = np.random.poisson(50,100)\n",
    "created_data = np.random.binomial(1000,0.05,100)\n",
    "# Create an ECDF from real data: x, y\n",
    "x, y = ecdf(real_data)\n",
    "# Create a CDF from theoretical samples: x_theor, y_theor\n",
    "x_theor, y_theor = ecdf(created_data)\n",
    "\n",
    "plt.plot(x_theor, y_theor)\n",
    "plt.plot(x,y, marker='.', linestyle='none')\n",
    "\n",
    "plt.margins(0.02)\n",
    "plt.xlabel('Desciption')\n",
    "plt.ylabel('CDF')\n",
    "\n",
    "plt.show()"
   ]
  },
  {
   "cell_type": "markdown",
   "metadata": {},
   "source": [
    "## Calculating Pearson correlation <a id=\"PCoeff\"></a>\n",
    "\n",
    "The Pearson correlation coefficient, known also as Pearson's r, ranges from -1 (indicating total negative linear correlation) to 1 (indicating total positive linear correlation)."
   ]
  },
  {
   "cell_type": "code",
   "execution_count": 9,
   "metadata": {},
   "outputs": [
    {
     "data": {
      "text/plain": [
       "array([[  829.12986847, -1658.25973694],\n",
       "       [-1658.25973694,  3316.51947389]])"
      ]
     },
     "execution_count": 9,
     "metadata": {},
     "output_type": "execute_result"
    }
   ],
   "source": [
    "x = 100*np.random.rand(1000)\n",
    "y = list(map(lambda a: -a*2, x))\n",
    "\n",
    "# returns the covariant matrix, [0,1] = [1,0] = covariance, \n",
    "# [0.0] is the variance of x, and [1,1] is the variance of y.\n",
    "np.cov(x,y) "
   ]
  },
  {
   "cell_type": "code",
   "execution_count": 10,
   "metadata": {},
   "outputs": [
    {
     "data": {
      "text/plain": [
       "array([[ 1., -1.],\n",
       "       [-1.,  1.]])"
      ]
     },
     "execution_count": 10,
     "metadata": {},
     "output_type": "execute_result"
    }
   ],
   "source": [
    "# returns the pearson correlation matrix, [0,1] = [1,0] = pearson coefficient, \n",
    "# [0,0] & [1,1] equal 1\n",
    "np.corrcoef(x,y) "
   ]
  },
  {
   "cell_type": "code",
   "execution_count": 11,
   "metadata": {},
   "outputs": [
    {
     "name": "stdout",
     "output_type": "stream",
     "text": [
      "-1.0\n"
     ]
    }
   ],
   "source": [
    "def pearson_r(x, y):\n",
    "    \"\"\"Compute Pearson correlation coefficient between two arrays.\"\"\"\n",
    "    # Compute correlation matrix: corr_mat\n",
    "    corr_mat = np.corrcoef(x,y)\n",
    "    # Return entry [0,1]\n",
    "    return corr_mat[0,1]\n",
    "\n",
    "r = pearson_r(x, y)\n",
    "print(r)"
   ]
  },
  {
   "cell_type": "markdown",
   "metadata": {},
   "source": [
    "### Other common test statistics<a id=\"ComTS\"></a>\n",
    "The pearson_r coefficient above can be used as a test statistic as can these other common functions:"
   ]
  },
  {
   "cell_type": "code",
   "execution_count": 11,
   "metadata": {
    "collapsed": true
   },
   "outputs": [],
   "source": [
    "def diff_of_means(data_1, data_2):\n",
    "    \"\"\"Difference in means of two arrays.\"\"\" # the test stat in this case\n",
    "    return np.mean(data_1)-np.mean(data_2)\n",
    "\n",
    "# a fraction of a group or category if there are only two categories, one calc captures all the information.\n",
    "def frac_yea_dems(cat_1, cat_2):\n",
    "    \"\"\"Compute fraction of Democrat yea votes.\"\"\"\n",
    "    frac = np.sum(cat_1) / len(cat_1)\n",
    "    return frac"
   ]
  },
  {
   "cell_type": "markdown",
   "metadata": {},
   "source": [
    "## Linear Regression with Least Squared Fit <a id=\"LinReg_LSF\"></a>\n",
    "\n",
    "- Assume your data has a linear relationship eg: $f=ai+b$\n",
    "  ($a$ will be the slope of the line $b$ the intercept)\n",
    "- use __[np.polyfit()](https://docs.scipy.org/doc/numpy/reference/generated/numpy.polyfit.html)__ to find the two parameters $a$ and $b$\n",
    "- plot them on a graph.\n",
    "\n"
   ]
  },
  {
   "cell_type": "code",
   "execution_count": 13,
   "metadata": {},
   "outputs": [
    {
     "name": "stdout",
     "output_type": "stream",
     "text": [
      "slope = 4.152253586802848 # of y / per unit of x\n",
      "intercept = 237.3596841666081 y axis unit\n"
     ]
    },
    {
     "data": {
      "image/png": "[encoded data removed]",
      "text/plain": [
       "<Figure size 504x288 with 1 Axes>"
      ]
     },
     "metadata": {},
     "output_type": "display_data"
    }
   ],
   "source": [
    "x_data = 100*np.random.rand(300) + 1.5\n",
    "y_data = 2 + 4*x_data + 500*np.random.rand(300)   # adding random error to y\n",
    "\n",
    "# Plot the data provided x versus y (this is the relationship or rate)\n",
    "_ = plt.plot(x_data, y_data, marker='.', linestyle='none')\n",
    "plt.margins(0.02)\n",
    "_ = plt.xlabel('x values')\n",
    "_ = plt.ylabel('y values')\n",
    "\n",
    "# Perform a linear regression using np.polyfit(): a, b\n",
    "a, b = np.polyfit(x_data, y_data, deg=1)\n",
    "print('slope =', a, '# of y / per unit of x')\n",
    "print('intercept =', b, 'y axis unit')\n",
    "\n",
    "# Make theoretical line to plot using the hypothesized model, 2 pts only as line is straight.\n",
    "x = np.array([0,100])\n",
    "y = a * x + b\n",
    "\n",
    "# Add regression line to your plot\n",
    "_ = plt.plot(x, y)\n",
    "plt.show()"
   ]
  },
  {
   "cell_type": "markdown",
   "metadata": {},
   "source": [
    "## Permutation test 2D Arrays<a id=\"PT-2D\"></a>\n",
    "Two examples here:\n",
    "- `use_rain = True`   shows a continuous data set - comparing the rainfall in two months\n",
    "- `use_rain = False`   shows a discrete data set - votes on the civil rights act"
   ]
  },
  {
   "cell_type": "code",
   "execution_count": 15,
   "metadata": {},
   "outputs": [
    {
     "data": {
      "image/png": "[encoded data removed]",
      "text/plain": [
       "<Figure size 1440x432 with 2 Axes>"
      ]
     },
     "metadata": {},
     "output_type": "display_data"
    },
    {
     "name": "stdout",
     "output_type": "stream",
     "text": [
      "p-value = 0.0002\n"
     ]
    }
   ],
   "source": [
    "plt.rcParams[\"figure.figsize\"] = (20,6)\n",
    "\n",
    "def permutation_sample(data1, data2):\n",
    "    \"\"\"Generate a permutation sample from two data sets.\"\"\"\n",
    "    data = np.concatenate((data1, data2))\n",
    "    permuted_data = np.random.permutation(data)\n",
    "    return permuted_data[:len(data1)], permuted_data[len(data1):]\n",
    "\n",
    "def draw_perm_reps(data_1, data_2, func, size=1):\n",
    "    \"\"\"Generate multiple permutation replicates.\"\"\"\n",
    "    perm_replicates = np.empty(size)\n",
    "    for i in range(size):\n",
    "        perm_sample_1, perm_sample_2 = permutation_sample(data_1, data_2)\n",
    "        # Compute the test statistic\n",
    "        perm_replicates[i] = func(perm_sample_1, perm_sample_2)\n",
    "    return perm_replicates\n",
    "\n",
    "# set up example data\n",
    "use_rain = False\n",
    "if use_rain:\n",
    "    dj, dn = np.genfromtxt('data/ex1.csv',delimiter=\",\")  # rain fall in Jan or Nov Continuous\n",
    "else:\n",
    "    # vote record on Civil Rights - discrete data\n",
    "    dj, dn = np.array([True] * 153 + [False] * 91), np.array([True] * 136 + [False] * 35)\n",
    "    \n",
    "# setting the test statistic to be used\n",
    "test_stat_function = diff_of_means if use_rain else frac_yea_dems\n",
    "\n",
    "fig, (ax1,ax2) = plt.subplots(1,2)\n",
    "for i in range(50):\n",
    "    # Generate permutation samples\n",
    "    ps_1, ps_2 = permutation_sample(dj, dn)\n",
    "\n",
    "    # Compute & plot ECDFs\n",
    "    x_1, y_1 = ecdf(ps_1)\n",
    "    x_2, y_2 = ecdf(ps_2)\n",
    "    _ = ax1.plot(x_1, y_1, marker='.', linestyle='none', color='green', alpha=0.02)\n",
    "    _ = ax1.plot(x_2, y_2, marker='.', linestyle='none', color='yellow', alpha=0.02)\n",
    "\n",
    "# Create and plot ECDFs from original data\n",
    "x_1, y_1 = ecdf(dj)\n",
    "x_2, y_2 = ecdf(dn)\n",
    "_ = ax1.plot(x_1, y_1, marker='.', linestyle='none', color='red', alpha=0.5)\n",
    "_ = ax1.plot(x_2, y_2, marker='.', linestyle='none', color='blue', alpha=0.5)\n",
    "\n",
    "# Label axes, set margin, and show plot\n",
    "ax1.margins(0.02)\n",
    "_ = ax1.set_xlabel('data units')\n",
    "_ = ax1.set_ylabel('ECDF')\n",
    "\n",
    "# Compute the test statistic from experimental data: empirical_diff_means (var names assume test stat is diff of mean)\n",
    "empirical_diff_means = test_stat_function(dj, dn)\n",
    "# Draw 10,000 permutation replicates: perm_replicates\n",
    "perm_replicates = draw_perm_reps(dj, dn, test_stat_function, size=10000)\n",
    "\n",
    "_ = ax2.hist(perm_replicates, density=True, bins=100)\n",
    "_ = ax2.axvline(empirical_diff_means, color='red')\n",
    "_ = ax2.set_xlabel('Test-statistic ({})'.format('Diff of means' if use_rain else 'Fraction of category'))\n",
    "_ = ax2.set_ylabel('PDF')\n",
    "plt.show()\n",
    "\n",
    "# Compute p-value: p\n",
    "p = np.sum(perm_replicates <= empirical_diff_means) / len(perm_replicates)\n",
    "print('p-value =', p)\n",
    "\n",
    "# confidence intervals etc\n",
    "print('90% Confidence interval from percentiles of normed curve: {}'.format(np.percentile(bs_replicates, [5,95])))"
   ]
  },
  {
   "cell_type": "markdown",
   "metadata": {},
   "source": [
    "## Hacking a Normal 'sample' and comparing with observed data<a id=\"HS_Norm\"></a>"
   ]
  },
  {
   "cell_type": "code",
   "execution_count": 15,
   "metadata": {},
   "outputs": [
    {
     "data": {
      "image/png": "[encoded data removed]",
      "text/plain": [
       "<Figure size 504x288 with 1 Axes>"
      ]
     },
     "metadata": {},
     "output_type": "display_data"
    },
    {
     "name": "stdout",
     "output_type": "stream",
     "text": [
      "Hacker statistics P-value is 0.0000000\n",
      "Sample does not indicate that the true population's mean could be 98.6 (reject H0)\n",
      "The actual number of samples where the mean came out to be 98.2 degF or less was 0\n",
      "The actual number of samples where the mean came out to be 98.3 degF or less was 0\n",
      "The actual number of samples where the mean came out to be 98.4 degF or less was 14\n"
     ]
    }
   ],
   "source": [
    "plt.rcParams[\"figure.figsize\"] = (7,4)\n",
    "\n",
    "data = np.random.normal(98.249231, 0.733183, 130)\n",
    "mu, std = np.mean(data), np.std(data)\n",
    "muh0 = 98.6\n",
    "\n",
    "create_means = []\n",
    "for i in range(10000):\n",
    "    sam = np.random.normal(muh0, std, size=len(data))\n",
    "    # - need to actually sample the distribution you create or here end up just creating muh0 again I think!\n",
    "    create_means.append(np.mean(sam))\n",
    "    \n",
    "_ = plt.hist(create_means, bins=100, histtype='step')\n",
    "plt.show()\n",
    "\n",
    "# calculating the probablity of getting a mean of 98.2\n",
    "p = np.sum(np.array(create_means)<=98.2)/len(create_means)\n",
    "print('Hacker statistics P-value is {:.07f}'.format(p))\n",
    "# interpret\n",
    "alpha = 0.05\n",
    "if p > alpha:\n",
    "    print(\"Sample indicates that the true population's mean could be 98.6 (fail to reject H0)\")\n",
    "else:\n",
    "    print(\"Sample does not indicate that the true population's mean could be 98.6 (reject H0)\")\n",
    "    \n",
    "observed_value = 98.2\n",
    "print('The actual number of samples where the mean came out to be {} degF or less was {}'.format(\n",
    "    observed_value, np.sum(np.array(create_means)<=observed_value)))\n",
    "print('The actual number of samples where the mean came out to be {} degF or less was {}'.format(\n",
    "    observed_value+0.1, np.sum(np.array(create_means)<=observed_value+0.1)))\n",
    "print('The actual number of samples where the mean came out to be {} degF or less was {}'.format(\n",
    "    observed_value+0.2, np.sum(np.array(create_means)<=observed_value+0.2)))"
   ]
  },
  {
   "cell_type": "markdown",
   "metadata": {},
   "source": [
    "## Bootstrapping 1D data - Code examples<a id=\"BS_1D\"></a>"
   ]
  },
  {
   "cell_type": "code",
   "execution_count": 39,
   "metadata": {},
   "outputs": [
    {
     "name": "stdout",
     "output_type": "stream",
     "text": [
      "Standard error of the mean: 0.9127684184809649\n",
      "Standard deviation of the means of all the replicates: 0.9264552115563622\n"
     ]
    },
    {
     "data": {
      "image/png": "[encoded data removed]",
      "text/plain": [
       "<Figure size 504x288 with 1 Axes>"
      ]
     },
     "metadata": {},
     "output_type": "display_data"
    },
    {
     "name": "stdout",
     "output_type": "stream",
     "text": [
      "90% Confidence interval from percentiles of normed curve: [48.45550771 51.48599855]\n",
      "95% Confidence interval from percentiles of normed curve: [48.13531918 51.76022247]\n",
      "99% Confidence interval from percentiles of normed curve: [47.59594295 52.35522058]\n"
     ]
    }
   ],
   "source": [
    "plt.rcParams[\"figure.figsize\"] = (7,4)\n",
    "def bootstrap_replicate_1d(data, func):\n",
    "    \"\"\"Draw a single bootstrap replicate.\"\"\"\n",
    "    return func(np.random.choice(data, size=len(data)))\n",
    "\n",
    "def draw_bs_reps(data, func, size=1):\n",
    "    \"\"\"Draw bootstrap replicates.\"\"\"\n",
    "    bs_replicates = np.empty(size)\n",
    "    for i in range(size):\n",
    "        bs_replicates[i] = bootstrap_replicate_1d(data, func)\n",
    "    return bs_replicates\n",
    "\n",
    "data = 100*np.random.rand(1000)\n",
    "\n",
    "# Take 10,000 bootstrap replicates of the mean: bs_replicates\n",
    "bs_replicates = draw_bs_reps(data, np.mean, 10000)\n",
    "\n",
    "# Compute and print SEM (standard Error of the Mean)\n",
    "sem = np.std(data) / np.sqrt(len(data))\n",
    "print('Standard error of the mean: {}'.format(sem))\n",
    "\n",
    "# Compute and print standard deviation of bootstrap replicates\n",
    "bs_std = np.std(bs_replicates)\n",
    "print('Standard deviation of the means of all the replicates: {}'.format(bs_std))\n",
    "# Make a histogram of the results\n",
    "_ = plt.hist(bs_replicates, bins=50, density=True)\n",
    "_ = plt.xlabel('mean annual rainfall (mm)')\n",
    "_ = plt.ylabel('PDF')\n",
    "plt.show()      \n",
    "\n",
    "# confidence interval\n",
    "print('90% Confidence interval from percentiles of normed curve: {}'.format(np.percentile(bs_replicates, [5,95])))\n",
    "print('95% Confidence interval from percentiles of normed curve: {}'.format(np.percentile(bs_replicates, [2.5,97.5])))\n",
    "print('99% Confidence interval from percentiles of normed curve: {}'.format(np.percentile(bs_replicates, [0.5,99.5])))"
   ]
  },
  {
   "cell_type": "markdown",
   "metadata": {},
   "source": [
    "##  Calculating Confidence intervals from Frequentist Techniques ( z and t )\n",
    "just looking at your sample of data and figuring out when a value look suspicious"
   ]
  },
  {
   "cell_type": "code",
   "execution_count": 26,
   "metadata": {},
   "outputs": [
    {
     "name": "stdout",
     "output_type": "stream",
     "text": [
      "crit_z for 2 tail 95.0% confidence is:1.960\n",
      "Margin of error: 0.04181\n",
      "Confidence interval is :   2.1991 to 2.2827\n",
      "crit_t for 2 tail 95.0% confidence is:1.970\n",
      "Margin of error: 0.04203\n",
      "Confidence interval is :   2.1989 to 2.283\n"
     ]
    }
   ],
   "source": [
    "data = np.random.rand(230) + np.random.normal(1.75, 0.20, 230)\n",
    "# using the common 95% conf level, alpha=0.05\n",
    "alpha = 0.05   \n",
    "two_tail_clevel = alpha/2\n",
    "\n",
    "# standard error mean\n",
    "temp_sem = data.std()/(np.sqrt(len(data)))\n",
    "\n",
    "# z stats\n",
    "crit_z = st.norm.ppf(1-two_tail_clevel)\n",
    "print('crit_z for 2 tail {}% confidence is:{:.3f}'.format((1-alpha)*100, crit_z))\n",
    "# z stat margin of error\n",
    "moe = crit_z * temp_sem\n",
    "print('Margin of error: {:.5f}'.format(moe))\n",
    "# confidence interval\n",
    "[cil, ciu] = data.mean() + np.array([-1, 1]) * moe\n",
    "print('Confidence interval is :   {:.5} to {:.5}'.format(cil, ciu))\n",
    "\n",
    "# t stats\n",
    "crit_t = st.t.ppf(1-two_tail_clevel, len(data) - 1)\n",
    "print('crit_t for 2 tail {}% confidence is:{:.3f}'.format((1-alpha)*100, crit_t))\n",
    "# t stats margin of error\n",
    "moe = crit_t * temp_sem\n",
    "print('Margin of error: {:.5f}'.format(moe))\n",
    "# confidence interval\n",
    "[cil, ciu] = data.mean() + np.array([-1, 1]) * moe\n",
    "print('Confidence interval is :   {:.5} to {:.5}'.format(cil, ciu))"
   ]
  },
  {
   "cell_type": "markdown",
   "metadata": {},
   "source": [
    "### Calculating prediction interval when population has unknown mean, unknown variance"
   ]
  },
  {
   "cell_type": "code",
   "execution_count": 33,
   "metadata": {},
   "outputs": [
    {
     "name": "stdout",
     "output_type": "stream",
     "text": [
      "The 95% prediction interval for the of the population is         1.6055 to 2.8764\n"
     ]
    }
   ],
   "source": [
    "#This was triggered by Q5 in the True Normal Human Body Temp stats project - note there is more\n",
    "# using https://stackoverflow.com/a/28243282/1215012 SO answer as guidance - and the single draw equation\n",
    "[snl, snu] = st.norm.interval(0.95, loc=data.mean(), scale=data.std(ddof=1))\n",
    "print('The 95% prediction interval for the of the population is         {:.5} to {:.5}'.format(snl, snu))"
   ]
  },
  {
   "cell_type": "code",
   "execution_count": 27,
   "metadata": {},
   "outputs": [
    {
     "name": "stdout",
     "output_type": "stream",
     "text": [
      "The 95% prediction interval for the of the population is         1.6021 to 2.8798\n"
     ]
    }
   ],
   "source": [
    "# t-based prediction interval \n",
    "pi_width = crit_t * data.std() * np.sqrt((1 + 1/(len(data))))\n",
    "[pil, piu] = data.mean() + np.array([-1, 1]) * pi_width\n",
    "print('The 95% prediction interval for the of the population is         {:.5} to {:.5}'.format(pil,piu))"
   ]
  },
  {
   "cell_type": "code",
   "execution_count": 34,
   "metadata": {},
   "outputs": [
    {
     "name": "stderr",
     "output_type": "stream",
     "text": [
      "/Users/alisonkline/anaconda3/lib/python3.6/site-packages/matplotlib/axes/_axes.py:6462: UserWarning: The 'normed' kwarg is deprecated, and has been replaced by the 'density' kwarg.\n",
      "  warnings.warn(\"The 'normed' kwarg is deprecated, and has been \"\n",
      "/Users/alisonkline/anaconda3/lib/python3.6/site-packages/matplotlib/axes/_axes.py:6462: UserWarning: The 'normed' kwarg is deprecated, and has been replaced by the 'density' kwarg.\n",
      "  warnings.warn(\"The 'normed' kwarg is deprecated, and has been \"\n"
     ]
    },
    {
     "data": {
      "image/png": "[encoded data removed]",
      "text/plain": [
       "<Figure size 1440x288 with 2 Axes>"
      ]
     },
     "metadata": {},
     "output_type": "display_data"
    }
   ],
   "source": [
    "sns.set()\n",
    "plt.rcParams[\"figure.figsize\"] = (20,4)\n",
    "fig, (ax1,ax2) = plt.subplots(1,2)\n",
    "sns.distplot(data, bins = 15, rug = True, ax=ax1)\n",
    "ax1.plot([cil,cil] , [1.2, 0], linewidth = 2, color = \"k\")\n",
    "ax1.plot([ciu,ciu], [1.2, 0], linewidth = 2, color = \"k\")\n",
    "ax1.set_title('Confidence interval of the population mean 95% confident 2 tail t statitics')\n",
    "\n",
    "sns.distplot(data, bins = 15, rug = True, ax=ax2)\n",
    "ax2.plot([pil,pil], [1.2, 0], linewidth = 2, color = \"k\")\n",
    "ax2.plot([piu,piu], [1.2, 0], linewidth = 2, color = \"k\")\n",
    "ax2.plot([snl,snl], [0.6, 0], linewidth = 1, color = \"r\")\n",
    "ax2.plot([snu,snu], [0.6, 0], linewidth = 1, color = \"r\")\n",
    "ax2.set_title('Prediction interval for expected next observation 95% confident 2 tail t statitics')\n",
    "plt.show()"
   ]
  },
  {
   "cell_type": "markdown",
   "metadata": {},
   "source": [
    "## Bootstrapping with 2D data<a id=\"BS_2D\"></a>"
   ]
  },
  {
   "cell_type": "code",
   "execution_count": 17,
   "metadata": {},
   "outputs": [
    {
     "name": "stdout",
     "output_type": "stream",
     "text": [
      "90% Confidence interval on slope from percentiles of normed curve: [3.43789549 4.34004118]\n",
      "95% Confidence interval on slope from percentiles of normed curve: [3.35747511 4.46429127]\n",
      "99% Confidence interval on slope from percentiles of normed curve: [3.20478945 4.56220647]\n"
     ]
    },
    {
     "data": {
      "image/png": "[encoded data removed]",
      "text/plain": [
       "<Figure size 1440x432 with 2 Axes>"
      ]
     },
     "metadata": {},
     "output_type": "display_data"
    }
   ],
   "source": [
    "plt.rcParams[\"figure.figsize\"] = (20,6)\n",
    "\n",
    "def draw_bs_pairs_linreg(x, y, size=1):\n",
    "    \"\"\"Perform pairs bootstrap for linear regression.\"\"\"\n",
    "    # Array of indicies to sample from\n",
    "    inds = np.arange(len(x))\n",
    "\n",
    "    bs_slope_reps = np.empty(size)\n",
    "    bs_intercept_reps = np.empty(size)\n",
    "\n",
    "    # Generate replicates\n",
    "    for i in range(size):\n",
    "        bs_inds = np.random.choice(inds, size=len(inds))\n",
    "        bs_x, bs_y = x[bs_inds], y[bs_inds]\n",
    "        bs_slope_reps[i], bs_intercept_reps[i] = np.polyfit(bs_x, bs_y, 1)\n",
    "\n",
    "    return bs_slope_reps, bs_intercept_reps\n",
    "\n",
    "x_data = 100*np.random.rand(300) + 1.5\n",
    "y_data = 2 + 4*x_data + 500*np.random.rand(300)   # adding random error to y\n",
    "\n",
    "# Generate replicates of slope and intercept using pairs bootstrap\n",
    "bs_slope_reps, bs_intercept_reps = draw_bs_pairs_linreg(x_data, y_data, 1000)\n",
    "\n",
    "# Compute and print CI's for slope\n",
    "print('90% Confidence interval on slope from percentiles of normed curve: {}'.format(np.percentile(bs_slope_reps, [5,95])))\n",
    "print('95% Confidence interval on slope from percentiles of normed curve: {}'.format(np.percentile(bs_slope_reps, [2.5,97.5])))\n",
    "print('99% Confidence interval on slope from percentiles of normed curve: {}'.format(np.percentile(bs_slope_reps, [0.5,99.5])))\n",
    "\n",
    "fig, (ax1,ax2) = plt.subplots(1,2)\n",
    "\n",
    "# Plot the histogram\n",
    "_ = ax1.hist(bs_slope_reps, bins=50, density=True)\n",
    "_ = ax1.set_xlabel('slope')\n",
    "_ = ax1.set_ylabel('PDF')\n",
    "\n",
    "# plotting data and first 100 bootstrap lines \n",
    "# x-values for bootstrap lines: x (only two points as lines are straight)\n",
    "x = np.array([0,100])\n",
    "# Plot the first 100 bootstrap lines\n",
    "for i in range(100):\n",
    "    _ = ax2.plot(x, bs_slope_reps[i]*x + bs_intercept_reps[i],\n",
    "                 linewidth=0.5, alpha=0.2, color='red')\n",
    "\n",
    "# Scatter plot the data\n",
    "_ = ax2.plot(x_data, y_data, marker='.', linestyle='none')\n",
    "\n",
    "# Label axes, set the margins, and show the plot\n",
    "_ = ax2.set_xlabel('x_data')\n",
    "_ = ax2.set_ylabel('y_data')\n",
    "ax2.margins(0.02)\n",
    "plt.show()"
   ]
  },
  {
   "cell_type": "markdown",
   "metadata": {
    "collapsed": true
   },
   "source": [
    "## Hypothesis Test with correlation\n",
    "To test if two variables observed correlation is actually due only to chance\n",
    "- Null Hypothesis = the two values are completely independent\n",
    "- Using [pearson_r function](#PCoeff) to calculate the test statistic\n",
    "\n",
    "Note options with pro/cons: \n",
    "- Do a pairs bootstrap: Sample pairs of observed data with replacement to generate a new set of (illiteracy, fertility) data.\n",
    "<br><font size=small color=gray>Pairs bootstrap will get you a confidence interval on the Pearson correlation. You can get a confidence interval for its value. You would find, for example, that it cannot be close to zero. But this is not a simulation of the null hypothesis.</font>\n",
    "- Do a bootstrap sampling in which you sample 162 illiteracy values with replacement and then 162 fertility values with replacement.\n",
    "<br><font size=small color=gray>This works and is a legitimate way to simulate the data. The pairings are now random. However, it is not preferred because it is not exact like a permutation test is.</font>\n",
    "- Do a permutation test: Permute the illiteracy values but leave the fertility values fixed to generate a new set of (illiteracy, fertility) data.\n",
    "<br><font size=small color=gray>BEST, this exactly simulates the null hypothesis and does so more efficiently than the last option. It is exact because it uses all data and eliminates any correlation because which illiteracy value pairs to which fertility value is shuffled.</font>\n",
    "- Do a permutation test: Permute both the illiteracy and fertility values to generate a new set of (illiteracy, fertility data).\n",
    "<br><font size=small color=gray>This works perfectly, and is exact because it uses all data and eliminates any correlation because which illiteracy value pairs to which fertility value is shuffled. However, it is not necessary, and computationally inefficient, to permute both illiteracy and fertility.</font>"
   ]
  },
  {
   "cell_type": "code",
   "execution_count": 18,
   "metadata": {},
   "outputs": [
    {
     "name": "stdout",
     "output_type": "stream",
     "text": [
      "p-val = 0.0\n"
     ]
    }
   ],
   "source": [
    "# get data\n",
    "di, df = np.genfromtxt('data/ex2.csv',delimiter=\",\")\n",
    "\n",
    "# Compute observed correlation: r_obs\n",
    "r_obs = pearson_r(di, df)\n",
    "\n",
    "# Initialize permutation replicates: perm_replicates\n",
    "perm_replicates = np.empty(10000)\n",
    "\n",
    "# Draw replicates\n",
    "for i in range(10000):\n",
    "    # Permute illiteracy measurments: illiteracy_permuted\n",
    "    di_permuted = np.random.permutation(di)\n",
    "\n",
    "    # Compute Pearson correlation\n",
    "    perm_replicates[i] = pearson_r(di_permuted, df)\n",
    "\n",
    "# Compute p-value: p\n",
    "p = np.sum(perm_replicates >= r_obs)/len(perm_replicates)\n",
    "print('p-val =', p)"
   ]
  },
  {
   "cell_type": "markdown",
   "metadata": {},
   "source": [
    "You got a **p-value of zero**. In hacker statistics, this means that your p-value is very low, since you never got a single replicate in the 10,000 you took that had a Pearson correlation greater than the observed one. You could try increasing the number of replicates you take to continue to move the upper bound on your p-value lower and lower."
   ]
  },
  {
   "cell_type": "markdown",
   "metadata": {},
   "source": [
    "## Bootstrap hypothesis test (Control & Treated) - Effect of insecticide on Bee sperm\n",
    "- Visualize the data. Control and Treated (ie exposed to insecticide)\n",
    "- Null Hypothesis = \"On average, male bees treated with neonicotinoid insecticide have the same number of active sperm per milliliter of semen than do untreated male bees. \"\n",
    "- Test statistic = [difference of means](#ComTS)\n",
    "\n",
    "The p-value is small, most likely less than 0.0001, since you never saw a bootstrap replicated with a difference of means at least as extreme as what was observed. When done with 10 million replicates, p-value = 2e-05. This is strong evidence that insecticide is having an impact on Bee sperm."
   ]
  },
  {
   "cell_type": "code",
   "execution_count": 19,
   "metadata": {},
   "outputs": [
    {
     "data": {
      "image/png": "[encoded data removed]",
      "text/plain": [
       "<Figure size 504x288 with 1 Axes>"
      ]
     },
     "metadata": {},
     "output_type": "display_data"
    },
    {
     "name": "stdout",
     "output_type": "stream",
     "text": [
      "p-value = 0.0\n"
     ]
    }
   ],
   "source": [
    "plt.rcParams[\"figure.figsize\"] = (7,4)\n",
    "\n",
    "# get data\n",
    "control = np.genfromtxt('data/ex3a.csv',delimiter=\",\")\n",
    "treated = np.genfromtxt('data/ex3b.csv',delimiter=\",\")\n",
    "\n",
    "fig, ax1 = plt.subplots()\n",
    "\n",
    "# Compute values for and plot ECDFs\n",
    "x_control, y_control = ecdf(control)\n",
    "x_treated, y_treated = ecdf(treated)\n",
    "ax1.plot(x_control, y_control, marker='.', linestyle='none')\n",
    "ax1.plot(x_treated, y_treated, marker='.', linestyle='none')\n",
    "\n",
    "# Label and show plot\n",
    "ax1.margins(0.02)\n",
    "ax1.legend(('control', 'treated'), loc='lower right')\n",
    "ax1.set_xlabel('millions of alive sperm per mL')\n",
    "ax1.set_ylabel('ECDF')\n",
    "plt.show()\n",
    "\n",
    "# Compute the difference in mean sperm count: diff_means\n",
    "diff_means = diff_of_means(control, treated)   # using function doesn't add much\n",
    "\n",
    "# Compute mean of pooled data: mean_count\n",
    "mean_count = np.mean(np.concatenate((control,treated)))\n",
    "\n",
    "# Generate shifted data sets\n",
    "control_shifted = control - np.mean(control) + mean_count\n",
    "treated_shifted = treated - np.mean(treated) + mean_count\n",
    "\n",
    "# Generate bootstrap replicates using shifted data\n",
    "bs_reps_control = draw_bs_reps(control_shifted, np.mean, size=10000)\n",
    "bs_reps_treated = draw_bs_reps(treated_shifted, np.mean, size=10000)\n",
    "\n",
    "# Get replicates of difference of means: bs_replicates\n",
    "bs_replicates = bs_reps_control - bs_reps_treated\n",
    "\n",
    "# Compute and print p-value: p\n",
    "p = np.sum(bs_replicates >= np.mean(control) - np.mean(treated))/ len(bs_replicates)\n",
    "print('p-value =', p)"
   ]
  },
  {
   "cell_type": "markdown",
   "metadata": {},
   "source": [
    "## One sample tests:\n",
    "### t test\n",
    "-  H0 = true mean of population is some value 'true_pop_mean'\n",
    "-  Ha = true mean of population is some other value => two tail\n",
    "-  Ha' = true mean of population is higher or lower => 1 tail\n",
    "-  significance level = 5% or (95% confident)\n",
    "-  Test statistic = mean"
   ]
  },
  {
   "cell_type": "code",
   "execution_count": 20,
   "metadata": {
    "collapsed": true
   },
   "outputs": [],
   "source": [
    "data = np.round(np.random.normal(1.75, 0.20, 200), 2) + np.random.exponential(2,200)"
   ]
  },
  {
   "cell_type": "code",
   "execution_count": 21,
   "metadata": {},
   "outputs": [
    {
     "name": "stdout",
     "output_type": "stream",
     "text": [
      "MANUAL TEST\n",
      "   t = -3.78580659\n",
      "   p = 0.00020277\n",
      "AUTOMATED TEST\n",
      "   t = -3.78580659\n",
      "   p = 0.00020277\n"
     ]
    }
   ],
   "source": [
    "true_pop_mean = 4.3\n",
    "alpha = 0.05     # use as cut-off for 1 tail tests\n",
    "two_t_cut = alpha/2  # use as cut-off for 2 tail tests\n",
    "\n",
    "sample_mean = np.mean(data)\n",
    "# ddof is'Delta Degrees of Freedom, the divisor used in calculating is N-ddof\n",
    "sample_standard_dev = np.std(data, ddof=1)\n",
    "n = len(data)\n",
    "\n",
    "\n",
    "print('MANUAL TEST')\n",
    "## Calculate the t-statistic\n",
    "t = (sample_mean-true_pop_mean)/(sample_standard_dev/np.sqrt(n))\n",
    "\n",
    "## Compare with the critical t-value\n",
    "#Degrees of freedom\n",
    "deg_free = n - 1\n",
    "# p-value after comparison with the t (can use t.sf(x, df) the survival function (i.e. 1 - t.cdf(x, df)).)\n",
    "\n",
    "p = 2*(1 - st.t.cdf(abs(t),df=deg_free))    # 2* for the two tail nature of this test\n",
    "\n",
    "print(\"   t = {:.8f}\".format(t))\n",
    "print(\"   p = {:.8f}\".format(p))\n",
    "\n",
    "print('AUTOMATED TEST')\n",
    "## Cross Checking with the internal scipy function\n",
    "#t2, p2 = stats.ttest_ind(a,b)  # 2-sample\n",
    "t1, p1 = st.ttest_1samp(data, true_pop_mean)       # 1-sample two sided test\n",
    "print(\"   t = {:.8f}\".format(t1))\n",
    "print(\"   p = {:.8f}\".format(p1))"
   ]
  },
  {
   "cell_type": "markdown",
   "metadata": {},
   "source": [
    "### z test \n",
    "for completeness - rarely appropriated for this as test statistic here is a mean"
   ]
  },
  {
   "cell_type": "code",
   "execution_count": 38,
   "metadata": {},
   "outputs": [
    {
     "name": "stdout",
     "output_type": "stream",
     "text": [
      "MANUAL TEST\n",
      "   z = -4.08019724\n",
      "   p = 0.00004500\n",
      "AUTOMATED TEST\n",
      "   z = -4.08019724\n",
      "   p = 0.00004500\n"
     ]
    }
   ],
   "source": [
    "print('MANUAL TEST')\n",
    "## Calculate the t-statistic\n",
    "z = (sample_mean-true_pop_mean)/(sample_standard_dev/np.sqrt(n))\n",
    "\n",
    "## Compare with the critical z-value\n",
    "# p-value after comparison with the z (can use t.sf(x, df) the survival function (i.e. 1 - t.cdf(x, df)).)\n",
    "p = 2*(1 - st.norm.cdf(abs(z)))    # 2* for the two tail nature of this test\n",
    "\n",
    "print(\"   z = {:.8f}\".format(z))\n",
    "print(\"   p = {:.8f}\".format(p))\n",
    "\n",
    "print('AUTOMATED TEST')\n",
    "## Cross Checking with the internal scipy function\n",
    "z1, p1 = weightstats.ztest(data, value=true_pop_mean)\n",
    "print(\"   z = {:.8f}\".format(z1))\n",
    "print(\"   p = {:.8f}\".format(p1))"
   ]
  },
  {
   "cell_type": "markdown",
   "metadata": {},
   "source": [
    "## Two sample proportion tests (z statistic):\n",
    "watch out for needing to combine the samples when working out sample distributions under the null hypothesis\n",
    "see the sliderule_dsi_inferential_statistics_exercise_2 springboard notebook one black white name resume call backs\n",
    "\n",
    "ALSO one sample test uses same proportions_ztest()"
   ]
  },
  {
   "cell_type": "code",
   "execution_count": 5,
   "metadata": {},
   "outputs": [
    {
     "name": "stdout",
     "output_type": "stream",
     "text": [
      "The standard error: 0.051536\n",
      "test statistic: 1.543\n",
      "p value: 0.061411\n"
     ]
    }
   ],
   "source": [
    "n1, n2 = 100, 100\n",
    "s1, s2 = 20, 12\n",
    "p_1 = s1/n1\n",
    "p_2 = s2/n2\n",
    "var_pbar_1 = p_1*(1-p_1)/n1\n",
    "var_pbar_2 = p_2*(1-p_2)/n2\n",
    "# H0: p_1 = p_2 vs Ha P_1 > p_2\n",
    "p_p1p2 = p_1 - p_2\n",
    "sd_p1p2 = np.sqrt(var_pbar_1 + var_pbar_2)\n",
    "print('The standard error: {:.5}'.format(sd_p1p2))\n",
    "\n",
    "p_comb = (s1+s2)/(n1+n2)\n",
    "# pooled standard error somewhere here\n",
    "z_test = (p_p1p2-0)/np.sqrt((p_comb*(1-p_comb))/n1 + (p_comb*(1-p_comb))/n2)\n",
    "print('test statistic: {:.5}'.format(z_test))\n",
    "print('p value: {:.5}'.format(st.norm.sf(abs(z_test))))"
   ]
  },
  {
   "cell_type": "code",
   "execution_count": 9,
   "metadata": {},
   "outputs": [
    {
     "name": "stdout",
     "output_type": "stream",
     "text": [
      "test statistic (calculated using proportions_ztest()): 1.543\n",
      "p value: 0.0614113\n"
     ]
    }
   ],
   "source": [
    "(z_test2, p2) = props.proportions_ztest([s1, s2],[n1,n2],\n",
    "                                        alternative='larger')\n",
    "print('test statistic (calculated using proportions_ztest()): {:.5}'.format(z_test2))\n",
    "print('p value: {:.6}'.format(p2))"
   ]
  },
  {
   "cell_type": "markdown",
   "metadata": {},
   "source": [
    "## Two Sample difference of means t test"
   ]
  },
  {
   "cell_type": "code",
   "execution_count": 10,
   "metadata": {},
   "outputs": [
    {
     "name": "stdout",
     "output_type": "stream",
     "text": [
      "we have 65 observations of men, and 65 observations of women\n"
     ]
    },
    {
     "data": {
      "image/png": "[encoded data removed]",
      "text/plain": [
       "<Figure size 504x288 with 1 Axes>"
      ]
     },
     "metadata": {},
     "output_type": "display_data"
    },
    {
     "name": "stdout",
     "output_type": "stream",
     "text": [
      "variance of males = 0.4661565, \n",
      "variance of females = 0.537395\n",
      "degrees of freedom : 127.36\n",
      "Test_statistic  = -3.482314, \n",
      "the test critical value is 1.978766\n",
      "p value of this Test statistic: 0.0006817462\n",
      "\n",
      "Sample does not indicate that the two population's mean are equal (reject H0) with 95% confidence\n"
     ]
    }
   ],
   "source": [
    "# https://www.itl.nist.gov/div898/handbook/eda/section3/eda353.htm\n",
    "temp_males = pd.Series(np.random.normal(98.104615, 0.698756, 65))\n",
    "temp_females = pd.Series(np.random.normal(98.393846, 0.743488, 65))\n",
    "n = len(temp_males)\n",
    "m = len(temp_females)\n",
    "print('we have {} observations of men, and {} observations of women'.format(n,m))\n",
    "\n",
    "temp_males.plot(kind='hist', bins=11, alpha=0.5, label='males')\n",
    "temp_females.plot(kind='hist', bins=11, alpha=0.5, label='females')\n",
    "plt.legend()\n",
    "plt.show()\n",
    "\n",
    "# MANUAL\n",
    "# Assuming the null hypothesis means we can combine both groups\n",
    "var_m = np.var(temp_males, ddof=1)\n",
    "var_f =np.var(temp_females, ddof=1)\n",
    "sd_combined = np.sqrt(var_m/n+var_f/m)\n",
    "\n",
    "test_stat = (np.mean(temp_males) - np.mean(temp_females))/sd_combined\n",
    "print('variance of males = {:.7}, \\nvariance of females = {:.7}'.format(np.var(temp_males), np.var(temp_females)))\n",
    "\n",
    "# at 95% two tail alpha=0.05 giving 0.025 in each tail and an area to left of crit_t of 0.975\n",
    "ddof = (var_m/n+var_f/m)**2 / ((var_m/n)**2/(n-1) + (var_f/m)**2/(m-1))\n",
    "#dof = (avar/na + bvar/nb)**2 / (avar**2/(na**2*adof) + bvar**2/(nb**2*bdof))\n",
    "crit_t = st.t.ppf(0.975, ddof)\n",
    "print('degrees of freedom : {:.5}'.format(ddof))\n",
    "\n",
    "print('Test_statistic  = {:.7}, \\nthe test critical value is {:.7}'.format(test_stat, crit_t))\n",
    "\n",
    "p_val = 2*st.t.sf(abs(test_stat), df=ddof)\n",
    "print('p value of this Test statistic: {:.7}'.format(p_val))\n",
    "\n",
    "if p_val > 0.05:\n",
    "    print(\"\\nSample indicates that the two population's mean are the same (fail to reject H0)\")\n",
    "else:\n",
    "    print(\"\\nSample does not indicate that the two population's mean are equal (reject H0) with 95% confidence\")"
   ]
  },
  {
   "cell_type": "code",
   "execution_count": 12,
   "metadata": {},
   "outputs": [
    {
     "name": "stdout",
     "output_type": "stream",
     "text": [
      "calculated t-statistic: -3.482314\n",
      "with p value: 0.0006817462\n",
      "calculated t-statistic: -3.482314\n",
      "with p value: 0.0006817462\n"
     ]
    }
   ],
   "source": [
    "# AUTOMATIC - when you have the samples\n",
    "t, pt = st.ttest_ind(temp_males, temp_females, equal_var = False)       # 2-sample two sided test from samples\n",
    "print('calculated t-statistic: {:.7}'.format(t))\n",
    "print('with p value: {:.7}'.format(pt))\n",
    "\n",
    "# AUTOMATIC - when you only have the sample statistics\n",
    "mean_m = np.mean(temp_males)\n",
    "mean_f = np.mean(temp_females)\n",
    "\n",
    "# 2-sample two sided test from sample statistics only\n",
    "t2,pt2 = st.ttest_ind_from_stats(mean_m, np.sqrt(var_m), n, mean_f, np.sqrt(var_f), m, equal_var=False)\n",
    "print('calculated t-statistic: {:.7}'.format(t2))\n",
    "print('with p value: {:.7}'.format(pt2))"
   ]
  },
  {
   "cell_type": "markdown",
   "metadata": {},
   "source": [
    "## Creating data<a id=\"Create\"></a>\n",
    "\n",
    "- raw numpy data __[Array Creation Routines](https://docs.scipy.org/doc/numpy/reference/routines.array-creation.html)__\n",
    "- __[Random Sampling](https://docs.scipy.org/doc/numpy/reference/routines.random.html)__"
   ]
  },
  {
   "cell_type": "code",
   "execution_count": 3,
   "metadata": {},
   "outputs": [
    {
     "data": {
      "text/plain": [
       "[(0, 0), (0, 1), (0, 2), (1, 0), (1, 1), (1, 2), (2, 0), (2, 1), (2, 2)]"
      ]
     },
     "execution_count": 3,
     "metadata": {},
     "output_type": "execute_result"
    }
   ],
   "source": [
    "# numpy.random.normal(loc=dist mean, scale=dist standard dev, size=number of samples)\n",
    "data = np.round(np.random.normal(1.75, 0.20, 5000), 2)  \n",
    "# numpy.random.uniform(low=0.0, high=1.0, size=None)\n",
    "data = np.random.uniform(-2,5,1000)\n",
    "# numpy.random.binomial(n, p, size=None)\n",
    "data = np.random.binomial(10,0.05,1000)\n",
    "# numpy.random.poisson(lam=1.0, size=None)¶\n",
    "data = np.random.poisson(2,1000)\n",
    "# numpy.random.exponential(scale=mean, size=None)\n",
    "data = np.random.exponential(2,1000)\n",
    "\n",
    "# numpy.random.random(size=None): Return random floats in the half-open interval [0.0, 1.0)¶\n",
    "np.random.random(1000)\n",
    "\n",
    "# numpy.random.rand(d0, d1, ..., dn): Random values in a given shape. values from 0-1¶\n",
    "x = 100*np.random.rand(1000)\n",
    "# calculating a y based on an x\n",
    "y = list(map(lambda a: (a-2)**2*(a+1), x))\n",
    "# adding random error to y\n",
    "y = 2 + 4*x + 500*np.random.rand(1000)   \n",
    "\n",
    "# np.array((object, dtype=None, copy=True, order='K', subok=False, ndmin=0)¶)\n",
    "t = np.array(range(0,100))\n",
    "# np.linspace(start, stop, num=50, endpoint=True, retstep=False, dtype=None)\n",
    "t = np.linspace(0, 200, 100)    # Return evenly spaced numbers over a specified interval.\n",
    "# np.arange([start, ]stop, [step, ]dtype=None): Return evenly spaced values within a given interval.¶\n",
    "t = np.arange(0,20) # similar to python range but returning an ndarray rather than list\n",
    "# arange is half open [start,stop), linspace has more careful handling of endpoints\n",
    " \n",
    "data = np.matrix([[1,2,3,4],[5,6,7,8]])                         # np matrix\n",
    "df = pd.DataFrame({'x':x, 'y':y})                               # pandas DataFrame\n",
    "df = pd.DataFrame({'A': 'foo bar foo bar foo bar foo foo'.split(),\n",
    "                   'B': 'one one two three two two one three'.split(),\n",
    "                   'C': np.arange(8), 'D': np.arange(8) * 2})   # pd df, each list => col \n",
    "df = pd.DataFrame([['small', 'small', 'large', 'large']\n",
    "                        , [1976, 1976, 1977, 1977]\n",
    "                        , [710, 825, 105, 835]])   # pd df, each list => row\n",
    "df = pd.DataFrame(np.zeros((100,3)))                     # filled with zeros (note the (tuple) with brackets)\n",
    "df = pd.read_csv('data/CSF_ds1.csv',delimiter=\",\") # first row has column headers in it.\n",
    "\n",
    "# two variable list comprehension:\n",
    "[(i,j) for i in range(3) for j in range(3)]\n",
    "# don't forget itertools permutation and combinations \n",
    "#[This SO question](https://stackoverflow.com/a/40876432/1215012)"
   ]
  },
  {
   "cell_type": "code",
   "execution_count": null,
   "metadata": {
    "collapsed": true
   },
   "outputs": [],
   "source": []
  }
 ],
 "metadata": {
  "kernelspec": {
   "display_name": "Python 3",
   "language": "python",
   "name": "python3"
  },
  "language_info": {
   "codemirror_mode": {
    "name": "ipython",
    "version": 3
   },
   "file_extension": ".py",
   "mimetype": "text/x-python",
   "name": "python",
   "nbconvert_exporter": "python",
   "pygments_lexer": "ipython3",
   "version": "3.6.2"
  }
 },
 "nbformat": 4,
 "nbformat_minor": 2
}
