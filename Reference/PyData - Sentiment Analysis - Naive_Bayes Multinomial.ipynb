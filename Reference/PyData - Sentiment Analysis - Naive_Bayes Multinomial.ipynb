{
 "cells": [
  {
   "cell_type": "markdown",
   "metadata": {},
   "source": [
    "# Sentiment Analysis Example\n",
    "Following [Ryan Rosario's talk](https://vtalks.net/talk/ryan-rosario-sentiment-classification-using-scikit-learn/)\n"
   ]
  },
  {
   "cell_type": "code",
   "execution_count": 62,
   "metadata": {},
   "outputs": [
    {
     "name": "stdout",
     "output_type": "stream",
     "text": [
      "Number of data items = 18\n"
     ]
    }
   ],
   "source": [
    "import numpy as np\n",
    "import pandas as pd\n",
    "import sklearn.cross_validation\n",
    "import sklearn.feature_extraction.text\n",
    "import sklearn.metrics\n",
    "import sklearn.naive_bayes\n",
    "\n",
    "names = ['text', 'label']\n",
    "#read in some text data.\n",
    "data = pd.read_table(\"data/AK_quick_data_set.txt\", sep=\",\", names=names)\n",
    "print(\"Number of data items = {}\".format(data.shape[0]))"
   ]
  },
  {
   "cell_type": "code",
   "execution_count": 64,
   "metadata": {},
   "outputs": [
    {
     "name": "stdout",
     "output_type": "stream",
     "text": [
      "Number of training items = 12, Number of testing items = 6\n"
     ]
    }
   ],
   "source": [
    "# split the data, default is 75% train.\n",
    "# After the split, we essentially have two arrays of arrays.\n",
    "train, test = sklearn.cross_validation.train_test_split(data, train_size=0.7)\n",
    "train_data, test_data = pd.DataFrame(train, columns=names), pd.DataFrame(test, columns=names)\n",
    "print(\"Number of training items = {}, Number of testing items = {}\".format(train_data.shape[0], test_data.shape[0]))"
   ]
  },
  {
   "cell_type": "code",
   "execution_count": 65,
   "metadata": {},
   "outputs": [],
   "source": [
    "# Vectorization is the process of converting all the names into a binary vector of 1s and 0s\n",
    "# each name is encoded as a set of on/off attributes for each n-gram\n",
    "vectorizer = sklearn.feature_extraction.text.CountVectorizer(stop_words='english')"
   ]
  },
  {
   "cell_type": "code",
   "execution_count": 67,
   "metadata": {},
   "outputs": [
    {
     "data": {
      "text/plain": [
       "\"\\n# can play with different n-grams and other encodings during vectorization\\nvectorizer = sklearn.feature_extraction.text.CountVectorizer(\\n    analyzer='char', ngram_range=(2,3), min_df=0, max_df=0.1, binary=True)\\n\""
      ]
     },
     "execution_count": 67,
     "metadata": {},
     "output_type": "execute_result"
    }
   ],
   "source": [
    "\"\"\"\n",
    "# can play with different n-grams and other encodings during vectorization\n",
    "vectorizer = sklearn.feature_extraction.text.CountVectorizer(\n",
    "    analyzer='char', ngram_range=(2,3), min_df=0, max_df=0.1, binary=True)\n",
    "\"\"\""
   ]
  },
  {
   "cell_type": "code",
   "execution_count": 69,
   "metadata": {},
   "outputs": [],
   "source": [
    "train_matrix = vectorizer.fit_transform(train_data['text'])\n",
    "test_matrix = vectorizer.transform(test_data['text'])\n",
    "\n",
    "## if data has 'POS' for possitive label - convert to 1,0 encoding\n",
    "#positive_cases_train = (train_data['label'] == 'POS')\n",
    "#positive_cases_test = (train_data['label'] == 'POS')\n",
    "\n",
    "positive_cases_train = (train_data['label'])\n",
    "positive_cases_test = (test_data['label'])"
   ]
  },
  {
   "cell_type": "code",
   "execution_count": 70,
   "metadata": {},
   "outputs": [
    {
     "data": {
      "text/plain": [
       "MultinomialNB(alpha=1.0, class_prior=None, fit_prior=True)"
      ]
     },
     "execution_count": 70,
     "metadata": {},
     "output_type": "execute_result"
    }
   ],
   "source": [
    "# Train the classifier\n",
    "# watch for class imbalance, this assumes your data is close enough to 50%:50%\n",
    "classifier = sklearn.naive_bayes.MultinomialNB()\n",
    "classifier.fit(train_matrix, positive_cases_train)"
   ]
  },
  {
   "cell_type": "code",
   "execution_count": 74,
   "metadata": {},
   "outputs": [
    {
     "name": "stdout",
     "output_type": "stream",
     "text": [
      "predicted sentiment = [1 1 1 1 1 1]\n",
      "predicted probabilities = [[0.19448593 0.80551407]\n",
      " [0.41666667 0.58333333]\n",
      " [0.45372051 0.54627949]\n",
      " [0.41666667 0.58333333]\n",
      " [0.41666667 0.58333333]\n",
      " [0.41666667 0.58333333]]\n"
     ]
    }
   ],
   "source": [
    "# Predict sentiment for test set\n",
    "# possible to store the model of the classifier to disk for later use Simple use joblib from scikit-learn\n",
    "# to pickle it.\n",
    "predicted_sentiment = classifier.predict(test_matrix)\n",
    "predicted_probs = classifier.predict_proba(test_matrix)\n",
    "print(\"predicted sentiment = {}\".format(predicted_sentiment))\n",
    "print(\"predicted probabilities = {}\".format(predicted_probs))"
   ]
  },
  {
   "cell_type": "code",
   "execution_count": 73,
   "metadata": {},
   "outputs": [
    {
     "name": "stdout",
     "output_type": "stream",
     "text": [
      "\n",
      "Accuracy = 0.6666666666666666\n",
      "Precision = [0.         0.66666667]\n",
      "Recall = [0. 1.]\n",
      "F1 Score = [0.  0.8]\n"
     ]
    },
    {
     "name": "stderr",
     "output_type": "stream",
     "text": [
      "/Users/alisonkline/anaconda3/lib/python3.6/site-packages/sklearn/metrics/classification.py:1135: UndefinedMetricWarning: Precision and F-score are ill-defined and being set to 0.0 in labels with no predicted samples.\n",
      "  'precision', 'predicted', average, warn_for)\n"
     ]
    }
   ],
   "source": [
    "#Now, calculate the diagnostics.\n",
    "accuracy = classifier.score(test_matrix, positive_cases_test)\n",
    "precision, recall, f1, _ = sklearn.metrics.precision_recall_fscore_support(positive_cases_test, predicted_sentiment)\n",
    "\n",
    "print(\"\")\n",
    "print(\"Accuracy =\", accuracy)\n",
    "print(\"Precision =\", precision)\n",
    "print(\"Recall =\", recall)\n",
    "print(\"F1 Score =\", f1)"
   ]
  },
  {
   "cell_type": "markdown",
   "metadata": {},
   "source": [
    "# Presentation of Diagnostic Plots\n",
    "Code requires a specific set of data"
   ]
  },
  {
   "cell_type": "code",
   "execution_count": 191,
   "metadata": {},
   "outputs": [
    {
     "data": {
      "image/png": "[encoded data removed]",
      "text/plain": [
       "<Figure size 576x432 with 1 Axes>"
      ]
     },
     "metadata": {},
     "output_type": "display_data"
    }
   ],
   "source": [
    "%matplotlib inline\n",
    "import matplotlib.pyplot as plt\n",
    "import numpy as np\n",
    "import pandas as pd\n",
    "import sklearn.cross_validation\n",
    "import sklearn.feature_extraction.text\n",
    "import sklearn.metrics\n",
    "import sklearn.naive_bayes\n",
    "\n",
    "fig = plt.gcf()\n",
    "fig.set_size_inches(8,6)\n",
    "\n",
    "# a dataframe containing language, pedicted probability and true label. - data used for presentation couldn't be shared\n",
    "#data = pd.read_table(\"predictions.dat\", header=0, sep=',', index_col=False)\n",
    "\n",
    "# creating my own dummy data\n",
    "dd_predicted_probs = np.array(np.random.random(10))\n",
    "dd_positive_cases_train = np.array([1,0,1,1,1,0,0,0,1,1])\n",
    "\n",
    "#creating the needed input from model and a second dummy data set\n",
    "data = pd.DataFrame({'language':['From file', 'Dummy'],\n",
    "                     'truth':[positive_cases_test.values, dd_positive_cases_train],\n",
    "                     'prediction':[predicted_probs[:,1], dd_predicted_probs]})\n",
    "\n",
    "all_series =[]\n",
    "languages = set(data['language'])\n",
    "\n",
    "for language in languages:\n",
    "    language_data = data[data['language'] == language]\n",
    "    \n",
    "    # have to feed np.arrays into roc_curve\n",
    "    truth = language_data['truth'].values[0]\n",
    "    probabilities = language_data['prediction'].values[0]\n",
    "    \n",
    "    fpr, tpr, thresholds = sklearn.metrics.roc_curve(truth, probabilities, 1)\n",
    "    series, = plt.plot(fpr, tpr, label=language)\n",
    "    all_series.append(series)\n",
    "    \n",
    "# Add a diagonal line representing the worst case.\n",
    "ax = plt.plot([0,1], [0,1], color='0.5', linestyle='--')\n",
    "\n",
    "plt.title('ROC Curve for Multiple Languages', fontsize=18)\n",
    "plt.xlabel('False Positive Rate', fontsize=14)\n",
    "plt.ylabel('True Positive Rate', fontsize=14)\n",
    "\n",
    "legend = plt.legend(all_series, languages, loc='lower right', shadow=True)\n",
    "\n",
    "for label in legend.get_texts():\n",
    "    label.set_fontsize('large')\n",
    "    \n",
    "for label in legend.get_lines():\n",
    "    label.set_linewidth(6) #the legend line width\n",
    "    \n",
    "plt.show()"
   ]
  },
  {
   "cell_type": "markdown",
   "metadata": {},
   "source": [
    "# The Precision/Recall Curve"
   ]
  },
  {
   "cell_type": "code",
   "execution_count": 195,
   "metadata": {},
   "outputs": [
    {
     "data": {
      "image/png": "[encoded data removed]",
      "text/plain": [
       "<Figure size 576x432 with 1 Axes>"
      ]
     },
     "metadata": {},
     "output_type": "display_data"
    }
   ],
   "source": [
    "%matplotlib inline\n",
    "\n",
    "fig = plt.gcf()\n",
    "fig.set_size_inches(8,6)\n",
    "\n",
    "all_series =[]\n",
    "languages = set(data['language'])\n",
    "for language in languages:\n",
    "    language_data = data[data['language'] == language]\n",
    "    \n",
    "    # have to feed np.arrays into roc_curve\n",
    "    truth = language_data['truth'].values[0]\n",
    "    probabilities = language_data['prediction'].values[0]\n",
    "    \n",
    "    p, r, thresholds = sklearn.metrics.precision_recall_curve(truth, probabilities, 1)\n",
    "    series, = plt.plot(r, p, label=language)\n",
    "    all_series.append(series)\n",
    "    \n",
    "plt.title('Precision-Recall Curve for Multiple Languages', fontsize=18)\n",
    "plt.xlabel('Recall', fontsize=14)\n",
    "plt.ylabel('Precision', fontsize=14)\n",
    "plt.ylim([0,1])\n",
    "\n",
    "legend = plt.legend(all_series, languages, loc='lower left', shadow=True)\n",
    "for label in legend.get_texts():\n",
    "    label.set_fontsize('large')\n",
    "    \n",
    "for label in legend.get_lines():\n",
    "    label.set_linewidth(6) #the legend line width\n",
    "    \n",
    "plt.show()"
   ]
  },
  {
   "cell_type": "code",
   "execution_count": null,
   "metadata": {
    "collapsed": true
   },
   "outputs": [],
   "source": []
  }
 ],
 "metadata": {
  "kernelspec": {
   "display_name": "Python 3",
   "language": "python",
   "name": "python3"
  },
  "language_info": {
   "codemirror_mode": {
    "name": "ipython",
    "version": 3
   },
   "file_extension": ".py",
   "mimetype": "text/x-python",
   "name": "python",
   "nbconvert_exporter": "python",
   "pygments_lexer": "ipython3",
   "version": "3.6.2"
  }
 },
 "nbformat": 4,
 "nbformat_minor": 2
}
