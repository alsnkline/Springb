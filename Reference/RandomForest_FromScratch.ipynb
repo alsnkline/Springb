{
 "cells": [
  {
   "cell_type": "markdown",
   "metadata": {},
   "source": [
    "# Random Forest From Scratch\n",
    "[following this reference lesson](https://github.com/fastai/fastai/blob/master/courses/ml1/lesson3-rf_foundations.ipynb) from FastAI\n",
    "\n",
    "Course code needs older fastAI version 0.7.0\n",
    "http://forums.fast.ai/t/fastai-v0-install-issues-thread/24652\n",
    "\n",
    "Note I have a CPU environment - I have inconsistently used both conda (Anaconda) and Pip 'conda list' shows this well :-)\n",
    "\n",
    "activate environment with this comand in terminal:\n",
    "\n",
    " To activate this environment, use:\n",
    " > source activate fastai-cpu\n",
    "\n",
    " To deactivate an active environment, use:\n",
    " > source deactivate\n",
    "\n",
    "have to activate and then start jupyter notebook server from in that activated area so that you can access the fastai stuff.\n",
    "\n",
    "I've downloaded the Kaggle bluebookForBulldozers and worked through half the first lesson which includes cleaning the data ready for use in a tree. \n",
    "\n",
    "This Gradient blog: https://medium.com/mlreview/gradient-boosting-from-scratch-1e317ae4587d\n",
    "full code [here](https://www.kaggle.com/grroverpr/gradient-boosting-simplified/)\n",
    "\n",
    "Need to work through and be in directory for the rest of the fastai stuff:\n",
    " > /Users/alisonkline/Code/fastai\n",
    " \n",
    "activate fastai-cpu run jupyter notebook and open the notebooks to follow along with\n",
    "http://localhost:8889/notebooks/courses/ml1/AK-lesson1-rf.ipynb#Metric\n",
    "\n",
    "Then fastai.structured import * will be found and that contains 'proc_df'"
   ]
  },
  {
   "cell_type": "code",
   "execution_count": 3,
   "metadata": {},
   "outputs": [
    {
     "name": "stdout",
     "output_type": "stream",
     "text": [
      "The autoreload extension is already loaded. To reload it, use:\n",
      "  %reload_ext autoreload\n"
     ]
    }
   ],
   "source": [
    "%load_ext autoreload\n",
    "%autoreload 2\n",
    "#https://ipython.org/ipython-doc/3/config/extensions/autoreload.html"
   ]
  },
  {
   "cell_type": "code",
   "execution_count": 2,
   "metadata": {},
   "outputs": [
    {
     "ename": "ModuleNotFoundError",
     "evalue": "No module named 'fastai.structured'",
     "output_type": "error",
     "traceback": [
      "\u001b[0;31m---------------------------------------------------------------------------\u001b[0m",
      "\u001b[0;31mModuleNotFoundError\u001b[0m                       Traceback (most recent call last)",
      "\u001b[0;32m<ipython-input-2-08d2cca2ea5e>\u001b[0m in \u001b[0;36m<module>\u001b[0;34m()\u001b[0m\n\u001b[1;32m      1\u001b[0m \u001b[0;32mfrom\u001b[0m \u001b[0mfastai\u001b[0m\u001b[0;34m.\u001b[0m\u001b[0mimports\u001b[0m \u001b[0;32mimport\u001b[0m \u001b[0;34m*\u001b[0m\u001b[0;34m\u001b[0m\u001b[0m\n\u001b[0;32m----> 2\u001b[0;31m \u001b[0;32mfrom\u001b[0m \u001b[0mfastai\u001b[0m\u001b[0;34m.\u001b[0m\u001b[0mstructured\u001b[0m \u001b[0;32mimport\u001b[0m \u001b[0;34m*\u001b[0m\u001b[0;34m\u001b[0m\u001b[0m\n\u001b[0m\u001b[1;32m      3\u001b[0m \u001b[0;32mfrom\u001b[0m \u001b[0msklearn\u001b[0m\u001b[0;34m.\u001b[0m\u001b[0mensemble\u001b[0m \u001b[0;32mimport\u001b[0m \u001b[0mRandomForestRegressor\u001b[0m\u001b[0;34m,\u001b[0m \u001b[0mRandomForestClassifier\u001b[0m\u001b[0;34m\u001b[0m\u001b[0m\n\u001b[1;32m      4\u001b[0m \u001b[0;32mfrom\u001b[0m \u001b[0mIPython\u001b[0m\u001b[0;34m.\u001b[0m\u001b[0mdisplay\u001b[0m \u001b[0;32mimport\u001b[0m \u001b[0mdisplay\u001b[0m\u001b[0;34m\u001b[0m\u001b[0m\n\u001b[1;32m      5\u001b[0m \u001b[0;32mfrom\u001b[0m \u001b[0msklearn\u001b[0m \u001b[0;32mimport\u001b[0m \u001b[0mmetrics\u001b[0m\u001b[0;34m\u001b[0m\u001b[0m\n",
      "\u001b[0;31mModuleNotFoundError\u001b[0m: No module named 'fastai.structured'"
     ]
    }
   ],
   "source": [
    "from fastai.imports import *\n",
    "from fastai.structured import *\n",
    "from sklearn.ensemble import RandomForestRegressor, RandomForestClassifier\n",
    "from IPython.display import display\n",
    "from sklearn import metrics"
   ]
  },
  {
   "cell_type": "markdown",
   "metadata": {},
   "source": [
    "# Load in data"
   ]
  },
  {
   "cell_type": "code",
   "execution_count": 4,
   "metadata": {},
   "outputs": [
    {
     "name": "stdout",
     "output_type": "stream",
     "text": [
      "\u001b[31mData Dictionary.xlsx\u001b[m\u001b[m             \u001b[31mTrainAndValid.zip\u001b[m\u001b[m\r\n",
      "\u001b[31mMachine_Appendix.csv\u001b[m\u001b[m             \u001b[31mValid.7z\u001b[m\u001b[m\r\n",
      "\u001b[31mTest.csv\u001b[m\u001b[m                         \u001b[31mValid.csv\u001b[m\u001b[m\r\n",
      "\u001b[31mTrain.7z\u001b[m\u001b[m                         \u001b[31mValid.zip\u001b[m\u001b[m\r\n",
      "\u001b[31mTrain.csv\u001b[m\u001b[m                        \u001b[31mValidSolution.csv\u001b[m\u001b[m\r\n",
      "\u001b[31mTrain.zip\u001b[m\u001b[m                        \u001b[31mmedian_benchmark.csv\u001b[m\u001b[m\r\n",
      "\u001b[31mTrainAndValid.7z\u001b[m\u001b[m                 \u001b[31mrandom_forest_benchmark_test.csv\u001b[m\u001b[m\r\n",
      "\u001b[31mTrainAndValid.csv\u001b[m\u001b[m                \u001b[34mtmp\u001b[m\u001b[m\r\n"
     ]
    }
   ],
   "source": [
    "# data downloaded from Kaggle competition https://www.kaggle.com/c/bluebook-for-bulldozers/data\n",
    "#PATH = \"~/Code/Data/BlueBookForBulldozers/all/\"\n",
    "PATH = \"/Users/alisonkline/Code/Data/BlueBookForBulldozers/all/\"\n",
    "!ls {PATH}"
   ]
  },
  {
   "cell_type": "code",
   "execution_count": 6,
   "metadata": {},
   "outputs": [
    {
     "name": "stderr",
     "output_type": "stream",
     "text": [
      "/Users/alisonkline/anaconda3/lib/python3.6/site-packages/pandas/io/feather_format.py:112: FutureWarning: `nthreads` argument is deprecated, pass `use_threads` instead\n",
      "  return feather.read_dataframe(path, nthreads=nthreads)\n"
     ]
    },
    {
     "ename": "NameError",
     "evalue": "name 'proc_df' is not defined",
     "output_type": "error",
     "traceback": [
      "\u001b[0;31m---------------------------------------------------------------------------\u001b[0m",
      "\u001b[0;31mNameError\u001b[0m                                 Traceback (most recent call last)",
      "\u001b[0;32m<ipython-input-6-3e9d4abf520a>\u001b[0m in \u001b[0;36m<module>\u001b[0;34m()\u001b[0m\n\u001b[1;32m      1\u001b[0m \u001b[0mtmp_dir\u001b[0m \u001b[0;34m=\u001b[0m \u001b[0mPATH\u001b[0m \u001b[0;34m+\u001b[0m \u001b[0;34m'tmp/'\u001b[0m\u001b[0;34m\u001b[0m\u001b[0m\n\u001b[1;32m      2\u001b[0m \u001b[0mdf_raw\u001b[0m \u001b[0;34m=\u001b[0m \u001b[0mpd\u001b[0m\u001b[0;34m.\u001b[0m\u001b[0mread_feather\u001b[0m\u001b[0;34m(\u001b[0m\u001b[0mtmp_dir\u001b[0m \u001b[0;34m+\u001b[0m \u001b[0;34m'bulldozers-raw'\u001b[0m\u001b[0;34m)\u001b[0m\u001b[0;34m\u001b[0m\u001b[0m\n\u001b[0;32m----> 3\u001b[0;31m \u001b[0mdf_trn\u001b[0m\u001b[0;34m,\u001b[0m \u001b[0my_trn\u001b[0m\u001b[0;34m,\u001b[0m \u001b[0mnas\u001b[0m \u001b[0;34m=\u001b[0m \u001b[0mproc_df\u001b[0m\u001b[0;34m(\u001b[0m\u001b[0mdf_raw\u001b[0m\u001b[0;34m,\u001b[0m \u001b[0;34m'SalePrice'\u001b[0m\u001b[0;34m)\u001b[0m\u001b[0;34m\u001b[0m\u001b[0m\n\u001b[0m",
      "\u001b[0;31mNameError\u001b[0m: name 'proc_df' is not defined"
     ]
    }
   ],
   "source": [
    "tmp_dir = PATH + 'tmp/'\n",
    "df_raw = pd.read_feather(tmp_dir + 'bulldozers-raw')\n",
    "df_trn, y_trn, nas = proc_df(df_raw, 'SalePrice')"
   ]
  },
  {
   "cell_type": "code",
   "execution_count": null,
   "metadata": {
    "collapsed": true
   },
   "outputs": [],
   "source": []
  }
 ],
 "metadata": {
  "kernelspec": {
   "display_name": "Python 3",
   "language": "python",
   "name": "python3"
  },
  "language_info": {
   "codemirror_mode": {
    "name": "ipython",
    "version": 3
   },
   "file_extension": ".py",
   "mimetype": "text/x-python",
   "name": "python",
   "nbconvert_exporter": "python",
   "pygments_lexer": "ipython3",
   "version": "3.6.2"
  }
 },
 "nbformat": 4,
 "nbformat_minor": 2
}
