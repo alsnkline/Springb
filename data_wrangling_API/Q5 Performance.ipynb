{
 "cells": [
  {
   "cell_type": "markdown",
   "metadata": {},
   "source": [
    "# Performance exploration - Calculating values that depend on neighboring values of ordered data in python.\n",
    "Based on Q5 of the SQL mini project, the question was to find the largest change in closing price between any two days?\n",
    "Additionally I wanted to be able to report the max change in price and the dates that it occured between."
   ]
  },
  {
   "cell_type": "code",
   "execution_count": 1,
   "metadata": {
    "collapsed": true
   },
   "outputs": [],
   "source": [
    "#importing packages needed\n",
    "import json\n",
    "import requests\n",
    "from itertools import islice\n",
    "from collections import OrderedDict, namedtuple"
   ]
  },
  {
   "cell_type": "code",
   "execution_count": 2,
   "metadata": {
    "collapsed": true
   },
   "outputs": [],
   "source": [
    "# Reading Quandl API Key\n",
    "with open('Api_key_NO_GIT.json', 'r') as f:\n",
    "    j_data = json.load(f)\n",
    "API_KEY = j_data.get('API_KEY')\n",
    "\n",
    "# url constants:\n",
    "base_url = \"https://www.quandl.com/api/v3/datasets/FSE/AFX_X/data.json\"\n",
    "api_url = \"api_key=\"+API_KEY"
   ]
  },
  {
   "cell_type": "code",
   "execution_count": 3,
   "metadata": {
    "collapsed": true
   },
   "outputs": [],
   "source": [
    "# Create named tuple used to store a day of Trade data retrieved from Quandle:\n",
    "Tradeday = namedtuple('Tradeday', 'date open high low close change traded_vol turn_over last_price d_trad_unit d_turnover')\n"
   ]
  },
  {
   "cell_type": "code",
   "execution_count": 4,
   "metadata": {},
   "outputs": [
    {
     "name": "stdout",
     "output_type": "stream",
     "text": [
      "255 trading days between 2017-01-02 and 2017-12-29\n",
      "('2017-01-02', Tradeday(date='2017-01-02', open=34.99, high=35.94, low=34.99, close=35.8, change=None, traded_vol=44700.0, turn_over=1590561.0, last_price=None, d_trad_unit=None, d_turnover=None))\n"
     ]
    }
   ],
   "source": [
    "# Getting reference data sets - 255 data points 2017\n",
    "afx_2017_url = base_url+\"?start_date=2016-12-31&end_date=2018-01-01&\"+api_url\n",
    "r = requests.get(afx_2017_url)\n",
    "sm_d = {d[0] : Tradeday(*d) for d in r.json()['dataset_data']['data']}\n",
    "# Ensuring data is ordered by date\n",
    "sm_d = OrderedDict(sorted(sm_d.items(), key=lambda t:t[0]))\n",
    "print('{} trading days between {} and {}'.format(len(sm_d), min(sm_d), max(sm_d)))\n",
    "print(list(sm_d.items())[0])"
   ]
  },
  {
   "cell_type": "code",
   "execution_count": 5,
   "metadata": {},
   "outputs": [
    {
     "name": "stdout",
     "output_type": "stream",
     "text": [
      "4643 trading days between 2000-06-07 and 2018-06-07\n",
      "('2000-06-07', Tradeday(date='2000-06-07', open=None, high=None, low=None, close=38.0, change=None, traded_vol=0.0, turn_over=None, last_price=None, d_trad_unit=None, d_turnover=0.0))\n"
     ]
    }
   ],
   "source": [
    "# Getting reference data sets - 4643\n",
    "afx_2017_url = base_url+\"?\"+api_url\n",
    "r = requests.get(afx_2017_url)\n",
    "md_d = {d[0] : Tradeday(*d) for d in r.json()['dataset_data']['data']}\n",
    "# Ensuring data is ordered by date\n",
    "md_d = OrderedDict(sorted(md_d.items(), key=lambda t:t[0]))\n",
    "print('{} trading days between {} and {}'.format(len(md_d), min(md_d), max(md_d)))\n",
    "print(list(md_d.items())[0])"
   ]
  },
  {
   "cell_type": "markdown",
   "metadata": {},
   "source": [
    "## Exploring the time taken for 3 one line solutions"
   ]
  },
  {
   "cell_type": "markdown",
   "metadata": {},
   "source": [
    "Method 1 is a partial one liner using islice although its partial because it doesn't capture the date information "
   ]
  },
  {
   "cell_type": "code",
   "execution_count": 6,
   "metadata": {},
   "outputs": [],
   "source": [
    "def method1(data):\n",
    "    # using islice in a list comprehension\n",
    "    return max(\n",
    "        (abs(v.close-next(islice(data.values(), i+1, i+2)).close), v.date, next(islice(data.values(), i+1, i+2)).date)\n",
    "        for i, v in enumerate(data.values()) if i < len(data)-1)"
   ]
  },
  {
   "cell_type": "markdown",
   "metadata": {},
   "source": [
    "Method 2 is a cleaner one line solution thank you @DyZ and <a href=\"https://stackoverflow.com/questions/50770868/best-way-to-calculate-max-diffs-between-items-in-a-dictionary\" target=\"_blank\">this SO question</a>. Although also missing the date information it got me on the right path."
   ]
  },
  {
   "cell_type": "code",
   "execution_count": 7,
   "metadata": {},
   "outputs": [],
   "source": [
    "def method2(data):\n",
    "    # using zip to create tuples of neighbouring data\n",
    "    ans = max(abs(u.close-v.close) for u,v in zip(list(data.values()),list(data.values())[1:]))\n",
    "    return (ans,'n/a','n/a')"
   ]
  },
  {
   "cell_type": "markdown",
   "metadata": {},
   "source": [
    "Method 3 is a complete one line solution - separated into two for readability:"
   ]
  },
  {
   "cell_type": "code",
   "execution_count": 8,
   "metadata": {},
   "outputs": [],
   "source": [
    "def method3(data):\n",
    "    # extention of method2 to get date information also in a tuple \n",
    "    return max([(abs(u.close-v.close), u.date, v.date) for u, v in zip(list(data.values()),list(data.values())[1:])])"
   ]
  },
  {
   "cell_type": "code",
   "execution_count": 9,
   "metadata": {},
   "outputs": [
    {
     "name": "stdout",
     "output_type": "stream",
     "text": [
      "method1: 2.56, Between trading days 2017-08-08 and 2017-08-09\n",
      "method2: 2.56, Between trading days n/a and n/a\n",
      "method3: 2.56, Between trading days 2017-08-08 and 2017-08-09\n"
     ]
    }
   ],
   "source": [
    "methods = [method1, method2, method3]\n",
    "answers =[(m.__name__, m(sm_d)) for m in methods]\n",
    "for a in answers:\n",
    "    (ans, fr_date, to_date) = a[1]\n",
    "    print('{}: {:.2f}, Between trading days {} and {}'.format(a[0], ans, fr_date, to_date))"
   ]
  },
  {
   "cell_type": "code",
   "execution_count": 10,
   "metadata": {},
   "outputs": [
    {
     "name": "stdout",
     "output_type": "stream",
     "text": [
      "4.39 ms ± 637 µs per loop (mean ± std. dev. of 7 runs, 100 loops each)\n"
     ]
    }
   ],
   "source": [
    "%timeit method1(sm_d)"
   ]
  },
  {
   "cell_type": "code",
   "execution_count": 11,
   "metadata": {},
   "outputs": [
    {
     "name": "stdout",
     "output_type": "stream",
     "text": [
      "110 µs ± 2.73 µs per loop (mean ± std. dev. of 7 runs, 10000 loops each)\n"
     ]
    }
   ],
   "source": [
    "%timeit method2(sm_d)"
   ]
  },
  {
   "cell_type": "code",
   "execution_count": 12,
   "metadata": {},
   "outputs": [
    {
     "name": "stdout",
     "output_type": "stream",
     "text": [
      "159 µs ± 1.23 µs per loop (mean ± std. dev. of 7 runs, 10000 loops each)\n"
     ]
    }
   ],
   "source": [
    "%timeit method3(sm_d)"
   ]
  },
  {
   "cell_type": "code",
   "execution_count": 13,
   "metadata": {},
   "outputs": [
    {
     "name": "stdout",
     "output_type": "stream",
     "text": [
      "method1: 7.00, Between trading days 2000-06-08 and 2000-06-09\n",
      "method2: 7.00, Between trading days n/a and n/a\n",
      "method3: 7.00, Between trading days 2000-06-08 and 2000-06-09\n"
     ]
    }
   ],
   "source": [
    "answers =[(m.__name__, m(md_d)) for m in methods]\n",
    "for a in answers:\n",
    "    (ans, fr_date, to_date) = a[1]\n",
    "    print('{}: {:.2f}, Between trading days {} and {}'.format(a[0], ans, fr_date, to_date))"
   ]
  },
  {
   "cell_type": "code",
   "execution_count": 14,
   "metadata": {},
   "outputs": [
    {
     "name": "stdout",
     "output_type": "stream",
     "text": [
      "960 ms ± 5.54 ms per loop (mean ± std. dev. of 7 runs, 1 loop each)\n"
     ]
    }
   ],
   "source": [
    "%timeit method1(md_d)"
   ]
  },
  {
   "cell_type": "code",
   "execution_count": 15,
   "metadata": {},
   "outputs": [
    {
     "name": "stdout",
     "output_type": "stream",
     "text": [
      "2.36 ms ± 308 µs per loop (mean ± std. dev. of 7 runs, 100 loops each)\n"
     ]
    }
   ],
   "source": [
    "%timeit method2(md_d)"
   ]
  },
  {
   "cell_type": "code",
   "execution_count": 16,
   "metadata": {},
   "outputs": [
    {
     "name": "stdout",
     "output_type": "stream",
     "text": [
      "3.36 ms ± 137 µs per loop (mean ± std. dev. of 7 runs, 100 loops each)\n"
     ]
    }
   ],
   "source": [
    "%timeit method3(md_d)"
   ]
  },
  {
   "cell_type": "markdown",
   "metadata": {},
   "source": [
    "## Exploring the time taken for 3 for loop solutions"
   ]
  },
  {
   "cell_type": "code",
   "execution_count": 17,
   "metadata": {},
   "outputs": [],
   "source": [
    "#%%timeit\n",
    "def method4(data): \n",
    "    #flatten data into list of (k,v) tuples and iterate over a range\n",
    "    d_list = list(data.items())\n",
    "    ans, fr_date, to_date  = 0, '', ''\n",
    "\n",
    "    for i in range(len(data)-1):\n",
    "        change = abs(d_list[i][1].close-d_list[i+1][1].close)\n",
    "        if change > ans:\n",
    "            ans, fr_date, to_date = change, d_list[i][1].date, d_list[i+1][1].date\n",
    "    return (ans, fr_date, to_date)"
   ]
  },
  {
   "cell_type": "code",
   "execution_count": 18,
   "metadata": {},
   "outputs": [],
   "source": [
    "#%%timeit\n",
    "def method5(data): \n",
    "    # Avoiding creating a list in memory by using islice in loop to extract the data.\n",
    "    ans, fr_date, to_date = 0, '', ''\n",
    "    for i, v in enumerate(data.values()):\n",
    "        if i < len(sm_d)-1:\n",
    "            ch = abs(v.close-next(islice(data.values(), i+1, i+2)).close)\n",
    "            if ch > ans:\n",
    "                ans, fr_date, to_date = ch, v.date, next(islice(data.values(), i+1, i+2)).date\n",
    "    return (ans, fr_date, to_date)"
   ]
  },
  {
   "cell_type": "code",
   "execution_count": 19,
   "metadata": {},
   "outputs": [],
   "source": [
    "#%%timeit\n",
    "def method6(data):\n",
    "    # A simpler loop interator and two islices.\n",
    "    ans, fr_date, to_date = 0, '', ''\n",
    "    for i in range(len(data)-1):\n",
    "        ch = abs(next(islice(data.values(), i, i+1)).close-next(islice(data.values(), i+1, i+2)).close)\n",
    "        if ch > ans:\n",
    "            ans, fr_date, to_date = ch, next(islice(data.values(), i, i+1)).date, next(islice(data.values(), i+1, i+2)).date\n",
    "    return (ans, fr_date, to_date)"
   ]
  },
  {
   "cell_type": "code",
   "execution_count": 20,
   "metadata": {},
   "outputs": [
    {
     "name": "stdout",
     "output_type": "stream",
     "text": [
      "method4: 2.56, Between trading days 2017-08-08 and 2017-08-09\n",
      "method5: 2.56, Between trading days 2017-08-08 and 2017-08-09\n",
      "method6: 2.56, Between trading days 2017-08-08 and 2017-08-09\n"
     ]
    }
   ],
   "source": [
    "methods2 = [method4, method5, method6]\n",
    "answers =[(m.__name__, m(sm_d)) for m in methods2]\n",
    "for a in answers:\n",
    "    (ans, fr_date, to_date) = a[1]\n",
    "    print('{}: {:.2f}, Between trading days {} and {}'.format(a[0], ans, fr_date, to_date))"
   ]
  },
  {
   "cell_type": "code",
   "execution_count": 21,
   "metadata": {},
   "outputs": [
    {
     "name": "stdout",
     "output_type": "stream",
     "text": [
      "130 µs ± 15.5 µs per loop (mean ± std. dev. of 7 runs, 10000 loops each)\n"
     ]
    }
   ],
   "source": [
    "%timeit method4(sm_d)"
   ]
  },
  {
   "cell_type": "code",
   "execution_count": 22,
   "metadata": {},
   "outputs": [
    {
     "name": "stdout",
     "output_type": "stream",
     "text": [
      "1.62 ms ± 203 µs per loop (mean ± std. dev. of 7 runs, 1000 loops each)\n"
     ]
    }
   ],
   "source": [
    "%timeit method5(sm_d)"
   ]
  },
  {
   "cell_type": "code",
   "execution_count": 23,
   "metadata": {},
   "outputs": [
    {
     "name": "stdout",
     "output_type": "stream",
     "text": [
      "3.17 ms ± 704 µs per loop (mean ± std. dev. of 7 runs, 100 loops each)\n"
     ]
    }
   ],
   "source": [
    "%timeit method6(sm_d)"
   ]
  },
  {
   "cell_type": "code",
   "execution_count": 24,
   "metadata": {},
   "outputs": [
    {
     "name": "stdout",
     "output_type": "stream",
     "text": [
      "method4: 7.00, Between trading days 2000-06-08 and 2000-06-09\n",
      "method5: 7.00, Between trading days 2000-06-08 and 2000-06-09\n",
      "method6: 7.00, Between trading days 2000-06-08 and 2000-06-09\n"
     ]
    }
   ],
   "source": [
    "answers =[(m.__name__, m(md_d)) for m in methods2]\n",
    "for a in answers:\n",
    "    (ans, fr_date, to_date) = a[1]\n",
    "    print('{}: {:.2f}, Between trading days {} and {}'.format(a[0], ans, fr_date, to_date))"
   ]
  },
  {
   "cell_type": "code",
   "execution_count": 25,
   "metadata": {},
   "outputs": [
    {
     "name": "stdout",
     "output_type": "stream",
     "text": [
      "3.69 ms ± 1.14 ms per loop (mean ± std. dev. of 7 runs, 100 loops each)\n"
     ]
    }
   ],
   "source": [
    "%timeit method4(md_d)"
   ]
  },
  {
   "cell_type": "code",
   "execution_count": 26,
   "metadata": {},
   "outputs": [
    {
     "name": "stdout",
     "output_type": "stream",
     "text": [
      "2.5 ms ± 76.8 µs per loop (mean ± std. dev. of 7 runs, 100 loops each)\n"
     ]
    }
   ],
   "source": [
    "%timeit method5(md_d)"
   ]
  },
  {
   "cell_type": "code",
   "execution_count": 27,
   "metadata": {},
   "outputs": [
    {
     "name": "stdout",
     "output_type": "stream",
     "text": [
      "1.15 s ± 261 ms per loop (mean ± std. dev. of 7 runs, 1 loop each)\n"
     ]
    }
   ],
   "source": [
    "%timeit method6(md_d)"
   ]
  },
  {
   "cell_type": "markdown",
   "metadata": {},
   "source": [
    "## Results Summary\n",
    "\n",
    "| Method | Desc | Test | Results |\n",
    "|---|:---:|---|:---|\n",
    "| method1 | islice in list comp | sm: | 3 ms ± 101 µs per loop (mean ± std. dev. of 7 runs, 100 loops each)<br/>4.39 ms ± 637 µs per loop (mean ± std. dev. of 7 runs, 100 loops each)\n",
    "| | | md: | 489 ms ± 22.4 ms per loop (mean ± std. dev. of 7 runs, 1 loop each)<br>960 ms ± 5.54 ms per loop (mean ± std. dev. of 7 runs, 1 loop each) |\n",
    "| method2 | zip in list comp partial | sm: | 112 µs ± 1.91 µs per loop (mean ± std. dev. of 7 runs, 10000 loops each)<br>110 µs ± 2.73 µs per loop (mean ± std. dev. of 7 runs, 10000 loops each)\n",
    "| | | md: | 2.49 ms ± 433 µs per loop (mean ± std. dev. of 7 runs, 100 loops each)<br>2.36 ms ± 308 µs per loop (mean ± std. dev. of 7 runs, 100 loops each) |\n",
    "| method3 | zip in list comp full | sm: | 160 µs ± 1.85 µs per loop (mean ± std. dev. of 7 runs, 10000 loops each)<br>      159 µs ± 1.23 µs per loop (mean ± std. dev. of 7 runs, 10000 loops each)\n",
    "| | | md: | 4.08 ms ± 312 µs per loop (mean ± std. dev. of 7 runs, 100 loops each)<br>3.36 ms ± 137 µs per loop (mean ± std. dev. of 7 runs, 100 loops each) |\n",
    "| method4 | for loop list in memory | sm: | 123 µs ± 5.35 µs per loop (mean ± std. dev. of 7 runs, 10000 loops each)<br>130 µs ± 15.5 µs per loop (mean ± std. dev. of 7 runs, 10000 loops each)\n",
    "| | | md: | 2.61 ms ± 92.5 µs per loop (mean ± std. dev. of 7 runs, 100 loops each)<br>3.69 ms ± 1.14 ms per loop (mean ± std. dev. of 7 runs, 100 loops each) |\n",
    "| method5 | for loop on enumerate values and islice | sm: | 1.73 ms ± 179 µs per loop (mean ± std. dev. of 7 runs, 1000 loops each)<br>     1.62 ms ± 203 µs per loop (mean ± std. dev. of 7 runs, 1000 loops each)\n",
    "| | | md: | 2.86 ms ± 416 µs per loop (mean ± std. dev. of 7 runs, 100 loops each)<br>2.5 ms ± 76.8 µs per loop (mean ± std. dev. of 7 runs, 100 loops each) |\n",
    "| method6 | simple range for loop two islices | sm: | 2.98 ms ± 29.5 µs per loop (mean ± std. dev. of 7 runs, 100 loops each)<br>     3.17 ms ± 704 µs per loop (mean ± std. dev. of 7 runs, 100 loops each)\n",
    "| | | md: | 1.15 s ± 235 ms per loop (mean ± std. dev. of 7 runs, 1 loop each)<br>1.15 s ± 261 ms per loop (mean ± std. dev. of 7 runs, 1 loop each) |\n"
   ]
  },
  {
   "cell_type": "markdown",
   "metadata": {},
   "source": [
    "When we only have 255 days of data method4 (pulling the entire list into memory and running a simple for loop over it) was quickest at ~123µs with method3 (the full zip in list comprehension) a close second at 160 µs\n",
    "\n",
    "When we are dealing with the larger (but still really quite small) data set with 4643 days of data then method4 (list in memory) was still one of the fastest however method5 (the enumerate in for loop using islice) was performing just as well. method3 (the full zip in list comprehension) was just a little behind these two.\n",
    "\n",
    "method1 (islice in list comp) and method6 (simple range for loop with two islices) were slow and got horribly slow.\n",
    "\n",
    "The only method that didn't seem to slow down at a faster rate than the change in N (255->4643) was method5, I'm thinking that is because it uses efficient enumeration to calculate the change and only gets the islice date information when the change is larger than the currently tracked change - ie not for every change calculation. This will depend on the data being tested so is definately not worst case."
   ]
  },
  {
   "cell_type": "markdown",
   "metadata": {},
   "source": [
    "Here's a quick and dirty visualization of the results gathered here:"
   ]
  },
  {
   "cell_type": "code",
   "execution_count": 29,
   "metadata": {},
   "outputs": [
    {
     "data": {
      "image/png": "[encoded data removed]",
      "text/plain": [
       "<IPython.core.display.Image object>"
      ]
     },
     "execution_count": 29,
     "metadata": {},
     "output_type": "execute_result"
    }
   ],
   "source": [
    "from IPython.display import Image\n",
    "Image(\"results_viz.png\")"
   ]
  },
  {
   "cell_type": "code",
   "execution_count": null,
   "metadata": {
    "collapsed": true
   },
   "outputs": [],
   "source": []
  }
 ],
 "metadata": {
  "kernelspec": {
   "display_name": "Python 3",
   "language": "python",
   "name": "python3"
  },
  "language_info": {
   "codemirror_mode": {
    "name": "ipython",
    "version": 3
   },
   "file_extension": ".py",
   "mimetype": "text/x-python",
   "name": "python",
   "nbconvert_exporter": "python",
   "pygments_lexer": "ipython3",
   "version": "3.6.2"
  }
 },
 "nbformat": 4,
 "nbformat_minor": 2
}
