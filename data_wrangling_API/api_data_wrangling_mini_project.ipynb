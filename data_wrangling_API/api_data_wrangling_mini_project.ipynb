{
 "cells": [
  {
   "cell_type": "markdown",
   "metadata": {},
   "source": [
    "This exercise will require you to pull some data from the Qunadl API. Qaundl is currently the most widely used aggregator of financial market data."
   ]
  },
  {
   "cell_type": "markdown",
   "metadata": {},
   "source": [
    "As a first step, you will need to register a free account on the http://www.quandl.com website."
   ]
  },
  {
   "cell_type": "markdown",
   "metadata": {},
   "source": [
    "After you register, you will be provided with a unique API key, that you should store:"
   ]
  },
  {
   "cell_type": "code",
   "execution_count": 1,
   "metadata": {
    "collapsed": true
   },
   "outputs": [],
   "source": [
    "import json\n",
    "with open('Api_key_NO_GIT.json', 'r') as f:\n",
    "    j_data = json.load(f)\n",
    "# Store the API key as a string - according to PEP8, constants are always named in all upper case\n",
    "API_KEY = j_data.get('API_KEY')"
   ]
  },
  {
   "cell_type": "markdown",
   "metadata": {},
   "source": [
    "Qaundl has a large number of data sources, but, unfortunately, most of them require a Premium subscription. Still, there are also a good number of free datasets."
   ]
  },
  {
   "cell_type": "markdown",
   "metadata": {},
   "source": [
    "For this mini project, we will focus on equities data from the Frankfurt Stock Exhange (FSE), which is available for free. We'll try and analyze the stock prices of a company called Carl Zeiss Meditec, which manufactures tools for eye examinations, as well as medical lasers for laser eye surgery: https://www.zeiss.com/meditec/int/home.html. The company is listed under the stock ticker AFX_X."
   ]
  },
  {
   "cell_type": "markdown",
   "metadata": {},
   "source": [
    "You can find the detailed Quandl API instructions here: https://docs.quandl.com/docs/time-series"
   ]
  },
  {
   "cell_type": "markdown",
   "metadata": {},
   "source": [
    "While there is a dedicated Python package for connecting to the Quandl API, we would prefer that you use the *requests* package, which can be easily downloaded using *pip* or *conda*. You can find the documentation for the package here: http://docs.python-requests.org/en/master/ "
   ]
  },
  {
   "cell_type": "markdown",
   "metadata": {},
   "source": [
    "Finally, apart from the *requests* package, you are encouraged to not use any third party Python packages, such as *pandas*, and instead focus on what's available in the Python Standard Library (the *collections* module might come in handy: https://pymotw.com/3/collections/).\n",
    "Also, since you won't have access to DataFrames, you are encouraged to us Python's native data structures - preferably dictionaries, though some questions can also be answered using lists.\n",
    "You can read more on these data structures here: https://docs.python.org/3/tutorial/datastructures.html"
   ]
  },
  {
   "cell_type": "markdown",
   "metadata": {},
   "source": [
    "Keep in mind that the JSON responses you will be getting from the API map almost one-to-one to Python's dictionaries. Unfortunately, they can be very nested, so make sure you read up on indexing dictionaries in the documentation provided above."
   ]
  },
  {
   "cell_type": "code",
   "execution_count": 2,
   "metadata": {
    "collapsed": true
   },
   "outputs": [],
   "source": [
    "# First, import the relevant modules\n",
    "import requests\n",
    "import pprint\n",
    "pp = pprint.PrettyPrinter(indent=4)\n",
    "from collections import OrderedDict, defaultdict, namedtuple"
   ]
  },
  {
   "cell_type": "code",
   "execution_count": 3,
   "metadata": {},
   "outputs": [],
   "source": [
    "# Now, call the Quandl API and pull out a small sample of the data (only one day) to get a glimpse\n",
    "# into the JSON structure that will be returned\n",
    "base_url = \"https://www.quandl.com/api/v3/datasets/FSE/AFX_X/data.json\"\n",
    "api_url = \"&api_key=\"+API_KEY\n",
    "url = base_url+\"?limit=1\"+api_url\n",
    "r = requests.get(url)"
   ]
  },
  {
   "cell_type": "code",
   "execution_count": 4,
   "metadata": {},
   "outputs": [
    {
     "name": "stdout",
     "output_type": "stream",
     "text": [
      "{   'dataset_data': {   'collapse': None,\n",
      "                        'column_index': None,\n",
      "                        'column_names': [   'Date',\n",
      "                                            'Open',\n",
      "                                            'High',\n",
      "                                            'Low',\n",
      "                                            'Close',\n",
      "                                            'Change',\n",
      "                                            'Traded Volume',\n",
      "                                            'Turnover',\n",
      "                                            'Last Price of the Day',\n",
      "                                            'Daily Traded Units',\n",
      "                                            'Daily Turnover'],\n",
      "                        'data': [   [   '2018-06-07',\n",
      "                                        None,\n",
      "                                        60.85,\n",
      "                                        59.65,\n",
      "                                        59.95,\n",
      "                                        None,\n",
      "                                        84215.0,\n",
      "                                        5062604.0,\n",
      "                                        None,\n",
      "                                        None,\n",
      "                                        None]],\n",
      "                        'end_date': '2018-06-07',\n",
      "                        'frequency': 'daily',\n",
      "                        'limit': 1,\n",
      "                        'order': None,\n",
      "                        'start_date': '2000-06-07',\n",
      "                        'transform': None}}\n"
     ]
    }
   ],
   "source": [
    "# Inspect the JSON structure of the object you created, and take note of how nested it is,\n",
    "# as well as the overall structure\n",
    "pp.pprint(r.json())"
   ]
  },
  {
   "cell_type": "markdown",
   "metadata": {},
   "source": [
    "These are your tasks for this mini project:\n",
    "\n",
    "1. Collect data from the Franfurt Stock Exchange, for the ticker AFX_X, for the whole year 2017 (keep in mind that the date format is YYYY-MM-DD).\n",
    "2. Convert the returned JSON object into a Python dictionary.\n",
    "3. Calculate what the highest and lowest opening prices were for the stock in this period.\n",
    "4. What was the largest change in any one day (based on High and Low price)?\n",
    "5. What was the largest change between any two days (based on Closing Price)?\n",
    "6. What was the average daily trading volume during this year?\n",
    "7. (Optional) What was the median trading volume during this year. (Note: you may need to implement your own function for calculating the median.)"
   ]
  },
  {
   "cell_type": "markdown",
   "metadata": {},
   "source": [
    "# 1. 2017 data for the ticker AFX_X"
   ]
  },
  {
   "cell_type": "code",
   "execution_count": 5,
   "metadata": {},
   "outputs": [],
   "source": [
    "afx_2017_url = base_url+\"?start_date=2016-12-31&end_date=2018-01-01\"+api_url\n",
    "r = requests.get(afx_2017_url)"
   ]
  },
  {
   "cell_type": "code",
   "execution_count": 6,
   "metadata": {},
   "outputs": [
    {
     "name": "stdout",
     "output_type": "stream",
     "text": [
      "['Date', 'Open', 'High', 'Low', 'Close', 'Change', 'Traded Volume', 'Turnover', 'Last Price of the Day', 'Daily Traded Units', 'Daily Turnover']\n",
      "['2017-12-29', 51.76, 51.94, 51.45, 51.76, None, 34640.0, 1792304.0, None, None, None]\n",
      "['2017-01-02', 34.99, 35.94, 34.99, 35.8, None, 44700.0, 1590561.0, None, None, None]\n"
     ]
    }
   ],
   "source": [
    "# columns in data\n",
    "print(r.json()['dataset_data']['column_names'])\n",
    "# first and last item in data confirming I have all 2017 information\n",
    "print(r.json()['dataset_data']['data'][0])\n",
    "print(r.json()['dataset_data']['data'][-1])"
   ]
  },
  {
   "cell_type": "markdown",
   "metadata": {},
   "source": [
    "# 2. Converting to a python dictionary"
   ]
  },
  {
   "cell_type": "code",
   "execution_count": 7,
   "metadata": {},
   "outputs": [],
   "source": [
    "Tradeday = namedtuple('Tradeday', 'date open high low close change traded_vol turn_over last_price d_trad_unit d_turnover')\n",
    "\n",
    "# one line conversion\n",
    "data = {d[0] : Tradeday(*d) for d in r.json()['dataset_data']['data']}\n",
    "\n",
    "# another way using a for loop\n",
    "data2 = defaultdict(list) \n",
    "for d in r.json()['dataset_data']['data']:\n",
    "    data2[d[0]] = Tradeday(*d)\n",
    "    "
   ]
  },
  {
   "cell_type": "markdown",
   "metadata": {},
   "source": [
    "# 3. Highest and lowest opening prices "
   ]
  },
  {
   "cell_type": "code",
   "execution_count": 8,
   "metadata": {},
   "outputs": [
    {
     "name": "stdout",
     "output_type": "stream",
     "text": [
      "No listed open price due to public holiday on: 2017-05-01\n",
      "No listed open price due to public holiday on: 2017-04-17\n",
      "No listed open price due to public holiday on: 2017-04-14\n",
      "\n",
      "The highest open price in 2017 was: 53.11 on 2017-12-14\n",
      "The lowest open price in 2017 was: 34.00 on 2017-01-24\n"
     ]
    }
   ],
   "source": [
    "for v in data.values():\n",
    "    if not v.open:\n",
    "        print ('No listed open price due to public holiday on: {}'.format(v.date))\n",
    "    \n",
    "high = max(v.open for v in data.values() if v.open)\n",
    "hi_date = [v for v in data.values() if v.open == high][0][0]\n",
    "print('\\nThe highest open price in 2017 was: {:.2f} on {}'.format(high, hi_date))\n",
    "\n",
    "low = min(v.open for v in data.values() if v.open)\n",
    "lo_date = [v for v in data.values() if v.open == low][0][0]\n",
    "print('The lowest open price in 2017 was: {:.2f} on {}'.format(low, lo_date))\n"
   ]
  },
  {
   "cell_type": "markdown",
   "metadata": {},
   "source": [
    "# 4. What was the largest change in any one day\n",
    "based on high and low price."
   ]
  },
  {
   "cell_type": "code",
   "execution_count": 9,
   "metadata": {},
   "outputs": [
    {
     "name": "stdout",
     "output_type": "stream",
     "text": [
      "The largest trading range in 2017 was: 2.81 on 2017-05-11\n"
     ]
    }
   ],
   "source": [
    "p_range = max(v.high-v.low for v in data.values())\n",
    "p_range_date = [v for v in data.values() if v.high-v.low == p_range][0][0]\n",
    "print('The largest trading range in 2017 was: {:.2f} on {}'.format(p_range, p_range_date))\n"
   ]
  },
  {
   "cell_type": "markdown",
   "metadata": {},
   "source": [
    "# 5. Largest change between any two days?\n",
    "Based on Closing Price"
   ]
  },
  {
   "cell_type": "code",
   "execution_count": 10,
   "metadata": {
    "collapsed": true
   },
   "outputs": [],
   "source": [
    "# Ensuring data is ordered by date\n",
    "o_data = OrderedDict(sorted(data.items(), key=lambda t:t[0]))"
   ]
  },
  {
   "cell_type": "code",
   "execution_count": 16,
   "metadata": {
    "scrolled": true
   },
   "outputs": [
    {
     "name": "stdout",
     "output_type": "stream",
     "text": [
      "125 µs ± 9.67 µs per loop (mean ± std. dev. of 7 runs, 10000 loops each)\n"
     ]
    }
   ],
   "source": [
    "%%timeit\n",
    "# Method 1: flatten data into list of (k,v) tuples and iterate over a range\n",
    "od_list = list(o_data.items())\n",
    "max_change, max_st, max_ed  = 0, '', ''\n",
    "\n",
    "for i in range(len(o_data)-1):\n",
    "    change = abs(od_list[i][1].close-od_list[i+1][1].close)\n",
    "    if change > max_change:\n",
    "        max_change, max_st, max_ed = change, od_list[i][1].date, od_list[i+1][1].date\n",
    "\n",
    "# Un comment to print all close prices for QA\n",
    "#[print(i[1].date, i[1].close) for i in od_list] "
   ]
  },
  {
   "cell_type": "code",
   "execution_count": 15,
   "metadata": {},
   "outputs": [
    {
     "name": "stdout",
     "output_type": "stream",
     "text": [
      "The largest intraday price change was: 2.56\n",
      "Between trading days 2017-08-08 and 2017-08-09\n"
     ]
    }
   ],
   "source": [
    "print('The largest intraday price change was: {:.2f}'.format(max_change))\n",
    "print('Between trading days {} and {}'.format(max_st, max_ed))"
   ]
  },
  {
   "cell_type": "code",
   "execution_count": 17,
   "metadata": {
    "collapsed": true
   },
   "outputs": [],
   "source": [
    "from itertools import islice"
   ]
  },
  {
   "cell_type": "code",
   "execution_count": 21,
   "metadata": {},
   "outputs": [
    {
     "name": "stdout",
     "output_type": "stream",
     "text": [
      "1.57 ms ± 129 µs per loop (mean ± std. dev. of 7 runs, 1000 loops each)\n"
     ]
    }
   ],
   "source": [
    "%%timeit\n",
    "# A one liner as I wanted to explore using islice and thought it should be possible\n",
    "max_ch_ol = max(abs(v.close-next(islice(o_data.values(), i+1, i+2)).close) for i, v in enumerate(o_data.values()) if i < len(o_data)-1)\n",
    "# A cleaner one line solution\n",
    "max(abs(u.close-v.close) for u,v in zip(list(o_data.values()),list(o_data.values())[1:]))"
   ]
  },
  {
   "cell_type": "code",
   "execution_count": 20,
   "metadata": {},
   "outputs": [
    {
     "name": "stdout",
     "output_type": "stream",
     "text": [
      "A one liner using islice: 2.56\n"
     ]
    }
   ],
   "source": [
    "print('A one liner using islice: {:.2f}'.format(max_ch_ol))"
   ]
  },
  {
   "cell_type": "code",
   "execution_count": 24,
   "metadata": {},
   "outputs": [
    {
     "name": "stdout",
     "output_type": "stream",
     "text": [
      "1.58 ms ± 84.5 µs per loop (mean ± std. dev. of 7 runs, 1000 loops each)\n"
     ]
    }
   ],
   "source": [
    "%%timeit\n",
    "# Method 2: Avoiding creating a list in memory by using islice needed to loop to extract the dates.\n",
    "mx, st, en = 0, '', ''\n",
    "for i, v in enumerate(o_data.values()):\n",
    "    if i < len(o_data)-1:\n",
    "        ch = abs(v.close-next(islice(o_data.values(), i+1, i+2)).close)\n",
    "        if ch > mx:\n",
    "            mx, st, en = ch, v.date, next(islice(o_data.values(), i+1, i+2)).date\n"
   ]
  },
  {
   "cell_type": "code",
   "execution_count": 23,
   "metadata": {},
   "outputs": [
    {
     "name": "stdout",
     "output_type": "stream",
     "text": [
      "The largest intraday price change was: 2.56\n",
      "Between trading days 2017-08-08 and 2017-08-09\n"
     ]
    }
   ],
   "source": [
    "print('The largest intraday price change was: {:.2f}'.format(mx))\n",
    "print('Between trading days {} and {}'.format(st, en))"
   ]
  },
  {
   "cell_type": "code",
   "execution_count": 27,
   "metadata": {},
   "outputs": [
    {
     "name": "stdout",
     "output_type": "stream",
     "text": [
      "2.87 ms ± 52.2 µs per loop (mean ± std. dev. of 7 runs, 100 loops each)\n"
     ]
    }
   ],
   "source": [
    "%%timeit\n",
    "# As the list seems faster trying the simpler loop interator - SLOWEST YET!.\n",
    "mx1, st1, en1 = 0, '', ''\n",
    "for i in range(len(o_data)-1):\n",
    "    ch = abs(next(islice(o_data.values(), i, i+1)).close-next(islice(o_data.values(), i+1, i+2)).close)\n",
    "    if ch > mx1:\n",
    "         mx1, st1, en1 = ch, next(islice(o_data.values(), i, i+1)).date, next(islice(o_data.values(), i+1, i+2)).date\n"
   ]
  },
  {
   "cell_type": "code",
   "execution_count": 28,
   "metadata": {},
   "outputs": [
    {
     "name": "stdout",
     "output_type": "stream",
     "text": [
      "The largest intraday price change was: 2.56\n",
      "Between trading days 2017-08-08 and 2017-08-09\n"
     ]
    }
   ],
   "source": [
    "print('The largest intraday price change was: {:.2f}'.format(mx1))\n",
    "print('Between trading days {} and {}'.format(st1, en1))"
   ]
  },
  {
   "cell_type": "markdown",
   "metadata": {},
   "source": [
    "# 6. Average daily trading volume during this year?"
   ]
  },
  {
   "cell_type": "code",
   "execution_count": 29,
   "metadata": {},
   "outputs": [
    {
     "name": "stdout",
     "output_type": "stream",
     "text": [
      "The ave trading volume in 2017 was: 89124.34\n",
      "\n",
      "Running calc:\n",
      "    .. 20 days of the year: 95779.60\n",
      "    .. 40 days of the year: 83683.48\n",
      "    .. 60 days of the year: 75834.52\n",
      "    .. 80 days of the year: 76223.94\n",
      "    .. 100 days of the year: 84965.96\n",
      "    .. 120 days of the year: 86845.85\n",
      "    .. 140 days of the year: 87302.20\n",
      "    .. 160 days of the year: 84394.18\n",
      "    .. 180 days of the year: 87820.66\n",
      "    .. 200 days of the year: 95502.14\n",
      "    .. 220 days of the year: 92269.95\n",
      "    .. 240 days of the year: 90507.28\n",
      "Ave volume for all 2017 is 89124.34\n"
     ]
    }
   ],
   "source": [
    "vol_list = [v.traded_vol for v in data.values()]\n",
    "ave_vol = sum(vol_list)/len(vol_list)\n",
    "print('The ave trading volume in 2017 was: {:.2f}'.format(ave_vol))\n",
    "\n",
    "ave_vol = 0\n",
    "print('\\nRunning calc:')\n",
    "for idx, vol in enumerate(vol_list, 1):\n",
    "    ave_vol = (ave_vol * (idx-1) + vol)/idx\n",
    "    if idx % 20 == 0:\n",
    "        print('    .. {} days of the year: {:.2f}'.format(idx,ave_vol))\n",
    "print('Ave volume for all 2017 is {:.2f}'.format(ave_vol))"
   ]
  },
  {
   "cell_type": "markdown",
   "metadata": {},
   "source": [
    "# 7. What was the median trading volume during this year?"
   ]
  },
  {
   "cell_type": "code",
   "execution_count": 30,
   "metadata": {},
   "outputs": [
    {
     "name": "stdout",
     "output_type": "stream",
     "text": [
      "Median volume for 2017 is 76286.00\n"
     ]
    }
   ],
   "source": [
    "def median(lst):\n",
    "    qu, re = divmod(len(lst),2)\n",
    "    srt = sorted(lst)\n",
    "    if re:\n",
    "        return srt[qu]\n",
    "    return (srt[qu-1]+srt[qu])/2.\n",
    "\n",
    "med = median(vol_list)\n",
    "print('Median volume for 2017 is {:.2f}'.format(med))"
   ]
  },
  {
   "cell_type": "code",
   "execution_count": null,
   "metadata": {
    "collapsed": true
   },
   "outputs": [],
   "source": []
  }
 ],
 "metadata": {
  "kernelspec": {
   "display_name": "Python 3",
   "language": "python",
   "name": "python3"
  },
  "language_info": {
   "codemirror_mode": {
    "name": "ipython",
    "version": 3
   },
   "file_extension": ".py",
   "mimetype": "text/x-python",
   "name": "python",
   "nbconvert_exporter": "python",
   "pygments_lexer": "ipython3",
   "version": "3.6.2"
  }
 },
 "nbformat": 4,
 "nbformat_minor": 2
}
